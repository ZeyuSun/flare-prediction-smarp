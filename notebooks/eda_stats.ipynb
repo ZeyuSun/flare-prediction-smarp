{
 "cells": [
  {
   "cell_type": "code",
   "execution_count": 1,
   "id": "valued-belle",
   "metadata": {
    "execution": {
     "iopub.execute_input": "2021-07-23T00:51:45.365616Z",
     "iopub.status.busy": "2021-07-23T00:51:45.364916Z",
     "iopub.status.idle": "2021-07-23T00:51:49.070953Z",
     "shell.execute_reply": "2021-07-23T00:51:49.069251Z",
     "shell.execute_reply.started": "2021-07-23T00:51:45.365445Z"
    }
   },
   "outputs": [],
   "source": [
    "from copy import deepcopy\n",
    "import pandas as pd\n",
    "\n",
    "from arnet.dataset import ActiveRegionDataModule\n",
    "from dashboard_helper import get_learner"
   ]
  },
  {
   "cell_type": "code",
   "execution_count": 2,
   "id": "perfect-atlantic",
   "metadata": {
    "execution": {
     "iopub.execute_input": "2021-07-23T00:51:49.075102Z",
     "iopub.status.busy": "2021-07-23T00:51:49.074158Z",
     "iopub.status.idle": "2021-07-23T00:51:53.750893Z",
     "shell.execute_reply": "2021-07-23T00:51:53.749657Z",
     "shell.execute_reply.started": "2021-07-23T00:51:49.075034Z"
    }
   },
   "outputs": [
    {
     "name": "stdout",
     "output_type": "stream",
     "text": [
      "Select iloc 0 from \n",
      "                         start_time tags.mlflow.runName  \\\n",
      "82 2021-06-27 16:03:33.239000+00:00            LSTM_CNN   \n",
      "\n",
      "               tags.mlflow.source.git.commit  \n",
      "82  e13810ffddafdb818df7c4de68d9eafd67861e8c  \n"
     ]
    }
   ],
   "source": [
    "learner = get_learner('sharp', 0, 'CNN')"
   ]
  },
  {
   "cell_type": "code",
   "execution_count": 3,
   "id": "administrative-convenience",
   "metadata": {
    "execution": {
     "iopub.execute_input": "2021-07-23T00:52:17.068903Z",
     "iopub.status.busy": "2021-07-23T00:52:17.068453Z",
     "iopub.status.idle": "2021-07-23T00:52:17.074114Z",
     "shell.execute_reply": "2021-07-23T00:52:17.073087Z",
     "shell.execute_reply.started": "2021-07-23T00:52:17.068855Z"
    }
   },
   "outputs": [],
   "source": [
    "cfg = deepcopy(learner.cfg)"
   ]
  },
  {
   "cell_type": "code",
   "execution_count": 4,
   "id": "north-solution",
   "metadata": {
    "execution": {
     "iopub.execute_input": "2021-07-23T00:52:17.933463Z",
     "iopub.status.busy": "2021-07-23T00:52:17.932980Z",
     "iopub.status.idle": "2021-07-23T00:52:23.369899Z",
     "shell.execute_reply": "2021-07-23T00:52:23.368511Z",
     "shell.execute_reply.started": "2021-07-23T00:52:17.933408Z"
    }
   },
   "outputs": [
    {
     "name": "stderr",
     "output_type": "stream",
     "text": [
      "/home/zeyusun/work/flare-prediction-smarp/arnet/dataset.py:139: DtypeWarning: Columns (5) have mixed types.Specify dtype option on import or set low_memory=False.\n",
      "  self._construct_datasets(balanced=cfg.DATA.BALANCED)\n",
      "/home/zeyusun/work/flare-prediction-smarp/arnet/dataset.py:139: DtypeWarning: Columns (5) have mixed types.Specify dtype option on import or set low_memory=False.\n",
      "  self._construct_datasets(balanced=cfg.DATA.BALANCED)\n",
      "/home/zeyusun/work/flare-prediction-smarp/arnet/dataset.py:139: DtypeWarning: Columns (5) have mixed types.Specify dtype option on import or set low_memory=False.\n",
      "  self._construct_datasets(balanced=cfg.DATA.BALANCED)\n",
      "/home/zeyusun/work/flare-prediction-smarp/arnet/dataset.py:139: DtypeWarning: Columns (5) have mixed types.Specify dtype option on import or set low_memory=False.\n",
      "  self._construct_datasets(balanced=cfg.DATA.BALANCED)\n"
     ]
    }
   ],
   "source": [
    "cfg = deepcopy(learner.cfg)\n",
    "cfg.DATA.DATABASE = '/home/zeyusun/work/flare-prediction-smarp/' + str(cfg.DATA.DATABASE)\n",
    "cfg.DATA.AUXDATA = '/home/zeyusun/work/flare-prediction-smarp/' + str(cfg.DATA.AUXDATA)\n",
    "cfg.DATA.SEED = 0\n",
    "datasets = ['sharp', 'fused_sharp', 'smarp', 'fused_smarp']\n",
    "values = {}\n",
    "for dataset in datasets:\n",
    "    cfg.DATA.DATASET = dataset\n",
    "    dm = ActiveRegionDataModule(cfg)\n",
    "    values[dataset] = {\n",
    "        'Train': dm.df_train.label.value_counts().to_dict(),\n",
    "        'Validation': dm.df_val.label.value_counts().to_dict(),\n",
    "        'Test': dm.df_test.label.value_counts().to_dict(),\n",
    "    }"
   ]
  },
  {
   "cell_type": "code",
   "execution_count": 5,
   "id": "impressive-expression",
   "metadata": {
    "execution": {
     "iopub.execute_input": "2021-07-23T00:52:23.371894Z",
     "iopub.status.busy": "2021-07-23T00:52:23.371622Z",
     "iopub.status.idle": "2021-07-23T00:52:23.383002Z",
     "shell.execute_reply": "2021-07-23T00:52:23.381749Z",
     "shell.execute_reply.started": "2021-07-23T00:52:23.371858Z"
    }
   },
   "outputs": [],
   "source": [
    "df = pd.concat([pd.DataFrame(v) for v in values.values()], keys=values.keys())"
   ]
  },
  {
   "cell_type": "code",
   "execution_count": 6,
   "id": "opposite-greeting",
   "metadata": {
    "execution": {
     "iopub.execute_input": "2021-07-23T00:52:23.385004Z",
     "iopub.status.busy": "2021-07-23T00:52:23.384727Z",
     "iopub.status.idle": "2021-07-23T00:52:23.432996Z",
     "shell.execute_reply": "2021-07-23T00:52:23.431501Z",
     "shell.execute_reply.started": "2021-07-23T00:52:23.384957Z"
    }
   },
   "outputs": [
    {
     "data": {
      "text/html": [
       "<div>\n",
       "<style scoped>\n",
       "    .dataframe tbody tr th:only-of-type {\n",
       "        vertical-align: middle;\n",
       "    }\n",
       "\n",
       "    .dataframe tbody tr th {\n",
       "        vertical-align: top;\n",
       "    }\n",
       "\n",
       "    .dataframe thead tr th {\n",
       "        text-align: left;\n",
       "    }\n",
       "</style>\n",
       "<table border=\"1\" class=\"dataframe\">\n",
       "  <thead>\n",
       "    <tr>\n",
       "      <th></th>\n",
       "      <th colspan=\"2\" halign=\"left\">Train</th>\n",
       "      <th colspan=\"2\" halign=\"left\">Validation</th>\n",
       "      <th colspan=\"2\" halign=\"left\">Test</th>\n",
       "    </tr>\n",
       "    <tr>\n",
       "      <th></th>\n",
       "      <th>False</th>\n",
       "      <th>True</th>\n",
       "      <th>False</th>\n",
       "      <th>True</th>\n",
       "      <th>False</th>\n",
       "      <th>True</th>\n",
       "    </tr>\n",
       "  </thead>\n",
       "  <tbody>\n",
       "    <tr>\n",
       "      <th>sharp</th>\n",
       "      <td>1774</td>\n",
       "      <td>1774</td>\n",
       "      <td>665</td>\n",
       "      <td>665</td>\n",
       "      <td>410</td>\n",
       "      <td>410</td>\n",
       "    </tr>\n",
       "    <tr>\n",
       "      <th>fused_sharp</th>\n",
       "      <td>5377</td>\n",
       "      <td>5377</td>\n",
       "      <td>1663</td>\n",
       "      <td>1663</td>\n",
       "      <td>410</td>\n",
       "      <td>410</td>\n",
       "    </tr>\n",
       "    <tr>\n",
       "      <th>smarp</th>\n",
       "      <td>2849</td>\n",
       "      <td>2849</td>\n",
       "      <td>860</td>\n",
       "      <td>860</td>\n",
       "      <td>892</td>\n",
       "      <td>892</td>\n",
       "    </tr>\n",
       "    <tr>\n",
       "      <th>fused_smarp</th>\n",
       "      <td>5084</td>\n",
       "      <td>5084</td>\n",
       "      <td>1474</td>\n",
       "      <td>1474</td>\n",
       "      <td>892</td>\n",
       "      <td>892</td>\n",
       "    </tr>\n",
       "  </tbody>\n",
       "</table>\n",
       "</div>"
      ],
      "text/plain": [
       "            Train       Validation        Test      \n",
       "            False True       False True  False True \n",
       "sharp        1774  1774        665   665   410   410\n",
       "fused_sharp  5377  5377       1663  1663   410   410\n",
       "smarp        2849  2849        860   860   892   892\n",
       "fused_smarp  5084  5084       1474  1474   892   892"
      ]
     },
     "execution_count": 6,
     "metadata": {},
     "output_type": "execute_result"
    }
   ],
   "source": [
    "df = df.unstack(-1)\n",
    "df"
   ]
  },
  {
   "cell_type": "code",
   "execution_count": 7,
   "id": "first-equilibrium",
   "metadata": {
    "execution": {
     "iopub.execute_input": "2021-07-23T00:52:23.621043Z",
     "iopub.status.busy": "2021-07-23T00:52:23.620685Z",
     "iopub.status.idle": "2021-07-23T00:52:23.644034Z",
     "shell.execute_reply": "2021-07-23T00:52:23.642924Z",
     "shell.execute_reply.started": "2021-07-23T00:52:23.621005Z"
    }
   },
   "outputs": [
    {
     "name": "stdout",
     "output_type": "stream",
     "text": [
      "\\begin{tabular}{lrrrrrr}\n",
      "\\toprule\n",
      "{} & \\multicolumn{2}{c}{Train} & \\multicolumn{2}{c}{Validation} & \\multicolumn{2}{c}{Test} \\\\\n",
      "{} & False & True  &      False & True  & False & True  \\\\\n",
      "\\midrule\n",
      "sharp       &  1774 &  1774 &        665 &   665 &   410 &   410 \\\\\n",
      "fused\\_sharp &  5377 &  5377 &       1663 &  1663 &   410 &   410 \\\\\n",
      "smarp       &  2849 &  2849 &        860 &   860 &   892 &   892 \\\\\n",
      "fused\\_smarp &  5084 &  5084 &       1474 &  1474 &   892 &   892 \\\\\n",
      "\\bottomrule\n",
      "\\end{tabular}\n",
      "\n"
     ]
    }
   ],
   "source": [
    "from mlflow_helper import typeset\n",
    "print(typeset(df))"
   ]
  }
 ],
 "metadata": {
  "kernelspec": {
   "display_name": "Python 3",
   "language": "python",
   "name": "python3"
  },
  "language_info": {
   "codemirror_mode": {
    "name": "ipython",
    "version": 3
   },
   "file_extension": ".py",
   "mimetype": "text/x-python",
   "name": "python",
   "nbconvert_exporter": "python",
   "pygments_lexer": "ipython3",
   "version": "3.8.8"
  }
 },
 "nbformat": 4,
 "nbformat_minor": 5
}
