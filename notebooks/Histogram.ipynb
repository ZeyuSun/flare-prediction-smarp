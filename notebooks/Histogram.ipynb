{
 "cells": [
  {
   "cell_type": "code",
   "execution_count": null,
   "id": "pending-marshall",
   "metadata": {},
   "outputs": [],
   "source": [
    "import numpy as np\n",
    "\n",
    "df = pd.DataFrame({\n",
    "    'height': np.random.rand(50),\n",
    "    'weight': np.random.rand(50) * 100,\n",
    "})\n",
    "fig = make_subplots(rows=1, cols=2)\n",
    "hist1 = go.Histogram(x=df['height'])\n",
    "fig.add_trace(hist1, row=1, col=1)\n",
    "hist2 = go.Histogram(x=df['weight'])\n",
    "fig.add_trace(hist2, row=1, col=2)"
   ]
  },
  {
   "cell_type": "code",
   "execution_count": null,
   "id": "metric-walker",
   "metadata": {},
   "outputs": [],
   "source": [
    "fig = make_subplots(rows=1, cols=2)\n",
    "hist = px.histogram(df_test, x='USFLUXL') #go.Histogram(x=df_test['Ensemble prob'])\n",
    "fig.add_trace(hist.data[0], row=1, col=1)\n",
    "hist2 = px.histogram(df_test, x='CNN prob', range_x=[0,1]) #go.Histogram(x=df_test['CNN prob'])\n",
    "fig.add_trace(hist2.data[0], row=1, col=2)"
   ]
  },
  {
   "cell_type": "code",
   "execution_count": null,
   "id": "juvenile-pattern",
   "metadata": {},
   "outputs": [],
   "source": [
    "def test_hist(df_test):\n",
    "    fig = make_subplots(rows=1, cols=2)\n",
    "    hist = px.histogram(df_test, x='Ensemble prob') #go.Histogram(x=df_test['Ensemble prob'])\n",
    "    fig.add_trace(hist.data[0], row=1, col=1)\n",
    "    hist = px.histogram(df_test, x='CNN prob') #go.Histogram(x=df_test['CNN prob'])\n",
    "    fig.add_trace(hist.data[0], row=1, col=2)\n",
    "    return fig"
   ]
  },
  {
   "cell_type": "code",
   "execution_count": null,
   "id": "average-boost",
   "metadata": {},
   "outputs": [],
   "source": [
    "import plotly.graph_objects as go\n",
    "from plotly.subplots import make_subplots\n",
    "\n",
    "x = ['1970-01-01', '1970-01-01', '1970-02-01', '1970-04-01', '1970-01-02',\n",
    "     '1972-01-31', '1970-02-13', '1971-04-19']\n",
    "\n",
    "fig = make_subplots(rows=3, cols=2)\n",
    "\n",
    "trace0 = go.Histogram(x=x, nbinsx=4)\n",
    "trace1 = go.Histogram(x=x, nbinsx = 8)\n",
    "trace2 = go.Histogram(x=x, nbinsx=10)\n",
    "trace3 = go.Histogram(x=x,\n",
    "#                       xbins=dict(\n",
    "#                       start='1969-11-15',\n",
    "#                       end='1972-03-31',\n",
    "#                       size='M18'), # M18 stands for 18 months\n",
    "#                       autobinx=False\n",
    "                     )\n",
    "trace4 = go.Histogram(x=x,\n",
    "#                       xbins=dict(\n",
    "#                       start='1969-11-15',\n",
    "#                       end='1972-03-31',\n",
    "#                       size='M4'), # 4 months bin size\n",
    "#                       autobinx=False\n",
    "                      )\n",
    "trace5 = go.Histogram(x=x,\n",
    "#                       xbins=dict(\n",
    "#                       start='1969-11-15',\n",
    "#                       end='1972-03-31',\n",
    "#                       size= 'M2'), # 2 months\n",
    "#                       autobinx = False\n",
    "                      )\n",
    "\n",
    "fig.append_trace(trace0, 1, 1)\n",
    "fig.append_trace(trace1, 1, 2)\n",
    "fig.append_trace(trace2, 2, 1)\n",
    "fig.append_trace(trace3, 2, 2)\n",
    "fig.append_trace(trace4, 3, 1)\n",
    "fig.append_trace(trace5, 3, 2)\n",
    "\n",
    "fig.show()"
   ]
  }
 ],
 "metadata": {
  "kernelspec": {
   "display_name": "Python 3",
   "language": "python",
   "name": "python3"
  },
  "language_info": {
   "codemirror_mode": {
    "name": "ipython",
    "version": 3
   },
   "file_extension": ".py",
   "mimetype": "text/x-python",
   "name": "python",
   "nbconvert_exporter": "python",
   "pygments_lexer": "ipython3",
   "version": "3.8.8"
  }
 },
 "nbformat": 4,
 "nbformat_minor": 5
}
