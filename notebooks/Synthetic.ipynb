{
 "cells": [
  {
   "cell_type": "markdown",
   "id": "84655d91-de01-41c7-80c7-cf5cfada4170",
   "metadata": {},
   "source": [
    "# Synthetic images"
   ]
  },
  {
   "cell_type": "code",
   "execution_count": 3,
   "id": "0fe6e99e-1e48-4e58-81c2-6c75aea1f3e2",
   "metadata": {
    "execution": {
     "iopub.execute_input": "2021-09-26T05:26:27.596188Z",
     "iopub.status.busy": "2021-09-26T05:26:27.595688Z",
     "iopub.status.idle": "2021-09-26T05:26:31.585434Z",
     "shell.execute_reply": "2021-09-26T05:26:31.584159Z",
     "shell.execute_reply.started": "2021-09-26T05:26:27.596132Z"
    },
    "tags": []
   },
   "outputs": [
    {
     "name": "stderr",
     "output_type": "stream",
     "text": [
      "/home/zeyusun/work/flare-prediction-smarp/arnet/constants.py:22: DtypeWarning: Columns (5) have mixed types.Specify dtype option on import or set low_memory=False.\n",
      "  CONSTANTS = get_constants()\n"
     ]
    }
   ],
   "source": [
    "# from functools import lru_cache\n",
    "# from datetime import datetime, timedelta\n",
    "from tqdm.notebook import tqdm\n",
    "from tqdm.contrib.itertools import product\n",
    "import numpy as np\n",
    "import pandas as pd\n",
    "# from matplotlib.colors import Normalize\n",
    "import matplotlib.pyplot as plt\n",
    "import plotly.express as px\n",
    "# import plotly.graph_objects as go\n",
    "# from plotly.subplots import make_subplots\n",
    "# import xarray as xr\n",
    "import torch\n",
    "\n",
    "from torch.utils.data import DataLoader\n",
    "from torch.nn import functional as F\n",
    "from torchvision.transforms import Compose\n",
    "# import pytorch_lightning as pl\n",
    "\n",
    "from arnet.modeling.learner import Learner\n",
    "from arnet.dataset import ActiveRegionDataModule, ActiveRegionDataset\n",
    "from arnet.transforms import get_transform\n",
    "from captum_helper import get_heatmap, get_heatmaps_synthetic\n",
    "from cotrain_helper import get_learner_by_query\n",
    "from paracoord_helper import parallel_coordinates_and_hist\n",
    "from synthetic import bipole_gaussian, bipole_yeates2020, sweep_constant_images, sweep_Z_list, sweep_learner_and_Z_list\n",
    "# retrieve = lru_cache(retrieve)\n",
    "\n",
    "%load_ext autoreload\n",
    "%autoreload 2\n",
    "%matplotlib inline"
   ]
  },
  {
   "cell_type": "code",
   "execution_count": null,
   "id": "6eadb46e-e72e-4a1d-a18b-7e8f093ce658",
   "metadata": {},
   "outputs": [],
   "source": [
    "algorithms = ['Original', 'Saliency', 'Deconvolution', 'GuidedBackprop', 'DeepLift', 'LayerGradCam']"
   ]
  },
  {
   "cell_type": "markdown",
   "id": "dc4c5373-4e63-4319-a241-a99143089dea",
   "metadata": {},
   "source": [
    "## Synthetic image data"
   ]
  },
  {
   "cell_type": "code",
   "execution_count": null,
   "id": "2ac8a0c3-2f24-4ab9-9b27-bdb1ed0b3616",
   "metadata": {},
   "outputs": [
    {
     "data": {
      "text/plain": [
       "(-0.02334314373614411, 93.78056679862786)"
      ]
     },
     "execution_count": 7,
     "metadata": {},
     "output_type": "execute_result"
    }
   ],
   "source": [
    "from arnet.transforms import calc_stats\n",
    "hist = np.load('/home/zeyusun/work/flare-prediction-smarp/datasets/sharp_hist.npy', allow_pickle=True).item()\n",
    "#func = get_transform('ValueTransform', cfg) if 'ValueTransform' in cfg.DATA.TRANSFORMS else None             \n",
    "#mean, std = \n",
    "calc_stats(hist['hist'], hist['bins'], func=None)                                                "
   ]
  },
  {
   "cell_type": "markdown",
   "id": "0d343fd6-3d8e-4dc2-aa98-9080131ed6db",
   "metadata": {},
   "source": [
    "MDI/HMI maximum 2000 Gs. Standard deviation ~100. So the transformed input has maximum magnitutde 20."
   ]
  },
  {
   "cell_type": "code",
   "execution_count": 54,
   "id": "72e39b9a-c9fa-4404-ab0a-7aa79ae8d19d",
   "metadata": {
    "execution": {
     "iopub.execute_input": "2021-09-23T02:46:06.988481Z",
     "iopub.status.busy": "2021-09-23T02:46:06.988139Z",
     "iopub.status.idle": "2021-09-23T02:46:20.834979Z",
     "shell.execute_reply": "2021-09-23T02:46:20.833335Z",
     "shell.execute_reply.started": "2021-09-23T02:46:06.988433Z"
    },
    "tags": []
   },
   "outputs": [
    {
     "name": "stdout",
     "output_type": "stream",
     "text": [
      "dict_values(['cv', 'base', 'fused_sharp', '0', '0', '0', 'CNN'])\n"
     ]
    },
    {
     "name": "stderr",
     "output_type": "stream",
     "text": [
      "/home/zeyusun/work/flare-prediction-smarp/notebooks/synthetic.py:43: UserWarning: Implicit dimension choice for softmax has been deprecated. Change the call to include dim=X as an argument.\n",
      "  prob = F.softmax(output)[:, 1].tolist()\n"
     ]
    },
    {
     "name": "stdout",
     "output_type": "stream",
     "text": [
      "dict_values(['cv', 'base', 'fused_sharp', '0', '0', '1', 'CNN'])\n",
      "dict_values(['cv', 'base', 'fused_sharp', '0', '0', '2', 'CNN'])\n",
      "dict_values(['cv', 'base', 'fused_sharp', '0', '0', '3', 'CNN'])\n",
      "dict_values(['cv', 'base', 'fused_sharp', '0', '0', '4', 'CNN'])\n",
      "dict_values(['cv', 'base', 'fused_sharp', '0', '1', '0', 'CNN'])\n",
      "dict_values(['cv', 'base', 'fused_sharp', '0', '1', '1', 'CNN'])\n",
      "dict_values(['cv', 'base', 'fused_sharp', '0', '1', '2', 'CNN'])\n",
      "dict_values(['cv', 'base', 'fused_sharp', '0', '1', '3', 'CNN'])\n",
      "dict_values(['cv', 'base', 'fused_sharp', '0', '1', '4', 'CNN'])\n",
      "dict_values(['cv', 'base', 'fused_sharp', '0', '2', '0', 'CNN'])\n",
      "dict_values(['cv', 'base', 'fused_sharp', '0', '2', '1', 'CNN'])\n",
      "dict_values(['cv', 'base', 'fused_sharp', '0', '2', '2', 'CNN'])\n",
      "dict_values(['cv', 'base', 'fused_sharp', '0', '2', '3', 'CNN'])\n",
      "dict_values(['cv', 'base', 'fused_sharp', '0', '2', '4', 'CNN'])\n",
      "dict_values(['cv', 'base', 'fused_sharp', '0', '3', '0', 'CNN'])\n",
      "dict_values(['cv', 'base', 'fused_sharp', '0', '3', '1', 'CNN'])\n",
      "dict_values(['cv', 'base', 'fused_sharp', '0', '3', '2', 'CNN'])\n",
      "dict_values(['cv', 'base', 'fused_sharp', '0', '3', '3', 'CNN'])\n",
      "dict_values(['cv', 'base', 'fused_sharp', '0', '3', '4', 'CNN'])\n",
      "dict_values(['cv', 'base', 'fused_sharp', '0', '4', '0', 'CNN'])\n",
      "dict_values(['cv', 'base', 'fused_sharp', '0', '4', '1', 'CNN'])\n",
      "dict_values(['cv', 'base', 'fused_sharp', '0', '4', '2', 'CNN'])\n",
      "dict_values(['cv', 'base', 'fused_sharp', '0', '4', '3', 'CNN'])\n",
      "dict_values(['cv', 'base', 'fused_sharp', '0', '4', '4', 'CNN'])\n"
     ]
    }
   ],
   "source": [
    "dataset = 'fused_sharp'\n",
    "prob_list = []\n",
    "for val_split in range(5):\n",
    "    prob_list.append([])\n",
    "    for test_split in range(5):\n",
    "        learner = get_learner_by_query(f'cv/base/{dataset}/0/{val_split}/{test_split}/CNN')\n",
    "        learner.eval()\n",
    "        learner.to('cuda:1')\n",
    "        const, probs = sweep_constant_images(learner, lim=10)\n",
    "        prob_list[-1].append(probs)"
   ]
  },
  {
   "cell_type": "code",
   "execution_count": 59,
   "id": "695e03b1-b6e0-4a3a-b0db-2df9781b141e",
   "metadata": {
    "execution": {
     "iopub.execute_input": "2021-09-23T02:47:48.753585Z",
     "iopub.status.busy": "2021-09-23T02:47:48.753232Z",
     "iopub.status.idle": "2021-09-23T02:47:49.069402Z",
     "shell.execute_reply": "2021-09-23T02:47:49.068530Z",
     "shell.execute_reply.started": "2021-09-23T02:47:48.753551Z"
    },
    "tags": []
   },
   "outputs": [
    {
     "data": {
      "image/png": "[encoded data removed]",
      "text/plain": [
       "<Figure size 432x288 with 1 Axes>"
      ]
     },
     "metadata": {
      "needs_background": "light"
     },
     "output_type": "display_data"
    }
   ],
   "source": [
    "for val_split in range(5):\n",
    "    for test_split in range(5):\n",
    "        plt.plot(const,\n",
    "                 prob_list[val_split][test_split],\n",
    "                 color=f'C{val_split}',\n",
    "                )\n",
    "plt.ylim([-0.05, 1.05])\n",
    "plt.show()"
   ]
  },
  {
   "cell_type": "markdown",
   "id": "f8688abd-6d39-4ed8-8bc4-4276016bcece",
   "metadata": {},
   "source": [
    "## Unipoles"
   ]
  },
  {
   "cell_type": "code",
   "execution_count": null,
   "id": "c24e154b-29ad-4a42-b1e3-21ac419b3dd4",
   "metadata": {},
   "outputs": [],
   "source": []
  },
  {
   "cell_type": "markdown",
   "id": "ca8de2f7-db20-400f-b39a-80d350e1ccc3",
   "metadata": {},
   "source": [
    "## Bipoles"
   ]
  },
  {
   "cell_type": "code",
   "execution_count": 5,
   "id": "12057a0e-df60-4bfb-bac3-a88ace3de475",
   "metadata": {
    "execution": {
     "iopub.execute_input": "2021-09-26T05:26:52.482059Z",
     "iopub.status.busy": "2021-09-26T05:26:52.481417Z",
     "iopub.status.idle": "2021-09-26T05:26:52.539221Z",
     "shell.execute_reply": "2021-09-26T05:26:52.537842Z",
     "shell.execute_reply.started": "2021-09-26T05:26:52.481994Z"
    },
    "tags": []
   },
   "outputs": [],
   "source": [
    "x = y = np.linspace(-10.0, 10.0, 128)\n",
    "X, Y = np.meshgrid(x, y)\n",
    "XY = np.stack((X, Y), axis=-1)"
   ]
  },
  {
   "cell_type": "code",
   "execution_count": 6,
   "id": "f658a7cf-32eb-4d57-9562-411af7e85c84",
   "metadata": {
    "execution": {
     "iopub.execute_input": "2021-09-26T05:26:52.710546Z",
     "iopub.status.busy": "2021-09-26T05:26:52.709965Z",
     "iopub.status.idle": "2021-09-26T05:26:53.215184Z",
     "shell.execute_reply": "2021-09-26T05:26:53.213988Z",
     "shell.execute_reply.started": "2021-09-26T05:26:52.710481Z"
    },
    "tags": []
   },
   "outputs": [
    {
     "data": {
      "text/plain": [
       "<matplotlib.colorbar.Colorbar at 0x7fe893b73670>"
      ]
     },
     "execution_count": 6,
     "metadata": {},
     "output_type": "execute_result"
    },
    {
     "data": {
      "image/png": "[encoded data removed]",
      "text/plain": [
       "<Figure size 432x288 with 2 Axes>"
      ]
     },
     "metadata": {
      "needs_background": "light"
     },
     "output_type": "display_data"
    }
   ],
   "source": [
    "Z = bipole_gaussian(XY, B0=10, rho=1, gamma=0, sigma=3)\n",
    "plt.imshow(Z, origin='lower', cmap='RdBu_r')\n",
    "plt.colorbar()"
   ]
  },
  {
   "cell_type": "code",
   "execution_count": null,
   "id": "43205237-0d04-4074-b5e6-2e1f8aabae09",
   "metadata": {},
   "outputs": [],
   "source": [
    "B0_list = np.arange(1, 18, 2)\n",
    "rho_list = np.arange(1, 15, 2)\n",
    "gamma_list = np.pi * np.arange(0, 2, 0.2)\n",
    "sigma_list = np.arange(1, 4, 1)\n",
    "\n",
    "params = list(product(B0_list, rho_list, gamma_list, sigma_list))\n",
    "names = ['B0', 'rho', 'gamma', 'sigma']\n",
    "\n",
    "df, Z_list = sweep_learner_and_Z_list(bipole_gaussian, XY, params, names)"
   ]
  },
  {
   "cell_type": "code",
   "execution_count": 11,
   "id": "5faa3a11-48cd-4aa5-9a00-64acc3cf7696",
   "metadata": {
    "execution": {
     "iopub.execute_input": "2021-09-25T20:06:48.887660Z",
     "iopub.status.busy": "2021-09-25T20:06:48.887282Z",
     "iopub.status.idle": "2021-09-25T20:06:49.920225Z",
     "shell.execute_reply": "2021-09-25T20:06:49.919127Z",
     "shell.execute_reply.started": "2021-09-25T20:06:48.887618Z"
    },
    "tags": []
   },
   "outputs": [
    {
     "data": {
      "text/plain": [
       "array([[<AxesSubplot:title={'center':'B0'}>,\n",
       "        <AxesSubplot:title={'center':'rho'}>],\n",
       "       [<AxesSubplot:title={'center':'gamma'}>, <AxesSubplot:>]],\n",
       "      dtype=object)"
      ]
     },
     "execution_count": 11,
     "metadata": {},
     "output_type": "execute_result"
    },
    {
     "data": {
      "image/png": "[encoded data removed]",
      "text/plain": [
       "<Figure size 432x288 with 1 Axes>"
      ]
     },
     "metadata": {
      "needs_background": "light"
     },
     "output_type": "display_data"
    },
    {
     "data": {
      "image/png": "[encoded data removed]",
      "text/plain": [
       "<Figure size 432x288 with 4 Axes>"
      ]
     },
     "metadata": {
      "needs_background": "light"
     },
     "output_type": "display_data"
    }
   ],
   "source": [
    "(df[[c for c in df.columns if c[:5] == 'prob_']]\n",
    " .describe()\n",
    " .style\n",
    " .background_gradient(axis=1)\n",
    ")\n",
    "df['prob'].hist(bins=20)\n",
    "df[names].hist()"
   ]
  },
  {
   "cell_type": "code",
   "execution_count": null,
   "id": "298dd908-9e24-4a1f-bab9-bd113baf49a4",
   "metadata": {},
   "outputs": [],
   "source": [
    "df_pos = df[df['prob'] > 0.5]\n",
    "Z_list_pos = [Z_list[i] for i in df_pos.index]\n",
    "len(df_pos)"
   ]
  },
  {
   "cell_type": "code",
   "execution_count": null,
   "id": "a4fd04d2-6757-4e76-b578-651d8a94089d",
   "metadata": {},
   "outputs": [],
   "source": [
    "heatmaps = get_heatmaps_synthetic(Z_list_pos, algorithms, learner)"
   ]
  },
  {
   "cell_type": "code",
   "execution_count": null,
   "id": "cbc08bd3-beea-40a6-af05-a9d0f2d1d5fb",
   "metadata": {
    "tags": []
   },
   "outputs": [],
   "source": [
    "zmax = [np.percentile(np.abs(i), 99)\n",
    "        for i in heatmaps.values()]\n",
    "for i, Z in enumerate(Z_list_pos):\n",
    "    m = len(algorithms)\n",
    "    plt.figure(figsize=(20,3))\n",
    "    for j, algorithm in enumerate(algorithms):\n",
    "        plt.subplot(1, len(algorithms), j+1)\n",
    "        cmap = 'gray' if j == 0 else 'RdBu_r'\n",
    "        heatmap = heatmaps[algorithm][i].squeeze()\n",
    "        if algorithm == 'LayerGradCam':\n",
    "            heatmap = np.abs(heatmap)\n",
    "        plt.imshow(heatmap, vmin=-zmax[j], vmax=zmax[j], cmap=cmap)\n",
    "        plt.title(algorithm)\n",
    "        plt.colorbar()\n",
    "    plt.tight_layout()\n",
    "    plt.show()"
   ]
  },
  {
   "cell_type": "markdown",
   "id": "5773bbca-a9e4-464e-a557-18370328e045",
   "metadata": {},
   "source": [
    "This bipole dataset can be used to diagnose CNN and compare CNN.\n",
    "* To diagnose, pick the positive predictions and look into their attribution map. Are the predictions sensitive to (or activated by) the angles? Magnetude? Polarity separation?\n",
    "* To compare, use parallel coordinates, in which predicted probabilities by different models are associated with the characteristics of the test image. We may find many models respond to a pattern while a few others don't.\n",
    "    * We will also want to look into the attribution map by different models. Predicted probability is only a number, whereas attribution maps can reveal a lot more. Some models may have unique attribution map among others."
   ]
  },
  {
   "cell_type": "markdown",
   "id": "3a825d6e-97c5-4fe3-acb0-759570f7908d",
   "metadata": {},
   "source": [
    "CNN tend to give highly confident results (predictions with high resolution). The same is also true for LSTM. This is because of Cross Entropy loss. Only nonambiguous prediction with probability close to 0 or 1 is achieves a low loss value. This may makes the deep learning models overly confident by overfitting on the training set. In reality, some ambiguity is desired because (1) the data itself may not reveal the future as accurately, and (2) even though the data contains all the information needed for prediction, they may be presented in a convoluted way, in which case more data are required to exploit the full capacity of deep learning models."
   ]
  },
  {
   "cell_type": "code",
   "execution_count": 15,
   "id": "ec66f7d3-77ee-43f2-a9ae-d176aca81d63",
   "metadata": {
    "execution": {
     "iopub.execute_input": "2021-09-25T20:08:30.585669Z",
     "iopub.status.busy": "2021-09-25T20:08:30.585257Z",
     "iopub.status.idle": "2021-09-25T20:08:30.659476Z",
     "shell.execute_reply": "2021-09-25T20:08:30.658090Z",
     "shell.execute_reply.started": "2021-09-25T20:08:30.585629Z"
    },
    "tags": []
   },
   "outputs": [],
   "source": [
    "intervals = {\n",
    "    'B0': 2,\n",
    "    'rho': 2,\n",
    "    'gamma': np.pi * 0.2,\n",
    "    #'sigma': 1,\n",
    "}\n",
    "df_jitter = df.copy()\n",
    "for k in intervals:\n",
    "    df_jitter[k] += intervals[k] * np.random.rand(len(df))"
   ]
  },
  {
   "cell_type": "code",
   "execution_count": 13,
   "id": "07a416c1-2feb-4693-acd5-d30c7ac60a39",
   "metadata": {
    "execution": {
     "iopub.execute_input": "2021-09-25T20:07:57.813398Z",
     "iopub.status.busy": "2021-09-25T20:07:57.812860Z",
     "iopub.status.idle": "2021-09-25T20:07:58.025357Z",
     "shell.execute_reply": "2021-09-25T20:07:58.023963Z",
     "shell.execute_reply.started": "2021-09-25T20:07:57.813341Z"
    }
   },
   "outputs": [
    {
     "data": {
      "text/html": [
       "<div>\n",
       "<style scoped>\n",
       "    .dataframe tbody tr th:only-of-type {\n",
       "        vertical-align: middle;\n",
       "    }\n",
       "\n",
       "    .dataframe tbody tr th {\n",
       "        vertical-align: top;\n",
       "    }\n",
       "\n",
       "    .dataframe thead th {\n",
       "        text-align: right;\n",
       "    }\n",
       "</style>\n",
       "<table border=\"1\" class=\"dataframe\">\n",
       "  <thead>\n",
       "    <tr style=\"text-align: right;\">\n",
       "      <th></th>\n",
       "      <th>B0</th>\n",
       "      <th>rho</th>\n",
       "      <th>gamma</th>\n",
       "      <th>prob_0_0</th>\n",
       "      <th>prob_0_1</th>\n",
       "      <th>prob_0_2</th>\n",
       "      <th>prob_0_3</th>\n",
       "      <th>prob_0_4</th>\n",
       "      <th>prob_1_0</th>\n",
       "      <th>prob_1_1</th>\n",
       "      <th>...</th>\n",
       "      <th>prob_3_1</th>\n",
       "      <th>prob_3_2</th>\n",
       "      <th>prob_3_3</th>\n",
       "      <th>prob_3_4</th>\n",
       "      <th>prob_4_0</th>\n",
       "      <th>prob_4_1</th>\n",
       "      <th>prob_4_2</th>\n",
       "      <th>prob_4_3</th>\n",
       "      <th>prob_4_4</th>\n",
       "      <th>prob</th>\n",
       "    </tr>\n",
       "  </thead>\n",
       "  <tbody>\n",
       "    <tr>\n",
       "      <th>count</th>\n",
       "      <td>630.000000</td>\n",
       "      <td>630.000000</td>\n",
       "      <td>630.000000</td>\n",
       "      <td>6.300000e+02</td>\n",
       "      <td>6.300000e+02</td>\n",
       "      <td>6.300000e+02</td>\n",
       "      <td>6.300000e+02</td>\n",
       "      <td>6.300000e+02</td>\n",
       "      <td>6.300000e+02</td>\n",
       "      <td>630.000000</td>\n",
       "      <td>...</td>\n",
       "      <td>6.300000e+02</td>\n",
       "      <td>630.000000</td>\n",
       "      <td>6.300000e+02</td>\n",
       "      <td>6.300000e+02</td>\n",
       "      <td>6.300000e+02</td>\n",
       "      <td>6.300000e+02</td>\n",
       "      <td>6.300000e+02</td>\n",
       "      <td>630.000000</td>\n",
       "      <td>630.000000</td>\n",
       "      <td>630.000000</td>\n",
       "    </tr>\n",
       "    <tr>\n",
       "      <th>mean</th>\n",
       "      <td>9.000000</td>\n",
       "      <td>7.000000</td>\n",
       "      <td>2.827433</td>\n",
       "      <td>6.196763e-04</td>\n",
       "      <td>8.340269e-03</td>\n",
       "      <td>2.472426e-05</td>\n",
       "      <td>4.749857e-05</td>\n",
       "      <td>1.388595e-04</td>\n",
       "      <td>2.723730e-04</td>\n",
       "      <td>0.003724</td>\n",
       "      <td>...</td>\n",
       "      <td>3.719870e-04</td>\n",
       "      <td>0.002058</td>\n",
       "      <td>4.143711e-05</td>\n",
       "      <td>8.364456e-06</td>\n",
       "      <td>9.264267e-06</td>\n",
       "      <td>6.347386e-04</td>\n",
       "      <td>2.708267e-03</td>\n",
       "      <td>0.000412</td>\n",
       "      <td>0.004948</td>\n",
       "      <td>0.003051</td>\n",
       "    </tr>\n",
       "    <tr>\n",
       "      <th>std</th>\n",
       "      <td>5.168081</td>\n",
       "      <td>4.003178</td>\n",
       "      <td>1.806142</td>\n",
       "      <td>4.818887e-04</td>\n",
       "      <td>1.633555e-02</td>\n",
       "      <td>9.787475e-05</td>\n",
       "      <td>1.010408e-04</td>\n",
       "      <td>2.148844e-04</td>\n",
       "      <td>3.294426e-04</td>\n",
       "      <td>0.002215</td>\n",
       "      <td>...</td>\n",
       "      <td>6.560960e-04</td>\n",
       "      <td>0.004830</td>\n",
       "      <td>8.284218e-05</td>\n",
       "      <td>1.076455e-05</td>\n",
       "      <td>2.159000e-05</td>\n",
       "      <td>1.640791e-03</td>\n",
       "      <td>1.980129e-02</td>\n",
       "      <td>0.000361</td>\n",
       "      <td>0.002836</td>\n",
       "      <td>0.003332</td>\n",
       "    </tr>\n",
       "    <tr>\n",
       "      <th>min</th>\n",
       "      <td>1.000000</td>\n",
       "      <td>1.000000</td>\n",
       "      <td>0.000000</td>\n",
       "      <td>8.617785e-07</td>\n",
       "      <td>2.465118e-10</td>\n",
       "      <td>1.376413e-08</td>\n",
       "      <td>2.116877e-09</td>\n",
       "      <td>3.950839e-07</td>\n",
       "      <td>8.291398e-07</td>\n",
       "      <td>0.000381</td>\n",
       "      <td>...</td>\n",
       "      <td>1.198878e-09</td>\n",
       "      <td>0.000001</td>\n",
       "      <td>3.065996e-08</td>\n",
       "      <td>4.088989e-09</td>\n",
       "      <td>6.860311e-11</td>\n",
       "      <td>2.012471e-08</td>\n",
       "      <td>3.153790e-08</td>\n",
       "      <td>0.000105</td>\n",
       "      <td>0.000074</td>\n",
       "      <td>0.000111</td>\n",
       "    </tr>\n",
       "    <tr>\n",
       "      <th>25%</th>\n",
       "      <td>5.000000</td>\n",
       "      <td>3.000000</td>\n",
       "      <td>1.256637</td>\n",
       "      <td>9.674319e-05</td>\n",
       "      <td>3.877945e-05</td>\n",
       "      <td>6.793379e-07</td>\n",
       "      <td>5.418179e-06</td>\n",
       "      <td>2.420521e-05</td>\n",
       "      <td>1.326391e-04</td>\n",
       "      <td>0.001462</td>\n",
       "      <td>...</td>\n",
       "      <td>4.477403e-05</td>\n",
       "      <td>0.000149</td>\n",
       "      <td>4.783567e-06</td>\n",
       "      <td>1.593901e-06</td>\n",
       "      <td>2.837937e-07</td>\n",
       "      <td>2.990540e-05</td>\n",
       "      <td>2.052539e-07</td>\n",
       "      <td>0.000241</td>\n",
       "      <td>0.002250</td>\n",
       "      <td>0.001614</td>\n",
       "    </tr>\n",
       "    <tr>\n",
       "      <th>50%</th>\n",
       "      <td>9.000000</td>\n",
       "      <td>7.000000</td>\n",
       "      <td>2.827433</td>\n",
       "      <td>6.359934e-04</td>\n",
       "      <td>4.358203e-03</td>\n",
       "      <td>1.794527e-06</td>\n",
       "      <td>2.587372e-05</td>\n",
       "      <td>5.468356e-05</td>\n",
       "      <td>2.011937e-04</td>\n",
       "      <td>0.003905</td>\n",
       "      <td>...</td>\n",
       "      <td>1.351478e-04</td>\n",
       "      <td>0.000419</td>\n",
       "      <td>9.350269e-06</td>\n",
       "      <td>3.585182e-06</td>\n",
       "      <td>2.260417e-06</td>\n",
       "      <td>8.034683e-05</td>\n",
       "      <td>7.179130e-06</td>\n",
       "      <td>0.000251</td>\n",
       "      <td>0.005788</td>\n",
       "      <td>0.002529</td>\n",
       "    </tr>\n",
       "    <tr>\n",
       "      <th>75%</th>\n",
       "      <td>13.000000</td>\n",
       "      <td>11.000000</td>\n",
       "      <td>4.398230</td>\n",
       "      <td>1.073709e-03</td>\n",
       "      <td>1.036252e-02</td>\n",
       "      <td>6.713850e-06</td>\n",
       "      <td>5.548911e-05</td>\n",
       "      <td>1.458130e-04</td>\n",
       "      <td>3.292565e-04</td>\n",
       "      <td>0.005792</td>\n",
       "      <td>...</td>\n",
       "      <td>4.299880e-04</td>\n",
       "      <td>0.000976</td>\n",
       "      <td>3.654480e-05</td>\n",
       "      <td>1.068231e-05</td>\n",
       "      <td>7.462262e-06</td>\n",
       "      <td>4.013051e-04</td>\n",
       "      <td>2.704708e-04</td>\n",
       "      <td>0.000399</td>\n",
       "      <td>0.007094</td>\n",
       "      <td>0.003154</td>\n",
       "    </tr>\n",
       "    <tr>\n",
       "      <th>max</th>\n",
       "      <td>17.000000</td>\n",
       "      <td>13.000000</td>\n",
       "      <td>5.654867</td>\n",
       "      <td>2.147700e-03</td>\n",
       "      <td>2.317472e-01</td>\n",
       "      <td>1.397088e-03</td>\n",
       "      <td>1.623856e-03</td>\n",
       "      <td>1.512392e-03</td>\n",
       "      <td>3.803724e-03</td>\n",
       "      <td>0.007987</td>\n",
       "      <td>...</td>\n",
       "      <td>6.060141e-03</td>\n",
       "      <td>0.042951</td>\n",
       "      <td>6.394440e-04</td>\n",
       "      <td>5.379899e-05</td>\n",
       "      <td>2.034130e-04</td>\n",
       "      <td>1.373263e-02</td>\n",
       "      <td>2.847944e-01</td>\n",
       "      <td>0.002430</td>\n",
       "      <td>0.015711</td>\n",
       "      <td>0.033328</td>\n",
       "    </tr>\n",
       "  </tbody>\n",
       "</table>\n",
       "<p>8 rows × 29 columns</p>\n",
       "</div>"
      ],
      "text/plain": [
       "               B0         rho       gamma      prob_0_0      prob_0_1  \\\n",
       "count  630.000000  630.000000  630.000000  6.300000e+02  6.300000e+02   \n",
       "mean     9.000000    7.000000    2.827433  6.196763e-04  8.340269e-03   \n",
       "std      5.168081    4.003178    1.806142  4.818887e-04  1.633555e-02   \n",
       "min      1.000000    1.000000    0.000000  8.617785e-07  2.465118e-10   \n",
       "25%      5.000000    3.000000    1.256637  9.674319e-05  3.877945e-05   \n",
       "50%      9.000000    7.000000    2.827433  6.359934e-04  4.358203e-03   \n",
       "75%     13.000000   11.000000    4.398230  1.073709e-03  1.036252e-02   \n",
       "max     17.000000   13.000000    5.654867  2.147700e-03  2.317472e-01   \n",
       "\n",
       "           prob_0_2      prob_0_3      prob_0_4      prob_1_0    prob_1_1  \\\n",
       "count  6.300000e+02  6.300000e+02  6.300000e+02  6.300000e+02  630.000000   \n",
       "mean   2.472426e-05  4.749857e-05  1.388595e-04  2.723730e-04    0.003724   \n",
       "std    9.787475e-05  1.010408e-04  2.148844e-04  3.294426e-04    0.002215   \n",
       "min    1.376413e-08  2.116877e-09  3.950839e-07  8.291398e-07    0.000381   \n",
       "25%    6.793379e-07  5.418179e-06  2.420521e-05  1.326391e-04    0.001462   \n",
       "50%    1.794527e-06  2.587372e-05  5.468356e-05  2.011937e-04    0.003905   \n",
       "75%    6.713850e-06  5.548911e-05  1.458130e-04  3.292565e-04    0.005792   \n",
       "max    1.397088e-03  1.623856e-03  1.512392e-03  3.803724e-03    0.007987   \n",
       "\n",
       "       ...      prob_3_1    prob_3_2      prob_3_3      prob_3_4  \\\n",
       "count  ...  6.300000e+02  630.000000  6.300000e+02  6.300000e+02   \n",
       "mean   ...  3.719870e-04    0.002058  4.143711e-05  8.364456e-06   \n",
       "std    ...  6.560960e-04    0.004830  8.284218e-05  1.076455e-05   \n",
       "min    ...  1.198878e-09    0.000001  3.065996e-08  4.088989e-09   \n",
       "25%    ...  4.477403e-05    0.000149  4.783567e-06  1.593901e-06   \n",
       "50%    ...  1.351478e-04    0.000419  9.350269e-06  3.585182e-06   \n",
       "75%    ...  4.299880e-04    0.000976  3.654480e-05  1.068231e-05   \n",
       "max    ...  6.060141e-03    0.042951  6.394440e-04  5.379899e-05   \n",
       "\n",
       "           prob_4_0      prob_4_1      prob_4_2    prob_4_3    prob_4_4  \\\n",
       "count  6.300000e+02  6.300000e+02  6.300000e+02  630.000000  630.000000   \n",
       "mean   9.264267e-06  6.347386e-04  2.708267e-03    0.000412    0.004948   \n",
       "std    2.159000e-05  1.640791e-03  1.980129e-02    0.000361    0.002836   \n",
       "min    6.860311e-11  2.012471e-08  3.153790e-08    0.000105    0.000074   \n",
       "25%    2.837937e-07  2.990540e-05  2.052539e-07    0.000241    0.002250   \n",
       "50%    2.260417e-06  8.034683e-05  7.179130e-06    0.000251    0.005788   \n",
       "75%    7.462262e-06  4.013051e-04  2.704708e-04    0.000399    0.007094   \n",
       "max    2.034130e-04  1.373263e-02  2.847944e-01    0.002430    0.015711   \n",
       "\n",
       "             prob  \n",
       "count  630.000000  \n",
       "mean     0.003051  \n",
       "std      0.003332  \n",
       "min      0.000111  \n",
       "25%      0.001614  \n",
       "50%      0.002529  \n",
       "75%      0.003154  \n",
       "max      0.033328  \n",
       "\n",
       "[8 rows x 29 columns]"
      ]
     },
     "execution_count": 13,
     "metadata": {},
     "output_type": "execute_result"
    }
   ],
   "source": [
    "df.describe()"
   ]
  },
  {
   "cell_type": "code",
   "execution_count": 16,
   "id": "65183957-4324-4dcf-961b-5a651615e55c",
   "metadata": {
    "execution": {
     "iopub.execute_input": "2021-09-25T20:08:33.042182Z",
     "iopub.status.busy": "2021-09-25T20:08:33.041796Z",
     "iopub.status.idle": "2021-09-25T20:08:33.241727Z",
     "shell.execute_reply": "2021-09-25T20:08:33.240008Z",
     "shell.execute_reply.started": "2021-09-25T20:08:33.042142Z"
    },
    "tags": []
   },
   "outputs": [
    {
     "data": {
      "text/html": [
       "<div>\n",
       "<style scoped>\n",
       "    .dataframe tbody tr th:only-of-type {\n",
       "        vertical-align: middle;\n",
       "    }\n",
       "\n",
       "    .dataframe tbody tr th {\n",
       "        vertical-align: top;\n",
       "    }\n",
       "\n",
       "    .dataframe thead th {\n",
       "        text-align: right;\n",
       "    }\n",
       "</style>\n",
       "<table border=\"1\" class=\"dataframe\">\n",
       "  <thead>\n",
       "    <tr style=\"text-align: right;\">\n",
       "      <th></th>\n",
       "      <th>B0</th>\n",
       "      <th>rho</th>\n",
       "      <th>gamma</th>\n",
       "      <th>prob_0_0</th>\n",
       "      <th>prob_0_1</th>\n",
       "      <th>prob_0_2</th>\n",
       "      <th>prob_0_3</th>\n",
       "      <th>prob_0_4</th>\n",
       "      <th>prob_1_0</th>\n",
       "      <th>prob_1_1</th>\n",
       "      <th>...</th>\n",
       "      <th>prob_3_1</th>\n",
       "      <th>prob_3_2</th>\n",
       "      <th>prob_3_3</th>\n",
       "      <th>prob_3_4</th>\n",
       "      <th>prob_4_0</th>\n",
       "      <th>prob_4_1</th>\n",
       "      <th>prob_4_2</th>\n",
       "      <th>prob_4_3</th>\n",
       "      <th>prob_4_4</th>\n",
       "      <th>prob</th>\n",
       "    </tr>\n",
       "  </thead>\n",
       "  <tbody>\n",
       "    <tr>\n",
       "      <th>count</th>\n",
       "      <td>630.000000</td>\n",
       "      <td>630.000000</td>\n",
       "      <td>630.000000</td>\n",
       "      <td>6.300000e+02</td>\n",
       "      <td>6.300000e+02</td>\n",
       "      <td>6.300000e+02</td>\n",
       "      <td>6.300000e+02</td>\n",
       "      <td>6.300000e+02</td>\n",
       "      <td>6.300000e+02</td>\n",
       "      <td>630.000000</td>\n",
       "      <td>...</td>\n",
       "      <td>6.300000e+02</td>\n",
       "      <td>630.000000</td>\n",
       "      <td>6.300000e+02</td>\n",
       "      <td>6.300000e+02</td>\n",
       "      <td>6.300000e+02</td>\n",
       "      <td>6.300000e+02</td>\n",
       "      <td>6.300000e+02</td>\n",
       "      <td>630.000000</td>\n",
       "      <td>630.000000</td>\n",
       "      <td>630.000000</td>\n",
       "    </tr>\n",
       "    <tr>\n",
       "      <th>mean</th>\n",
       "      <td>9.992884</td>\n",
       "      <td>8.044474</td>\n",
       "      <td>3.151311</td>\n",
       "      <td>6.196763e-04</td>\n",
       "      <td>8.340269e-03</td>\n",
       "      <td>2.472426e-05</td>\n",
       "      <td>4.749857e-05</td>\n",
       "      <td>1.388595e-04</td>\n",
       "      <td>2.723730e-04</td>\n",
       "      <td>0.003724</td>\n",
       "      <td>...</td>\n",
       "      <td>3.719870e-04</td>\n",
       "      <td>0.002058</td>\n",
       "      <td>4.143711e-05</td>\n",
       "      <td>8.364456e-06</td>\n",
       "      <td>9.264267e-06</td>\n",
       "      <td>6.347386e-04</td>\n",
       "      <td>2.708267e-03</td>\n",
       "      <td>0.000412</td>\n",
       "      <td>0.004948</td>\n",
       "      <td>0.003051</td>\n",
       "    </tr>\n",
       "    <tr>\n",
       "      <th>std</th>\n",
       "      <td>5.219684</td>\n",
       "      <td>4.037071</td>\n",
       "      <td>1.816415</td>\n",
       "      <td>4.818887e-04</td>\n",
       "      <td>1.633555e-02</td>\n",
       "      <td>9.787475e-05</td>\n",
       "      <td>1.010408e-04</td>\n",
       "      <td>2.148844e-04</td>\n",
       "      <td>3.294426e-04</td>\n",
       "      <td>0.002215</td>\n",
       "      <td>...</td>\n",
       "      <td>6.560960e-04</td>\n",
       "      <td>0.004830</td>\n",
       "      <td>8.284218e-05</td>\n",
       "      <td>1.076455e-05</td>\n",
       "      <td>2.159000e-05</td>\n",
       "      <td>1.640791e-03</td>\n",
       "      <td>1.980129e-02</td>\n",
       "      <td>0.000361</td>\n",
       "      <td>0.002836</td>\n",
       "      <td>0.003332</td>\n",
       "    </tr>\n",
       "    <tr>\n",
       "      <th>min</th>\n",
       "      <td>1.005871</td>\n",
       "      <td>1.067269</td>\n",
       "      <td>0.005199</td>\n",
       "      <td>8.617785e-07</td>\n",
       "      <td>2.465118e-10</td>\n",
       "      <td>1.376413e-08</td>\n",
       "      <td>2.116877e-09</td>\n",
       "      <td>3.950839e-07</td>\n",
       "      <td>8.291398e-07</td>\n",
       "      <td>0.000381</td>\n",
       "      <td>...</td>\n",
       "      <td>1.198878e-09</td>\n",
       "      <td>0.000001</td>\n",
       "      <td>3.065996e-08</td>\n",
       "      <td>4.088989e-09</td>\n",
       "      <td>6.860311e-11</td>\n",
       "      <td>2.012471e-08</td>\n",
       "      <td>3.153790e-08</td>\n",
       "      <td>0.000105</td>\n",
       "      <td>0.000074</td>\n",
       "      <td>0.000111</td>\n",
       "    </tr>\n",
       "    <tr>\n",
       "      <th>25%</th>\n",
       "      <td>5.569799</td>\n",
       "      <td>4.663910</td>\n",
       "      <td>1.599479</td>\n",
       "      <td>9.674319e-05</td>\n",
       "      <td>3.877945e-05</td>\n",
       "      <td>6.793379e-07</td>\n",
       "      <td>5.418179e-06</td>\n",
       "      <td>2.420521e-05</td>\n",
       "      <td>1.326391e-04</td>\n",
       "      <td>0.001462</td>\n",
       "      <td>...</td>\n",
       "      <td>4.477403e-05</td>\n",
       "      <td>0.000149</td>\n",
       "      <td>4.783567e-06</td>\n",
       "      <td>1.593901e-06</td>\n",
       "      <td>2.837937e-07</td>\n",
       "      <td>2.990540e-05</td>\n",
       "      <td>2.052539e-07</td>\n",
       "      <td>0.000241</td>\n",
       "      <td>0.002250</td>\n",
       "      <td>0.001614</td>\n",
       "    </tr>\n",
       "    <tr>\n",
       "      <th>50%</th>\n",
       "      <td>10.169453</td>\n",
       "      <td>8.009319</td>\n",
       "      <td>3.131510</td>\n",
       "      <td>6.359934e-04</td>\n",
       "      <td>4.358203e-03</td>\n",
       "      <td>1.794527e-06</td>\n",
       "      <td>2.587372e-05</td>\n",
       "      <td>5.468356e-05</td>\n",
       "      <td>2.011937e-04</td>\n",
       "      <td>0.003905</td>\n",
       "      <td>...</td>\n",
       "      <td>1.351478e-04</td>\n",
       "      <td>0.000419</td>\n",
       "      <td>9.350269e-06</td>\n",
       "      <td>3.585182e-06</td>\n",
       "      <td>2.260417e-06</td>\n",
       "      <td>8.034683e-05</td>\n",
       "      <td>7.179130e-06</td>\n",
       "      <td>0.000251</td>\n",
       "      <td>0.005788</td>\n",
       "      <td>0.002529</td>\n",
       "    </tr>\n",
       "    <tr>\n",
       "      <th>75%</th>\n",
       "      <td>14.497334</td>\n",
       "      <td>11.571639</td>\n",
       "      <td>4.711520</td>\n",
       "      <td>1.073709e-03</td>\n",
       "      <td>1.036252e-02</td>\n",
       "      <td>6.713850e-06</td>\n",
       "      <td>5.548911e-05</td>\n",
       "      <td>1.458130e-04</td>\n",
       "      <td>3.292565e-04</td>\n",
       "      <td>0.005792</td>\n",
       "      <td>...</td>\n",
       "      <td>4.299880e-04</td>\n",
       "      <td>0.000976</td>\n",
       "      <td>3.654480e-05</td>\n",
       "      <td>1.068231e-05</td>\n",
       "      <td>7.462262e-06</td>\n",
       "      <td>4.013051e-04</td>\n",
       "      <td>2.704708e-04</td>\n",
       "      <td>0.000399</td>\n",
       "      <td>0.007094</td>\n",
       "      <td>0.003154</td>\n",
       "    </tr>\n",
       "    <tr>\n",
       "      <th>max</th>\n",
       "      <td>18.972209</td>\n",
       "      <td>14.979260</td>\n",
       "      <td>6.280133</td>\n",
       "      <td>2.147700e-03</td>\n",
       "      <td>2.317472e-01</td>\n",
       "      <td>1.397088e-03</td>\n",
       "      <td>1.623856e-03</td>\n",
       "      <td>1.512392e-03</td>\n",
       "      <td>3.803724e-03</td>\n",
       "      <td>0.007987</td>\n",
       "      <td>...</td>\n",
       "      <td>6.060141e-03</td>\n",
       "      <td>0.042951</td>\n",
       "      <td>6.394440e-04</td>\n",
       "      <td>5.379899e-05</td>\n",
       "      <td>2.034130e-04</td>\n",
       "      <td>1.373263e-02</td>\n",
       "      <td>2.847944e-01</td>\n",
       "      <td>0.002430</td>\n",
       "      <td>0.015711</td>\n",
       "      <td>0.033328</td>\n",
       "    </tr>\n",
       "  </tbody>\n",
       "</table>\n",
       "<p>8 rows × 29 columns</p>\n",
       "</div>"
      ],
      "text/plain": [
       "               B0         rho       gamma      prob_0_0      prob_0_1  \\\n",
       "count  630.000000  630.000000  630.000000  6.300000e+02  6.300000e+02   \n",
       "mean     9.992884    8.044474    3.151311  6.196763e-04  8.340269e-03   \n",
       "std      5.219684    4.037071    1.816415  4.818887e-04  1.633555e-02   \n",
       "min      1.005871    1.067269    0.005199  8.617785e-07  2.465118e-10   \n",
       "25%      5.569799    4.663910    1.599479  9.674319e-05  3.877945e-05   \n",
       "50%     10.169453    8.009319    3.131510  6.359934e-04  4.358203e-03   \n",
       "75%     14.497334   11.571639    4.711520  1.073709e-03  1.036252e-02   \n",
       "max     18.972209   14.979260    6.280133  2.147700e-03  2.317472e-01   \n",
       "\n",
       "           prob_0_2      prob_0_3      prob_0_4      prob_1_0    prob_1_1  \\\n",
       "count  6.300000e+02  6.300000e+02  6.300000e+02  6.300000e+02  630.000000   \n",
       "mean   2.472426e-05  4.749857e-05  1.388595e-04  2.723730e-04    0.003724   \n",
       "std    9.787475e-05  1.010408e-04  2.148844e-04  3.294426e-04    0.002215   \n",
       "min    1.376413e-08  2.116877e-09  3.950839e-07  8.291398e-07    0.000381   \n",
       "25%    6.793379e-07  5.418179e-06  2.420521e-05  1.326391e-04    0.001462   \n",
       "50%    1.794527e-06  2.587372e-05  5.468356e-05  2.011937e-04    0.003905   \n",
       "75%    6.713850e-06  5.548911e-05  1.458130e-04  3.292565e-04    0.005792   \n",
       "max    1.397088e-03  1.623856e-03  1.512392e-03  3.803724e-03    0.007987   \n",
       "\n",
       "       ...      prob_3_1    prob_3_2      prob_3_3      prob_3_4  \\\n",
       "count  ...  6.300000e+02  630.000000  6.300000e+02  6.300000e+02   \n",
       "mean   ...  3.719870e-04    0.002058  4.143711e-05  8.364456e-06   \n",
       "std    ...  6.560960e-04    0.004830  8.284218e-05  1.076455e-05   \n",
       "min    ...  1.198878e-09    0.000001  3.065996e-08  4.088989e-09   \n",
       "25%    ...  4.477403e-05    0.000149  4.783567e-06  1.593901e-06   \n",
       "50%    ...  1.351478e-04    0.000419  9.350269e-06  3.585182e-06   \n",
       "75%    ...  4.299880e-04    0.000976  3.654480e-05  1.068231e-05   \n",
       "max    ...  6.060141e-03    0.042951  6.394440e-04  5.379899e-05   \n",
       "\n",
       "           prob_4_0      prob_4_1      prob_4_2    prob_4_3    prob_4_4  \\\n",
       "count  6.300000e+02  6.300000e+02  6.300000e+02  630.000000  630.000000   \n",
       "mean   9.264267e-06  6.347386e-04  2.708267e-03    0.000412    0.004948   \n",
       "std    2.159000e-05  1.640791e-03  1.980129e-02    0.000361    0.002836   \n",
       "min    6.860311e-11  2.012471e-08  3.153790e-08    0.000105    0.000074   \n",
       "25%    2.837937e-07  2.990540e-05  2.052539e-07    0.000241    0.002250   \n",
       "50%    2.260417e-06  8.034683e-05  7.179130e-06    0.000251    0.005788   \n",
       "75%    7.462262e-06  4.013051e-04  2.704708e-04    0.000399    0.007094   \n",
       "max    2.034130e-04  1.373263e-02  2.847944e-01    0.002430    0.015711   \n",
       "\n",
       "             prob  \n",
       "count  630.000000  \n",
       "mean     0.003051  \n",
       "std      0.003332  \n",
       "min      0.000111  \n",
       "25%      0.001614  \n",
       "50%      0.002529  \n",
       "75%      0.003154  \n",
       "max      0.033328  \n",
       "\n",
       "[8 rows x 29 columns]"
      ]
     },
     "execution_count": 16,
     "metadata": {},
     "output_type": "execute_result"
    }
   ],
   "source": [
    "df_jitter.describe()"
   ]
  },
  {
   "cell_type": "code",
   "execution_count": null,
   "id": "bd307ec0-2066-4de4-bc1c-f83125aa7446",
   "metadata": {
    "tags": []
   },
   "outputs": [],
   "source": [
    "#fig = px.parallel_coordinates(df, color='prob')\n",
    "#fig = px.parallel_categories(df.sample(n=100), color='prob') # color is also discrete\n",
    "fig = parallel_coordinates_and_hist(\n",
    "    df_jitter,\n",
    "    dimensions=[c for c in df.columns if not c.startswith('prob_')],\n",
    "    color='prob',\n",
    "    color_continuous_scale=px.colors.sequential.Turbo)\n",
    "fig.update_layout(height=600)\n",
    "fig"
   ]
  },
  {
   "cell_type": "markdown",
   "id": "5b741e34-ec0a-45a6-9608-4fb7ff1a5659",
   "metadata": {},
   "source": [
    "## Bipoles (Yeates 2020)"
   ]
  },
  {
   "cell_type": "code",
   "execution_count": 13,
   "id": "05a1332d-703c-45e6-9151-280d938690fa",
   "metadata": {
    "execution": {
     "iopub.execute_input": "2021-09-26T05:27:35.280208Z",
     "iopub.status.busy": "2021-09-26T05:27:35.279564Z",
     "iopub.status.idle": "2021-09-26T05:27:35.340316Z",
     "shell.execute_reply": "2021-09-26T05:27:35.339037Z",
     "shell.execute_reply.started": "2021-09-26T05:27:35.280139Z"
    },
    "tags": []
   },
   "outputs": [],
   "source": [
    "x = y = np.linspace(-10.0, 10.0, 128)\n",
    "X, Y = np.meshgrid(x, y)\n",
    "XY = np.stack((X, Y), axis=-1)"
   ]
  },
  {
   "cell_type": "code",
   "execution_count": 18,
   "id": "93d04de2-d5ff-4c78-b71a-a35b4fbb9982",
   "metadata": {
    "execution": {
     "iopub.execute_input": "2021-09-26T05:28:12.451295Z",
     "iopub.status.busy": "2021-09-26T05:28:12.450845Z",
     "iopub.status.idle": "2021-09-26T05:28:12.910306Z",
     "shell.execute_reply": "2021-09-26T05:28:12.909128Z",
     "shell.execute_reply.started": "2021-09-26T05:28:12.451247Z"
    },
    "tags": []
   },
   "outputs": [
    {
     "data": {
      "text/plain": [
       "<matplotlib.colorbar.Colorbar at 0x7fe893543ca0>"
      ]
     },
     "execution_count": 18,
     "metadata": {},
     "output_type": "execute_result"
    },
    {
     "data": {
      "image/png": "[encoded data removed]",
      "text/plain": [
       "<Figure size 432x288 with 2 Axes>"
      ]
     },
     "metadata": {
      "needs_background": "light"
     },
     "output_type": "display_data"
    }
   ],
   "source": [
    "Z = bipole_yeates2020(XY, B0=80, rho=10, gamma=0*np.pi, a=0.56)\n",
    "plt.imshow(Z, origin='lower', cmap='RdBu_r')\n",
    "plt.colorbar()"
   ]
  },
  {
   "cell_type": "code",
   "execution_count": 19,
   "id": "e7a9054a-b650-43ee-ba0c-a5a23771c7c9",
   "metadata": {
    "execution": {
     "iopub.execute_input": "2021-09-26T05:28:45.756722Z",
     "iopub.status.busy": "2021-09-26T05:28:45.756138Z",
     "iopub.status.idle": "2021-09-26T05:30:15.538658Z",
     "shell.execute_reply": "2021-09-26T05:30:15.537345Z",
     "shell.execute_reply.started": "2021-09-26T05:28:45.756656Z"
    },
    "tags": []
   },
   "outputs": [
    {
     "data": {
      "application/vnd.jupyter.widget-view+json": {
       "model_id": "7882d241a65141f39781750bbbad6a17",
       "version_major": 2,
       "version_minor": 0
      },
      "text/plain": [
       "  0%|          | 0/490 [00:00<?, ?it/s]"
      ]
     },
     "metadata": {},
     "output_type": "display_data"
    },
    {
     "data": {
      "application/vnd.jupyter.widget-view+json": {
       "model_id": "11d009699be3472d98369686c5ea199e",
       "version_major": 2,
       "version_minor": 0
      },
      "text/plain": [
       "  0%|          | 0/25 [00:00<?, ?it/s]"
      ]
     },
     "metadata": {},
     "output_type": "display_data"
    },
    {
     "name": "stdout",
     "output_type": "stream",
     "text": [
      "dict_values(['cv', 'base', 'sharp', '0', '0', '0', 'CNN'])\n",
      "Select iloc slice(None, None, None) from \n",
      "                          start_time tags.mlflow.runName\n",
      "200 2021-09-10 18:09:23.430000+00:00                base\n"
     ]
    },
    {
     "data": {
      "application/vnd.jupyter.widget-view+json": {
       "model_id": "2a50e1b96fc44da5bb6b0c28144f4e3b",
       "version_major": 2,
       "version_minor": 0
      },
      "text/plain": [
       "  0%|          | 0/31 [00:00<?, ?it/s]"
      ]
     },
     "metadata": {},
     "output_type": "display_data"
    },
    {
     "name": "stdout",
     "output_type": "stream",
     "text": [
      "dict_values(['cv', 'base', 'sharp', '0', '0', '1', 'CNN'])\n"
     ]
    },
    {
     "data": {
      "application/vnd.jupyter.widget-view+json": {
       "model_id": "5471d190058b4273a7a6f74dc35b15f9",
       "version_major": 2,
       "version_minor": 0
      },
      "text/plain": [
       "  0%|          | 0/31 [00:00<?, ?it/s]"
      ]
     },
     "metadata": {},
     "output_type": "display_data"
    },
    {
     "name": "stdout",
     "output_type": "stream",
     "text": [
      "dict_values(['cv', 'base', 'sharp', '0', '0', '2', 'CNN'])\n"
     ]
    },
    {
     "data": {
      "application/vnd.jupyter.widget-view+json": {
       "model_id": "fe0282ba7f56447bb2dd636641d519af",
       "version_major": 2,
       "version_minor": 0
      },
      "text/plain": [
       "  0%|          | 0/31 [00:00<?, ?it/s]"
      ]
     },
     "metadata": {},
     "output_type": "display_data"
    },
    {
     "name": "stdout",
     "output_type": "stream",
     "text": [
      "dict_values(['cv', 'base', 'sharp', '0', '0', '3', 'CNN'])\n"
     ]
    },
    {
     "data": {
      "application/vnd.jupyter.widget-view+json": {
       "model_id": "93f0fabdd3bf45ce90ba6d4244148a45",
       "version_major": 2,
       "version_minor": 0
      },
      "text/plain": [
       "  0%|          | 0/31 [00:00<?, ?it/s]"
      ]
     },
     "metadata": {},
     "output_type": "display_data"
    },
    {
     "name": "stdout",
     "output_type": "stream",
     "text": [
      "dict_values(['cv', 'base', 'sharp', '0', '0', '4', 'CNN'])\n"
     ]
    },
    {
     "data": {
      "application/vnd.jupyter.widget-view+json": {
       "model_id": "4d97d322085447b2a9ae3dc0e6d9dbdd",
       "version_major": 2,
       "version_minor": 0
      },
      "text/plain": [
       "  0%|          | 0/31 [00:00<?, ?it/s]"
      ]
     },
     "metadata": {},
     "output_type": "display_data"
    },
    {
     "name": "stdout",
     "output_type": "stream",
     "text": [
      "dict_values(['cv', 'base', 'sharp', '0', '1', '0', 'CNN'])\n"
     ]
    },
    {
     "data": {
      "application/vnd.jupyter.widget-view+json": {
       "model_id": "94b13a0aff0a4e4e896dc9208ed5baae",
       "version_major": 2,
       "version_minor": 0
      },
      "text/plain": [
       "  0%|          | 0/31 [00:00<?, ?it/s]"
      ]
     },
     "metadata": {},
     "output_type": "display_data"
    },
    {
     "name": "stdout",
     "output_type": "stream",
     "text": [
      "dict_values(['cv', 'base', 'sharp', '0', '1', '1', 'CNN'])\n"
     ]
    },
    {
     "data": {
      "application/vnd.jupyter.widget-view+json": {
       "model_id": "bf0720cb818346da82de8da553815b4d",
       "version_major": 2,
       "version_minor": 0
      },
      "text/plain": [
       "  0%|          | 0/31 [00:00<?, ?it/s]"
      ]
     },
     "metadata": {},
     "output_type": "display_data"
    },
    {
     "name": "stdout",
     "output_type": "stream",
     "text": [
      "dict_values(['cv', 'base', 'sharp', '0', '1', '2', 'CNN'])\n"
     ]
    },
    {
     "data": {
      "application/vnd.jupyter.widget-view+json": {
       "model_id": "fb8231d79c20424d801d83e562051aae",
       "version_major": 2,
       "version_minor": 0
      },
      "text/plain": [
       "  0%|          | 0/31 [00:00<?, ?it/s]"
      ]
     },
     "metadata": {},
     "output_type": "display_data"
    },
    {
     "name": "stdout",
     "output_type": "stream",
     "text": [
      "dict_values(['cv', 'base', 'sharp', '0', '1', '3', 'CNN'])\n"
     ]
    },
    {
     "data": {
      "application/vnd.jupyter.widget-view+json": {
       "model_id": "a9e8157b2611452aad61f1ceb1787ddf",
       "version_major": 2,
       "version_minor": 0
      },
      "text/plain": [
       "  0%|          | 0/31 [00:00<?, ?it/s]"
      ]
     },
     "metadata": {},
     "output_type": "display_data"
    },
    {
     "name": "stdout",
     "output_type": "stream",
     "text": [
      "dict_values(['cv', 'base', 'sharp', '0', '1', '4', 'CNN'])\n"
     ]
    },
    {
     "data": {
      "application/vnd.jupyter.widget-view+json": {
       "model_id": "3d8d14f4ce474322b7ccceb168e6a4e5",
       "version_major": 2,
       "version_minor": 0
      },
      "text/plain": [
       "  0%|          | 0/31 [00:00<?, ?it/s]"
      ]
     },
     "metadata": {},
     "output_type": "display_data"
    },
    {
     "name": "stdout",
     "output_type": "stream",
     "text": [
      "dict_values(['cv', 'base', 'sharp', '0', '2', '0', 'CNN'])\n"
     ]
    },
    {
     "data": {
      "application/vnd.jupyter.widget-view+json": {
       "model_id": "7512b37de713416983f9943be4c6768a",
       "version_major": 2,
       "version_minor": 0
      },
      "text/plain": [
       "  0%|          | 0/31 [00:00<?, ?it/s]"
      ]
     },
     "metadata": {},
     "output_type": "display_data"
    },
    {
     "name": "stdout",
     "output_type": "stream",
     "text": [
      "dict_values(['cv', 'base', 'sharp', '0', '2', '1', 'CNN'])\n"
     ]
    },
    {
     "data": {
      "application/vnd.jupyter.widget-view+json": {
       "model_id": "1f142044e2f84caa8f6caed6dd9764db",
       "version_major": 2,
       "version_minor": 0
      },
      "text/plain": [
       "  0%|          | 0/31 [00:00<?, ?it/s]"
      ]
     },
     "metadata": {},
     "output_type": "display_data"
    },
    {
     "name": "stdout",
     "output_type": "stream",
     "text": [
      "dict_values(['cv', 'base', 'sharp', '0', '2', '2', 'CNN'])\n"
     ]
    },
    {
     "data": {
      "application/vnd.jupyter.widget-view+json": {
       "model_id": "ff8ea84bc38043cd9a1beabb41f0445c",
       "version_major": 2,
       "version_minor": 0
      },
      "text/plain": [
       "  0%|          | 0/31 [00:00<?, ?it/s]"
      ]
     },
     "metadata": {},
     "output_type": "display_data"
    },
    {
     "name": "stdout",
     "output_type": "stream",
     "text": [
      "dict_values(['cv', 'base', 'sharp', '0', '2', '3', 'CNN'])\n"
     ]
    },
    {
     "data": {
      "application/vnd.jupyter.widget-view+json": {
       "model_id": "9cc12ae0c48648ea88edc012095932ef",
       "version_major": 2,
       "version_minor": 0
      },
      "text/plain": [
       "  0%|          | 0/31 [00:00<?, ?it/s]"
      ]
     },
     "metadata": {},
     "output_type": "display_data"
    },
    {
     "name": "stdout",
     "output_type": "stream",
     "text": [
      "dict_values(['cv', 'base', 'sharp', '0', '2', '4', 'CNN'])\n"
     ]
    },
    {
     "data": {
      "application/vnd.jupyter.widget-view+json": {
       "model_id": "7eda1f988cd8444d93c3e0761a0c8fed",
       "version_major": 2,
       "version_minor": 0
      },
      "text/plain": [
       "  0%|          | 0/31 [00:00<?, ?it/s]"
      ]
     },
     "metadata": {},
     "output_type": "display_data"
    },
    {
     "name": "stdout",
     "output_type": "stream",
     "text": [
      "dict_values(['cv', 'base', 'sharp', '0', '3', '0', 'CNN'])\n"
     ]
    },
    {
     "data": {
      "application/vnd.jupyter.widget-view+json": {
       "model_id": "e703397b899248d791d7e15cb8c7f58b",
       "version_major": 2,
       "version_minor": 0
      },
      "text/plain": [
       "  0%|          | 0/31 [00:00<?, ?it/s]"
      ]
     },
     "metadata": {},
     "output_type": "display_data"
    },
    {
     "name": "stdout",
     "output_type": "stream",
     "text": [
      "dict_values(['cv', 'base', 'sharp', '0', '3', '1', 'CNN'])\n"
     ]
    },
    {
     "data": {
      "application/vnd.jupyter.widget-view+json": {
       "model_id": "6d10e268f48b493fa4bd713f000514da",
       "version_major": 2,
       "version_minor": 0
      },
      "text/plain": [
       "  0%|          | 0/31 [00:00<?, ?it/s]"
      ]
     },
     "metadata": {},
     "output_type": "display_data"
    },
    {
     "name": "stdout",
     "output_type": "stream",
     "text": [
      "dict_values(['cv', 'base', 'sharp', '0', '3', '2', 'CNN'])\n"
     ]
    },
    {
     "data": {
      "application/vnd.jupyter.widget-view+json": {
       "model_id": "f93dcc38de254bdb80addeca25b0a7bc",
       "version_major": 2,
       "version_minor": 0
      },
      "text/plain": [
       "  0%|          | 0/31 [00:00<?, ?it/s]"
      ]
     },
     "metadata": {},
     "output_type": "display_data"
    },
    {
     "name": "stdout",
     "output_type": "stream",
     "text": [
      "dict_values(['cv', 'base', 'sharp', '0', '3', '3', 'CNN'])\n"
     ]
    },
    {
     "data": {
      "application/vnd.jupyter.widget-view+json": {
       "model_id": "e35cd190af514e93a8f47b1089cefc0f",
       "version_major": 2,
       "version_minor": 0
      },
      "text/plain": [
       "  0%|          | 0/31 [00:00<?, ?it/s]"
      ]
     },
     "metadata": {},
     "output_type": "display_data"
    },
    {
     "name": "stdout",
     "output_type": "stream",
     "text": [
      "dict_values(['cv', 'base', 'sharp', '0', '3', '4', 'CNN'])\n"
     ]
    },
    {
     "data": {
      "application/vnd.jupyter.widget-view+json": {
       "model_id": "98616707ccc04b4cb1d6a3bade4a02e1",
       "version_major": 2,
       "version_minor": 0
      },
      "text/plain": [
       "  0%|          | 0/31 [00:00<?, ?it/s]"
      ]
     },
     "metadata": {},
     "output_type": "display_data"
    },
    {
     "name": "stdout",
     "output_type": "stream",
     "text": [
      "dict_values(['cv', 'base', 'sharp', '0', '4', '0', 'CNN'])\n"
     ]
    },
    {
     "data": {
      "application/vnd.jupyter.widget-view+json": {
       "model_id": "3591ab8ef11d41f9a85180098b9ce61a",
       "version_major": 2,
       "version_minor": 0
      },
      "text/plain": [
       "  0%|          | 0/31 [00:00<?, ?it/s]"
      ]
     },
     "metadata": {},
     "output_type": "display_data"
    },
    {
     "name": "stdout",
     "output_type": "stream",
     "text": [
      "dict_values(['cv', 'base', 'sharp', '0', '4', '1', 'CNN'])\n"
     ]
    },
    {
     "data": {
      "application/vnd.jupyter.widget-view+json": {
       "model_id": "d9933e827532469c8154661c1fd4c9da",
       "version_major": 2,
       "version_minor": 0
      },
      "text/plain": [
       "  0%|          | 0/31 [00:00<?, ?it/s]"
      ]
     },
     "metadata": {},
     "output_type": "display_data"
    },
    {
     "name": "stdout",
     "output_type": "stream",
     "text": [
      "dict_values(['cv', 'base', 'sharp', '0', '4', '2', 'CNN'])\n"
     ]
    },
    {
     "data": {
      "application/vnd.jupyter.widget-view+json": {
       "model_id": "dbc6a2286def44748bd6a35c0753b0e2",
       "version_major": 2,
       "version_minor": 0
      },
      "text/plain": [
       "  0%|          | 0/31 [00:00<?, ?it/s]"
      ]
     },
     "metadata": {},
     "output_type": "display_data"
    },
    {
     "name": "stdout",
     "output_type": "stream",
     "text": [
      "dict_values(['cv', 'base', 'sharp', '0', '4', '3', 'CNN'])\n"
     ]
    },
    {
     "data": {
      "application/vnd.jupyter.widget-view+json": {
       "model_id": "2130499923cf401aa0d4f76ba5e1e318",
       "version_major": 2,
       "version_minor": 0
      },
      "text/plain": [
       "  0%|          | 0/31 [00:00<?, ?it/s]"
      ]
     },
     "metadata": {},
     "output_type": "display_data"
    },
    {
     "name": "stdout",
     "output_type": "stream",
     "text": [
      "dict_values(['cv', 'base', 'sharp', '0', '4', '4', 'CNN'])\n"
     ]
    },
    {
     "data": {
      "application/vnd.jupyter.widget-view+json": {
       "model_id": "c167b8b5473f4c2cb94f0acb7b16eb69",
       "version_major": 2,
       "version_minor": 0
      },
      "text/plain": [
       "  0%|          | 0/31 [00:00<?, ?it/s]"
      ]
     },
     "metadata": {},
     "output_type": "display_data"
    }
   ],
   "source": [
    "B0_list = np.arange(10, 80, 10)\n",
    "rho_list = np.arange(1, 15, 2)\n",
    "gamma_list = np.pi * np.arange(0, 2, 0.2)\n",
    "\n",
    "params = list(product(B0_list, rho_list, gamma_list))\n",
    "names = ['B0', 'rho', 'gamma']\n",
    "\n",
    "df, Z_list = sweep_learner_and_Z_list(bipole_yeates2020, XY, params, names)"
   ]
  },
  {
   "cell_type": "code",
   "execution_count": 22,
   "id": "bdfd578b-05b4-4797-b845-6b37ff65b10b",
   "metadata": {
    "execution": {
     "iopub.execute_input": "2021-09-26T05:43:53.335803Z",
     "iopub.status.busy": "2021-09-26T05:43:53.334586Z",
     "iopub.status.idle": "2021-09-26T05:43:53.390900Z",
     "shell.execute_reply": "2021-09-26T05:43:53.389768Z",
     "shell.execute_reply.started": "2021-09-26T05:43:53.335745Z"
    },
    "tags": []
   },
   "outputs": [
    {
     "name": "stdout",
     "output_type": "stream",
     "text": [
      "24\n"
     ]
    }
   ],
   "source": [
    "df_pos = df[df['prob'] > 0.5]\n",
    "Z_list_pos = [Z_list[i] for i in df_pos.index]\n",
    "print(len(df_pos))"
   ]
  },
  {
   "cell_type": "code",
   "execution_count": 23,
   "id": "31f1ee2a-8e1c-4133-83e6-fef7258226ed",
   "metadata": {
    "execution": {
     "iopub.execute_input": "2021-09-26T05:43:56.786154Z",
     "iopub.status.busy": "2021-09-26T05:43:56.785590Z",
     "iopub.status.idle": "2021-09-26T05:43:57.113571Z",
     "shell.execute_reply": "2021-09-26T05:43:57.112635Z",
     "shell.execute_reply.started": "2021-09-26T05:43:56.786091Z"
    },
    "tags": []
   },
   "outputs": [
    {
     "data": {
      "text/html": [
       "<style type=\"text/css\">\n",
       "#T_45f9e_row0_col0, #T_45f9e_row0_col1, #T_45f9e_row0_col2, #T_45f9e_row0_col3, #T_45f9e_row0_col4, #T_45f9e_row0_col5, #T_45f9e_row0_col6, #T_45f9e_row0_col7, #T_45f9e_row0_col8, #T_45f9e_row0_col9, #T_45f9e_row0_col10, #T_45f9e_row0_col11, #T_45f9e_row0_col12, #T_45f9e_row0_col13, #T_45f9e_row0_col14, #T_45f9e_row0_col15, #T_45f9e_row0_col16, #T_45f9e_row0_col17, #T_45f9e_row0_col18, #T_45f9e_row0_col19, #T_45f9e_row0_col20, #T_45f9e_row0_col21, #T_45f9e_row0_col22, #T_45f9e_row0_col23, #T_45f9e_row0_col24, #T_45f9e_row1_col22, #T_45f9e_row2_col22, #T_45f9e_row3_col0, #T_45f9e_row3_col1, #T_45f9e_row3_col2, #T_45f9e_row3_col3, #T_45f9e_row3_col4, #T_45f9e_row3_col8, #T_45f9e_row3_col9, #T_45f9e_row3_col11, #T_45f9e_row3_col12, #T_45f9e_row3_col14, #T_45f9e_row3_col15, #T_45f9e_row3_col16, #T_45f9e_row3_col17, #T_45f9e_row3_col18, #T_45f9e_row3_col19, #T_45f9e_row3_col20, #T_45f9e_row3_col21, #T_45f9e_row3_col22, #T_45f9e_row4_col1, #T_45f9e_row4_col2, #T_45f9e_row4_col3, #T_45f9e_row4_col9, #T_45f9e_row4_col12, #T_45f9e_row4_col15, #T_45f9e_row4_col16, #T_45f9e_row4_col18, #T_45f9e_row4_col19, #T_45f9e_row4_col20, #T_45f9e_row4_col21, #T_45f9e_row4_col22, #T_45f9e_row5_col2, #T_45f9e_row5_col3, #T_45f9e_row5_col9, #T_45f9e_row5_col12, #T_45f9e_row5_col15, #T_45f9e_row5_col16, #T_45f9e_row5_col18, #T_45f9e_row5_col19, #T_45f9e_row5_col20, #T_45f9e_row5_col21, #T_45f9e_row5_col22, #T_45f9e_row6_col3, #T_45f9e_row6_col9, #T_45f9e_row6_col12, #T_45f9e_row6_col15, #T_45f9e_row6_col16, #T_45f9e_row6_col18, #T_45f9e_row6_col19, #T_45f9e_row6_col20, #T_45f9e_row6_col21, #T_45f9e_row6_col22, #T_45f9e_row7_col24 {\n",
       "  background-color: #fff7fb;\n",
       "  color: #000000;\n",
       "}\n",
       "#T_45f9e_row1_col0 {\n",
       "  background-color: #0566a0;\n",
       "  color: #f1f1f1;\n",
       "}\n",
       "#T_45f9e_row1_col1 {\n",
       "  background-color: #cccfe5;\n",
       "  color: #000000;\n",
       "}\n",
       "#T_45f9e_row1_col2 {\n",
       "  background-color: #bcc7e1;\n",
       "  color: #000000;\n",
       "}\n",
       "#T_45f9e_row1_col3, #T_45f9e_row2_col16 {\n",
       "  background-color: #f0eaf4;\n",
       "  color: #000000;\n",
       "}\n",
       "#T_45f9e_row1_col4 {\n",
       "  background-color: #99b8d8;\n",
       "  color: #000000;\n",
       "}\n",
       "#T_45f9e_row1_col5 {\n",
       "  background-color: #9ebad9;\n",
       "  color: #000000;\n",
       "}\n",
       "#T_45f9e_row1_col6 {\n",
       "  background-color: #8fb4d6;\n",
       "  color: #000000;\n",
       "}\n",
       "#T_45f9e_row1_col7, #T_45f9e_row1_col8, #T_45f9e_row1_col14 {\n",
       "  background-color: #b0c2de;\n",
       "  color: #000000;\n",
       "}\n",
       "#T_45f9e_row1_col9 {\n",
       "  background-color: #dddbec;\n",
       "  color: #000000;\n",
       "}\n",
       "#T_45f9e_row1_col10, #T_45f9e_row2_col10, #T_45f9e_row3_col6, #T_45f9e_row4_col11, #T_45f9e_row5_col10, #T_45f9e_row6_col10, #T_45f9e_row7_col0, #T_45f9e_row7_col1, #T_45f9e_row7_col2, #T_45f9e_row7_col3, #T_45f9e_row7_col4, #T_45f9e_row7_col5, #T_45f9e_row7_col6, #T_45f9e_row7_col7, #T_45f9e_row7_col8, #T_45f9e_row7_col9, #T_45f9e_row7_col10, #T_45f9e_row7_col11, #T_45f9e_row7_col14, #T_45f9e_row7_col15, #T_45f9e_row7_col17, #T_45f9e_row7_col20 {\n",
       "  background-color: #023858;\n",
       "  color: #f1f1f1;\n",
       "}\n",
       "#T_45f9e_row1_col11 {\n",
       "  background-color: #046198;\n",
       "  color: #f1f1f1;\n",
       "}\n",
       "#T_45f9e_row1_col12, #T_45f9e_row3_col5, #T_45f9e_row5_col1, #T_45f9e_row5_col5, #T_45f9e_row5_col14, #T_45f9e_row5_col23, #T_45f9e_row6_col2 {\n",
       "  background-color: #fef6fb;\n",
       "  color: #000000;\n",
       "}\n",
       "#T_45f9e_row1_col13 {\n",
       "  background-color: #f4edf6;\n",
       "  color: #000000;\n",
       "}\n",
       "#T_45f9e_row1_col15, #T_45f9e_row2_col24, #T_45f9e_row4_col5 {\n",
       "  background-color: #fbf4f9;\n",
       "  color: #000000;\n",
       "}\n",
       "#T_45f9e_row1_col16, #T_45f9e_row4_col4, #T_45f9e_row4_col14, #T_45f9e_row5_col24 {\n",
       "  background-color: #fdf5fa;\n",
       "  color: #000000;\n",
       "}\n",
       "#T_45f9e_row1_col17 {\n",
       "  background-color: #97b7d7;\n",
       "  color: #000000;\n",
       "}\n",
       "#T_45f9e_row1_col18, #T_45f9e_row3_col24, #T_45f9e_row5_col17, #T_45f9e_row6_col13, #T_45f9e_row6_col23 {\n",
       "  background-color: #fcf4fa;\n",
       "  color: #000000;\n",
       "}\n",
       "#T_45f9e_row1_col19, #T_45f9e_row3_col10, #T_45f9e_row3_col13 {\n",
       "  background-color: #f8f1f8;\n",
       "  color: #000000;\n",
       "}\n",
       "#T_45f9e_row1_col20 {\n",
       "  background-color: #e2dfee;\n",
       "  color: #000000;\n",
       "}\n",
       "#T_45f9e_row1_col21, #T_45f9e_row6_col5 {\n",
       "  background-color: #f5eef6;\n",
       "  color: #000000;\n",
       "}\n",
       "#T_45f9e_row1_col23 {\n",
       "  background-color: #e6e2ef;\n",
       "  color: #000000;\n",
       "}\n",
       "#T_45f9e_row1_col24, #T_45f9e_row2_col12, #T_45f9e_row5_col13 {\n",
       "  background-color: #fbf3f9;\n",
       "  color: #000000;\n",
       "}\n",
       "#T_45f9e_row2_col0, #T_45f9e_row6_col11 {\n",
       "  background-color: #034165;\n",
       "  color: #f1f1f1;\n",
       "}\n",
       "#T_45f9e_row2_col1 {\n",
       "  background-color: #529bc7;\n",
       "  color: #f1f1f1;\n",
       "}\n",
       "#T_45f9e_row2_col2 {\n",
       "  background-color: #1278b4;\n",
       "  color: #f1f1f1;\n",
       "}\n",
       "#T_45f9e_row2_col3 {\n",
       "  background-color: #a4bcda;\n",
       "  color: #000000;\n",
       "}\n",
       "#T_45f9e_row2_col4 {\n",
       "  background-color: #0771b1;\n",
       "  color: #f1f1f1;\n",
       "}\n",
       "#T_45f9e_row2_col5 {\n",
       "  background-color: #056ba9;\n",
       "  color: #f1f1f1;\n",
       "}\n",
       "#T_45f9e_row2_col6 {\n",
       "  background-color: #056fae;\n",
       "  color: #f1f1f1;\n",
       "}\n",
       "#T_45f9e_row2_col7 {\n",
       "  background-color: #2f8bbe;\n",
       "  color: #f1f1f1;\n",
       "}\n",
       "#T_45f9e_row2_col8 {\n",
       "  background-color: #167bb6;\n",
       "  color: #f1f1f1;\n",
       "}\n",
       "#T_45f9e_row2_col9 {\n",
       "  background-color: #63a2cb;\n",
       "  color: #f1f1f1;\n",
       "}\n",
       "#T_45f9e_row2_col11 {\n",
       "  background-color: #034871;\n",
       "  color: #f1f1f1;\n",
       "}\n",
       "#T_45f9e_row2_col13 {\n",
       "  background-color: #dcdaeb;\n",
       "  color: #000000;\n",
       "}\n",
       "#T_45f9e_row2_col14 {\n",
       "  background-color: #1e80b8;\n",
       "  color: #f1f1f1;\n",
       "}\n",
       "#T_45f9e_row2_col15, #T_45f9e_row4_col0 {\n",
       "  background-color: #e1dfed;\n",
       "  color: #000000;\n",
       "}\n",
       "#T_45f9e_row2_col17 {\n",
       "  background-color: #0c74b2;\n",
       "  color: #f1f1f1;\n",
       "}\n",
       "#T_45f9e_row2_col18 {\n",
       "  background-color: #ede8f3;\n",
       "  color: #000000;\n",
       "}\n",
       "#T_45f9e_row2_col19, #T_45f9e_row2_col21, #T_45f9e_row5_col0 {\n",
       "  background-color: #d1d2e6;\n",
       "  color: #000000;\n",
       "}\n",
       "#T_45f9e_row2_col20 {\n",
       "  background-color: #62a2cb;\n",
       "  color: #f1f1f1;\n",
       "}\n",
       "#T_45f9e_row2_col23 {\n",
       "  background-color: #9ab8d8;\n",
       "  color: #000000;\n",
       "}\n",
       "#T_45f9e_row3_col7, #T_45f9e_row6_col8 {\n",
       "  background-color: #f4eef6;\n",
       "  color: #000000;\n",
       "}\n",
       "#T_45f9e_row3_col23 {\n",
       "  background-color: #d9d8ea;\n",
       "  color: #000000;\n",
       "}\n",
       "#T_45f9e_row4_col6 {\n",
       "  background-color: #cacee5;\n",
       "  color: #000000;\n",
       "}\n",
       "#T_45f9e_row4_col7 {\n",
       "  background-color: #bbc7e0;\n",
       "  color: #000000;\n",
       "}\n",
       "#T_45f9e_row4_col8, #T_45f9e_row6_col14 {\n",
       "  background-color: #f2ecf5;\n",
       "  color: #000000;\n",
       "}\n",
       "#T_45f9e_row4_col10 {\n",
       "  background-color: #4697c4;\n",
       "  color: #f1f1f1;\n",
       "}\n",
       "#T_45f9e_row4_col13, #T_45f9e_row6_col7 {\n",
       "  background-color: #e9e5f1;\n",
       "  color: #000000;\n",
       "}\n",
       "#T_45f9e_row4_col17, #T_45f9e_row4_col24, #T_45f9e_row6_col1 {\n",
       "  background-color: #f7f0f7;\n",
       "  color: #000000;\n",
       "}\n",
       "#T_45f9e_row4_col23, #T_45f9e_row5_col7 {\n",
       "  background-color: #faf2f8;\n",
       "  color: #000000;\n",
       "}\n",
       "#T_45f9e_row5_col4, #T_45f9e_row5_col8, #T_45f9e_row6_col24 {\n",
       "  background-color: #fef6fa;\n",
       "  color: #000000;\n",
       "}\n",
       "#T_45f9e_row5_col6 {\n",
       "  background-color: #faf3f9;\n",
       "  color: #000000;\n",
       "}\n",
       "#T_45f9e_row5_col11 {\n",
       "  background-color: #8bb2d4;\n",
       "  color: #000000;\n",
       "}\n",
       "#T_45f9e_row6_col0 {\n",
       "  background-color: #023d60;\n",
       "  color: #f1f1f1;\n",
       "}\n",
       "#T_45f9e_row6_col4 {\n",
       "  background-color: #dfddec;\n",
       "  color: #000000;\n",
       "}\n",
       "#T_45f9e_row6_col6 {\n",
       "  background-color: #e0dded;\n",
       "  color: #000000;\n",
       "}\n",
       "#T_45f9e_row6_col17 {\n",
       "  background-color: #dbdaeb;\n",
       "  color: #000000;\n",
       "}\n",
       "#T_45f9e_row7_col12 {\n",
       "  background-color: #a1bbda;\n",
       "  color: #000000;\n",
       "}\n",
       "#T_45f9e_row7_col13 {\n",
       "  background-color: #045b8e;\n",
       "  color: #f1f1f1;\n",
       "}\n",
       "#T_45f9e_row7_col16 {\n",
       "  background-color: #046299;\n",
       "  color: #f1f1f1;\n",
       "}\n",
       "#T_45f9e_row7_col18 {\n",
       "  background-color: #0567a2;\n",
       "  color: #f1f1f1;\n",
       "}\n",
       "#T_45f9e_row7_col19 {\n",
       "  background-color: #02395a;\n",
       "  color: #f1f1f1;\n",
       "}\n",
       "#T_45f9e_row7_col21 {\n",
       "  background-color: #03446a;\n",
       "  color: #f1f1f1;\n",
       "}\n",
       "#T_45f9e_row7_col22 {\n",
       "  background-color: #b9c6e0;\n",
       "  color: #000000;\n",
       "}\n",
       "#T_45f9e_row7_col23 {\n",
       "  background-color: #023a5b;\n",
       "  color: #f1f1f1;\n",
       "}\n",
       "</style>\n",
       "<table id=\"T_45f9e_\">\n",
       "  <thead>\n",
       "    <tr>\n",
       "      <th class=\"blank level0\" >&nbsp;</th>\n",
       "      <th class=\"col_heading level0 col0\" >prob_0_0</th>\n",
       "      <th class=\"col_heading level0 col1\" >prob_0_1</th>\n",
       "      <th class=\"col_heading level0 col2\" >prob_0_2</th>\n",
       "      <th class=\"col_heading level0 col3\" >prob_0_3</th>\n",
       "      <th class=\"col_heading level0 col4\" >prob_0_4</th>\n",
       "      <th class=\"col_heading level0 col5\" >prob_1_0</th>\n",
       "      <th class=\"col_heading level0 col6\" >prob_1_1</th>\n",
       "      <th class=\"col_heading level0 col7\" >prob_1_2</th>\n",
       "      <th class=\"col_heading level0 col8\" >prob_1_3</th>\n",
       "      <th class=\"col_heading level0 col9\" >prob_1_4</th>\n",
       "      <th class=\"col_heading level0 col10\" >prob_2_0</th>\n",
       "      <th class=\"col_heading level0 col11\" >prob_2_1</th>\n",
       "      <th class=\"col_heading level0 col12\" >prob_2_2</th>\n",
       "      <th class=\"col_heading level0 col13\" >prob_2_3</th>\n",
       "      <th class=\"col_heading level0 col14\" >prob_2_4</th>\n",
       "      <th class=\"col_heading level0 col15\" >prob_3_0</th>\n",
       "      <th class=\"col_heading level0 col16\" >prob_3_1</th>\n",
       "      <th class=\"col_heading level0 col17\" >prob_3_2</th>\n",
       "      <th class=\"col_heading level0 col18\" >prob_3_3</th>\n",
       "      <th class=\"col_heading level0 col19\" >prob_3_4</th>\n",
       "      <th class=\"col_heading level0 col20\" >prob_4_0</th>\n",
       "      <th class=\"col_heading level0 col21\" >prob_4_1</th>\n",
       "      <th class=\"col_heading level0 col22\" >prob_4_2</th>\n",
       "      <th class=\"col_heading level0 col23\" >prob_4_3</th>\n",
       "      <th class=\"col_heading level0 col24\" >prob_4_4</th>\n",
       "    </tr>\n",
       "  </thead>\n",
       "  <tbody>\n",
       "    <tr>\n",
       "      <th id=\"T_45f9e_level0_row0\" class=\"row_heading level0 row0\" >count</th>\n",
       "      <td id=\"T_45f9e_row0_col0\" class=\"data row0 col0\" >490.000000</td>\n",
       "      <td id=\"T_45f9e_row0_col1\" class=\"data row0 col1\" >490.000000</td>\n",
       "      <td id=\"T_45f9e_row0_col2\" class=\"data row0 col2\" >490.000000</td>\n",
       "      <td id=\"T_45f9e_row0_col3\" class=\"data row0 col3\" >490.000000</td>\n",
       "      <td id=\"T_45f9e_row0_col4\" class=\"data row0 col4\" >490.000000</td>\n",
       "      <td id=\"T_45f9e_row0_col5\" class=\"data row0 col5\" >490.000000</td>\n",
       "      <td id=\"T_45f9e_row0_col6\" class=\"data row0 col6\" >490.000000</td>\n",
       "      <td id=\"T_45f9e_row0_col7\" class=\"data row0 col7\" >490.000000</td>\n",
       "      <td id=\"T_45f9e_row0_col8\" class=\"data row0 col8\" >490.000000</td>\n",
       "      <td id=\"T_45f9e_row0_col9\" class=\"data row0 col9\" >490.000000</td>\n",
       "      <td id=\"T_45f9e_row0_col10\" class=\"data row0 col10\" >490.000000</td>\n",
       "      <td id=\"T_45f9e_row0_col11\" class=\"data row0 col11\" >490.000000</td>\n",
       "      <td id=\"T_45f9e_row0_col12\" class=\"data row0 col12\" >490.000000</td>\n",
       "      <td id=\"T_45f9e_row0_col13\" class=\"data row0 col13\" >490.000000</td>\n",
       "      <td id=\"T_45f9e_row0_col14\" class=\"data row0 col14\" >490.000000</td>\n",
       "      <td id=\"T_45f9e_row0_col15\" class=\"data row0 col15\" >490.000000</td>\n",
       "      <td id=\"T_45f9e_row0_col16\" class=\"data row0 col16\" >490.000000</td>\n",
       "      <td id=\"T_45f9e_row0_col17\" class=\"data row0 col17\" >490.000000</td>\n",
       "      <td id=\"T_45f9e_row0_col18\" class=\"data row0 col18\" >490.000000</td>\n",
       "      <td id=\"T_45f9e_row0_col19\" class=\"data row0 col19\" >490.000000</td>\n",
       "      <td id=\"T_45f9e_row0_col20\" class=\"data row0 col20\" >490.000000</td>\n",
       "      <td id=\"T_45f9e_row0_col21\" class=\"data row0 col21\" >490.000000</td>\n",
       "      <td id=\"T_45f9e_row0_col22\" class=\"data row0 col22\" >490.000000</td>\n",
       "      <td id=\"T_45f9e_row0_col23\" class=\"data row0 col23\" >490.000000</td>\n",
       "      <td id=\"T_45f9e_row0_col24\" class=\"data row0 col24\" >490.000000</td>\n",
       "    </tr>\n",
       "    <tr>\n",
       "      <th id=\"T_45f9e_level0_row1\" class=\"row_heading level0 row1\" >mean</th>\n",
       "      <td id=\"T_45f9e_row1_col0\" class=\"data row1 col0\" >0.379831</td>\n",
       "      <td id=\"T_45f9e_row1_col1\" class=\"data row1 col1\" >0.126780</td>\n",
       "      <td id=\"T_45f9e_row1_col2\" class=\"data row1 col2\" >0.148323</td>\n",
       "      <td id=\"T_45f9e_row1_col3\" class=\"data row1 col3\" >0.048868</td>\n",
       "      <td id=\"T_45f9e_row1_col4\" class=\"data row1 col4\" >0.194678</td>\n",
       "      <td id=\"T_45f9e_row1_col5\" class=\"data row1 col5\" >0.187967</td>\n",
       "      <td id=\"T_45f9e_row1_col6\" class=\"data row1 col6\" >0.204155</td>\n",
       "      <td id=\"T_45f9e_row1_col7\" class=\"data row1 col7\" >0.165430</td>\n",
       "      <td id=\"T_45f9e_row1_col8\" class=\"data row1 col8\" >0.164566</td>\n",
       "      <td id=\"T_45f9e_row1_col9\" class=\"data row1 col9\" >0.093133</td>\n",
       "      <td id=\"T_45f9e_row1_col10\" class=\"data row1 col10\" >0.470448</td>\n",
       "      <td id=\"T_45f9e_row1_col11\" class=\"data row1 col11\" >0.393011</td>\n",
       "      <td id=\"T_45f9e_row1_col12\" class=\"data row1 col12\" >0.005882</td>\n",
       "      <td id=\"T_45f9e_row1_col13\" class=\"data row1 col13\" >0.039406</td>\n",
       "      <td id=\"T_45f9e_row1_col14\" class=\"data row1 col14\" >0.164639</td>\n",
       "      <td id=\"T_45f9e_row1_col15\" class=\"data row1 col15\" >0.015525</td>\n",
       "      <td id=\"T_45f9e_row1_col16\" class=\"data row1 col16\" >0.010012</td>\n",
       "      <td id=\"T_45f9e_row1_col17\" class=\"data row1 col17\" >0.195514</td>\n",
       "      <td id=\"T_45f9e_row1_col18\" class=\"data row1 col18\" >0.013147</td>\n",
       "      <td id=\"T_45f9e_row1_col19\" class=\"data row1 col19\" >0.026212</td>\n",
       "      <td id=\"T_45f9e_row1_col20\" class=\"data row1 col20\" >0.082704</td>\n",
       "      <td id=\"T_45f9e_row1_col21\" class=\"data row1 col21\" >0.034670</td>\n",
       "      <td id=\"T_45f9e_row1_col22\" class=\"data row1 col22\" >0.003185</td>\n",
       "      <td id=\"T_45f9e_row1_col23\" class=\"data row1 col23\" >0.076192</td>\n",
       "      <td id=\"T_45f9e_row1_col24\" class=\"data row1 col24\" >0.016721</td>\n",
       "    </tr>\n",
       "    <tr>\n",
       "      <th id=\"T_45f9e_level0_row2\" class=\"row_heading level0 row2\" >std</th>\n",
       "      <td id=\"T_45f9e_row2_col0\" class=\"data row2 col0\" >0.440534</td>\n",
       "      <td id=\"T_45f9e_row2_col1\" class=\"data row2 col1\" >0.271405</td>\n",
       "      <td id=\"T_45f9e_row2_col2\" class=\"data row2 col2\" >0.334531</td>\n",
       "      <td id=\"T_45f9e_row2_col3\" class=\"data row2 col3\" >0.191119</td>\n",
       "      <td id=\"T_45f9e_row2_col4\" class=\"data row2 col4\" >0.346930</td>\n",
       "      <td id=\"T_45f9e_row2_col5\" class=\"data row2 col5\" >0.359797</td>\n",
       "      <td id=\"T_45f9e_row2_col6\" class=\"data row2 col6\" >0.351942</td>\n",
       "      <td id=\"T_45f9e_row2_col7\" class=\"data row2 col7\" >0.302849</td>\n",
       "      <td id=\"T_45f9e_row2_col8\" class=\"data row2 col8\" >0.328978</td>\n",
       "      <td id=\"T_45f9e_row2_col9\" class=\"data row2 col9\" >0.255655</td>\n",
       "      <td id=\"T_45f9e_row2_col10\" class=\"data row2 col10\" >0.455476</td>\n",
       "      <td id=\"T_45f9e_row2_col11\" class=\"data row2 col11\" >0.429346</td>\n",
       "      <td id=\"T_45f9e_row2_col12\" class=\"data row2 col12\" >0.040123</td>\n",
       "      <td id=\"T_45f9e_row2_col13\" class=\"data row2 col13\" >0.112435</td>\n",
       "      <td id=\"T_45f9e_row2_col14\" class=\"data row2 col14\" >0.321914</td>\n",
       "      <td id=\"T_45f9e_row2_col15\" class=\"data row2 col15\" >0.102319</td>\n",
       "      <td id=\"T_45f9e_row2_col16\" class=\"data row2 col16\" >0.071414</td>\n",
       "      <td id=\"T_45f9e_row2_col17\" class=\"data row2 col17\" >0.341770</td>\n",
       "      <td id=\"T_45f9e_row2_col18\" class=\"data row2 col18\" >0.078706</td>\n",
       "      <td id=\"T_45f9e_row2_col19\" class=\"data row2 col19\" >0.134176</td>\n",
       "      <td id=\"T_45f9e_row2_col20\" class=\"data row2 col20\" >0.257287</td>\n",
       "      <td id=\"T_45f9e_row2_col21\" class=\"data row2 col21\" >0.134897</td>\n",
       "      <td id=\"T_45f9e_row2_col22\" class=\"data row2 col22\" >0.028206</td>\n",
       "      <td id=\"T_45f9e_row2_col23\" class=\"data row2 col23\" >0.200790</td>\n",
       "      <td id=\"T_45f9e_row2_col24\" class=\"data row2 col24\" >0.038918</td>\n",
       "    </tr>\n",
       "    <tr>\n",
       "      <th id=\"T_45f9e_level0_row3\" class=\"row_heading level0 row3\" >min</th>\n",
       "      <td id=\"T_45f9e_row3_col0\" class=\"data row3 col0\" >0.000001</td>\n",
       "      <td id=\"T_45f9e_row3_col1\" class=\"data row3 col1\" >0.000000</td>\n",
       "      <td id=\"T_45f9e_row3_col2\" class=\"data row3 col2\" >0.000000</td>\n",
       "      <td id=\"T_45f9e_row3_col3\" class=\"data row3 col3\" >0.000000</td>\n",
       "      <td id=\"T_45f9e_row3_col4\" class=\"data row3 col4\" >0.000001</td>\n",
       "      <td id=\"T_45f9e_row3_col5\" class=\"data row3 col5\" >0.000002</td>\n",
       "      <td id=\"T_45f9e_row3_col6\" class=\"data row3 col6\" >0.000476</td>\n",
       "      <td id=\"T_45f9e_row3_col7\" class=\"data row3 col7\" >0.000035</td>\n",
       "      <td id=\"T_45f9e_row3_col8\" class=\"data row3 col8\" >0.000000</td>\n",
       "      <td id=\"T_45f9e_row3_col9\" class=\"data row3 col9\" >0.000000</td>\n",
       "      <td id=\"T_45f9e_row3_col10\" class=\"data row3 col10\" >0.000023</td>\n",
       "      <td id=\"T_45f9e_row3_col11\" class=\"data row3 col11\" >0.000000</td>\n",
       "      <td id=\"T_45f9e_row3_col12\" class=\"data row3 col12\" >0.000000</td>\n",
       "      <td id=\"T_45f9e_row3_col13\" class=\"data row3 col13\" >0.000024</td>\n",
       "      <td id=\"T_45f9e_row3_col14\" class=\"data row3 col14\" >0.000000</td>\n",
       "      <td id=\"T_45f9e_row3_col15\" class=\"data row3 col15\" >0.000000</td>\n",
       "      <td id=\"T_45f9e_row3_col16\" class=\"data row3 col16\" >0.000000</td>\n",
       "      <td id=\"T_45f9e_row3_col17\" class=\"data row3 col17\" >0.000001</td>\n",
       "      <td id=\"T_45f9e_row3_col18\" class=\"data row3 col18\" >0.000000</td>\n",
       "      <td id=\"T_45f9e_row3_col19\" class=\"data row3 col19\" >0.000000</td>\n",
       "      <td id=\"T_45f9e_row3_col20\" class=\"data row3 col20\" >0.000000</td>\n",
       "      <td id=\"T_45f9e_row3_col21\" class=\"data row3 col21\" >0.000000</td>\n",
       "      <td id=\"T_45f9e_row3_col22\" class=\"data row3 col22\" >0.000000</td>\n",
       "      <td id=\"T_45f9e_row3_col23\" class=\"data row3 col23\" >0.000102</td>\n",
       "      <td id=\"T_45f9e_row3_col24\" class=\"data row3 col24\" >0.000010</td>\n",
       "    </tr>\n",
       "    <tr>\n",
       "      <th id=\"T_45f9e_level0_row4\" class=\"row_heading level0 row4\" >25%</th>\n",
       "      <td id=\"T_45f9e_row4_col0\" class=\"data row4 col0\" >0.001524</td>\n",
       "      <td id=\"T_45f9e_row4_col1\" class=\"data row4 col1\" >0.000004</td>\n",
       "      <td id=\"T_45f9e_row4_col2\" class=\"data row4 col2\" >0.000003</td>\n",
       "      <td id=\"T_45f9e_row4_col3\" class=\"data row4 col3\" >0.000000</td>\n",
       "      <td id=\"T_45f9e_row4_col4\" class=\"data row4 col4\" >0.000152</td>\n",
       "      <td id=\"T_45f9e_row4_col5\" class=\"data row4 col5\" >0.000220</td>\n",
       "      <td id=\"T_45f9e_row4_col6\" class=\"data row4 col6\" >0.002349</td>\n",
       "      <td id=\"T_45f9e_row4_col7\" class=\"data row4 col7\" >0.002745</td>\n",
       "      <td id=\"T_45f9e_row4_col8\" class=\"data row4 col8\" >0.000773</td>\n",
       "      <td id=\"T_45f9e_row4_col9\" class=\"data row4 col9\" >0.000009</td>\n",
       "      <td id=\"T_45f9e_row4_col10\" class=\"data row4 col10\" >0.005170</td>\n",
       "      <td id=\"T_45f9e_row4_col11\" class=\"data row4 col11\" >0.008752</td>\n",
       "      <td id=\"T_45f9e_row4_col12\" class=\"data row4 col12\" >0.000004</td>\n",
       "      <td id=\"T_45f9e_row4_col13\" class=\"data row4 col13\" >0.001200</td>\n",
       "      <td id=\"T_45f9e_row4_col14\" class=\"data row4 col14\" >0.000104</td>\n",
       "      <td id=\"T_45f9e_row4_col15\" class=\"data row4 col15\" >0.000000</td>\n",
       "      <td id=\"T_45f9e_row4_col16\" class=\"data row4 col16\" >0.000000</td>\n",
       "      <td id=\"T_45f9e_row4_col17\" class=\"data row4 col17\" >0.000502</td>\n",
       "      <td id=\"T_45f9e_row4_col18\" class=\"data row4 col18\" >0.000003</td>\n",
       "      <td id=\"T_45f9e_row4_col19\" class=\"data row4 col19\" >0.000000</td>\n",
       "      <td id=\"T_45f9e_row4_col20\" class=\"data row4 col20\" >0.000001</td>\n",
       "      <td id=\"T_45f9e_row4_col21\" class=\"data row4 col21\" >0.000004</td>\n",
       "      <td id=\"T_45f9e_row4_col22\" class=\"data row4 col22\" >0.000000</td>\n",
       "      <td id=\"T_45f9e_row4_col23\" class=\"data row4 col23\" >0.000339</td>\n",
       "      <td id=\"T_45f9e_row4_col24\" class=\"data row4 col24\" >0.000503</td>\n",
       "    </tr>\n",
       "    <tr>\n",
       "      <th id=\"T_45f9e_level0_row5\" class=\"row_heading level0 row5\" >50%</th>\n",
       "      <td id=\"T_45f9e_row5_col0\" class=\"data row5 col0\" >0.071332</td>\n",
       "      <td id=\"T_45f9e_row5_col1\" class=\"data row5 col1\" >0.001515</td>\n",
       "      <td id=\"T_45f9e_row5_col2\" class=\"data row5 col2\" >0.000038</td>\n",
       "      <td id=\"T_45f9e_row5_col3\" class=\"data row5 col3\" >0.000002</td>\n",
       "      <td id=\"T_45f9e_row5_col4\" class=\"data row5 col4\" >0.002299</td>\n",
       "      <td id=\"T_45f9e_row5_col5\" class=\"data row5 col5\" >0.001502</td>\n",
       "      <td id=\"T_45f9e_row5_col6\" class=\"data row5 col6\" >0.009605</td>\n",
       "      <td id=\"T_45f9e_row5_col7\" class=\"data row5 col7\" >0.010849</td>\n",
       "      <td id=\"T_45f9e_row5_col8\" class=\"data row5 col8\" >0.003257</td>\n",
       "      <td id=\"T_45f9e_row5_col9\" class=\"data row5 col9\" >0.000087</td>\n",
       "      <td id=\"T_45f9e_row5_col10\" class=\"data row5 col10\" >0.286253</td>\n",
       "      <td id=\"T_45f9e_row5_col11\" class=\"data row5 col11\" >0.126931</td>\n",
       "      <td id=\"T_45f9e_row5_col12\" class=\"data row5 col12\" >0.000099</td>\n",
       "      <td id=\"T_45f9e_row5_col13\" class=\"data row5 col13\" >0.008832</td>\n",
       "      <td id=\"T_45f9e_row5_col14\" class=\"data row5 col14\" >0.001852</td>\n",
       "      <td id=\"T_45f9e_row5_col15\" class=\"data row5 col15\" >0.000003</td>\n",
       "      <td id=\"T_45f9e_row5_col16\" class=\"data row5 col16\" >0.000025</td>\n",
       "      <td id=\"T_45f9e_row5_col17\" class=\"data row5 col17\" >0.006414</td>\n",
       "      <td id=\"T_45f9e_row5_col18\" class=\"data row5 col18\" >0.000023</td>\n",
       "      <td id=\"T_45f9e_row5_col19\" class=\"data row5 col19\" >0.000002</td>\n",
       "      <td id=\"T_45f9e_row5_col20\" class=\"data row5 col20\" >0.000024</td>\n",
       "      <td id=\"T_45f9e_row5_col21\" class=\"data row5 col21\" >0.000142</td>\n",
       "      <td id=\"T_45f9e_row5_col22\" class=\"data row5 col22\" >0.000002</td>\n",
       "      <td id=\"T_45f9e_row5_col23\" class=\"data row5 col23\" >0.001689</td>\n",
       "      <td id=\"T_45f9e_row5_col24\" class=\"data row5 col24\" >0.003779</td>\n",
       "    </tr>\n",
       "    <tr>\n",
       "      <th id=\"T_45f9e_level0_row6\" class=\"row_heading level0 row6\" >75%</th>\n",
       "      <td id=\"T_45f9e_row6_col0\" class=\"data row6 col0\" >0.978147</td>\n",
       "      <td id=\"T_45f9e_row6_col1\" class=\"data row6 col1\" >0.052524</td>\n",
       "      <td id=\"T_45f9e_row6_col2\" class=\"data row6 col2\" >0.004768</td>\n",
       "      <td id=\"T_45f9e_row6_col3\" class=\"data row6 col3\" >0.000110</td>\n",
       "      <td id=\"T_45f9e_row6_col4\" class=\"data row6 col4\" >0.183836</td>\n",
       "      <td id=\"T_45f9e_row6_col5\" class=\"data row6 col5\" >0.068333</td>\n",
       "      <td id=\"T_45f9e_row6_col6\" class=\"data row6 col6\" >0.180406</td>\n",
       "      <td id=\"T_45f9e_row6_col7\" class=\"data row6 col7\" >0.138302</td>\n",
       "      <td id=\"T_45f9e_row6_col8\" class=\"data row6 col8\" >0.070441</td>\n",
       "      <td id=\"T_45f9e_row6_col9\" class=\"data row6 col9\" >0.002735</td>\n",
       "      <td id=\"T_45f9e_row6_col10\" class=\"data row6 col10\" >0.999956</td>\n",
       "      <td id=\"T_45f9e_row6_col11\" class=\"data row6 col11\" >0.965262</td>\n",
       "      <td id=\"T_45f9e_row6_col12\" class=\"data row6 col12\" >0.000593</td>\n",
       "      <td id=\"T_45f9e_row6_col13\" class=\"data row6 col13\" >0.020851</td>\n",
       "      <td id=\"T_45f9e_row6_col14\" class=\"data row6 col14\" >0.088836</td>\n",
       "      <td id=\"T_45f9e_row6_col15\" class=\"data row6 col15\" >0.000178</td>\n",
       "      <td id=\"T_45f9e_row6_col16\" class=\"data row6 col16\" >0.000524</td>\n",
       "      <td id=\"T_45f9e_row6_col17\" class=\"data row6 col17\" >0.201849</td>\n",
       "      <td id=\"T_45f9e_row6_col18\" class=\"data row6 col18\" >0.000181</td>\n",
       "      <td id=\"T_45f9e_row6_col19\" class=\"data row6 col19\" >0.000041</td>\n",
       "      <td id=\"T_45f9e_row6_col20\" class=\"data row6 col20\" >0.000789</td>\n",
       "      <td id=\"T_45f9e_row6_col21\" class=\"data row6 col21\" >0.001868</td>\n",
       "      <td id=\"T_45f9e_row6_col22\" class=\"data row6 col22\" >0.000043</td>\n",
       "      <td id=\"T_45f9e_row6_col23\" class=\"data row6 col23\" >0.020325</td>\n",
       "      <td id=\"T_45f9e_row6_col24\" class=\"data row6 col24\" >0.011423</td>\n",
       "    </tr>\n",
       "    <tr>\n",
       "      <th id=\"T_45f9e_level0_row7\" class=\"row_heading level0 row7\" >max</th>\n",
       "      <td id=\"T_45f9e_row7_col0\" class=\"data row7 col0\" >1.000000</td>\n",
       "      <td id=\"T_45f9e_row7_col1\" class=\"data row7 col1\" >0.999912</td>\n",
       "      <td id=\"T_45f9e_row7_col2\" class=\"data row7 col2\" >1.000000</td>\n",
       "      <td id=\"T_45f9e_row7_col3\" class=\"data row7 col3\" >0.998657</td>\n",
       "      <td id=\"T_45f9e_row7_col4\" class=\"data row7 col4\" >0.999999</td>\n",
       "      <td id=\"T_45f9e_row7_col5\" class=\"data row7 col5\" >1.000000</td>\n",
       "      <td id=\"T_45f9e_row7_col6\" class=\"data row7 col6\" >0.999998</td>\n",
       "      <td id=\"T_45f9e_row7_col7\" class=\"data row7 col7\" >0.999933</td>\n",
       "      <td id=\"T_45f9e_row7_col8\" class=\"data row7 col8\" >0.999999</td>\n",
       "      <td id=\"T_45f9e_row7_col9\" class=\"data row7 col9\" >0.999871</td>\n",
       "      <td id=\"T_45f9e_row7_col10\" class=\"data row7 col10\" >1.000000</td>\n",
       "      <td id=\"T_45f9e_row7_col11\" class=\"data row7 col11\" >1.000000</td>\n",
       "      <td id=\"T_45f9e_row7_col12\" class=\"data row7 col12\" >0.566993</td>\n",
       "      <td id=\"T_45f9e_row7_col13\" class=\"data row7 col13\" >0.906736</td>\n",
       "      <td id=\"T_45f9e_row7_col14\" class=\"data row7 col14\" >1.000000</td>\n",
       "      <td id=\"T_45f9e_row7_col15\" class=\"data row7 col15\" >0.999254</td>\n",
       "      <td id=\"T_45f9e_row7_col16\" class=\"data row7 col16\" >0.880333</td>\n",
       "      <td id=\"T_45f9e_row7_col17\" class=\"data row7 col17\" >1.000000</td>\n",
       "      <td id=\"T_45f9e_row7_col18\" class=\"data row7 col18\" >0.856711</td>\n",
       "      <td id=\"T_45f9e_row7_col19\" class=\"data row7 col19\" >0.995068</td>\n",
       "      <td id=\"T_45f9e_row7_col20\" class=\"data row7 col20\" >1.000000</td>\n",
       "      <td id=\"T_45f9e_row7_col21\" class=\"data row7 col21\" >0.967461</td>\n",
       "      <td id=\"T_45f9e_row7_col22\" class=\"data row7 col22\" >0.516507</td>\n",
       "      <td id=\"T_45f9e_row7_col23\" class=\"data row7 col23\" >0.993292</td>\n",
       "      <td id=\"T_45f9e_row7_col24\" class=\"data row7 col24\" >0.289799</td>\n",
       "    </tr>\n",
       "  </tbody>\n",
       "</table>\n"
      ],
      "text/plain": [
       "<pandas.io.formats.style.Styler at 0x7fe89224d0d0>"
      ]
     },
     "execution_count": 23,
     "metadata": {},
     "output_type": "execute_result"
    }
   ],
   "source": [
    "(df[[c for c in df.columns if c[:5] == 'prob_']]\n",
    " .describe()\n",
    " .style\n",
    " .background_gradient(axis=1)\n",
    ")\n",
    "# df['prob'].hist(bins=20)"
   ]
  },
  {
   "cell_type": "code",
   "execution_count": null,
   "id": "f95570c7-0ba6-4349-a058-cd9612ea9619",
   "metadata": {
    "execution": {
     "iopub.execute_input": "2021-09-27T11:10:36.228399Z",
     "iopub.status.busy": "2021-09-27T11:10:36.227822Z"
    },
    "tags": []
   },
   "outputs": [],
   "source": [
    "algorithms = ['Original',\n",
    "              #'Saliency',\n",
    "              #'Deconvolution',\n",
    "              'GuidedBackprop',\n",
    "              'IntegratedGradients',\n",
    "              'DeepLift',\n",
    "              'LayerGradCam'\n",
    "             ]\n",
    "dataset, val_split, test_split = 'sharp', 0, 0\n",
    "learner = get_learner_by_query(\n",
    "    f'cv/base/{dataset}/0/{val_split}/{test_split}/CNN',\n",
    "    eval_mode=True,\n",
    "    device='cuda:1',\n",
    ")\n",
    "heatmaps = get_heatmaps_synthetic(Z_list_pos, algorithms, learner)\n",
    "zmax = [np.percentile(np.abs(i), 99)\n",
    "        for i in heatmaps.values()]"
   ]
  },
  {
   "cell_type": "code",
   "execution_count": null,
   "id": "610b1c4b-87eb-415a-ba85-c4b7ccda66e1",
   "metadata": {
    "tags": []
   },
   "outputs": [],
   "source": [
    "for i, Z in enumerate(Z_list_pos):\n",
    "    m = len(algorithms)\n",
    "    plt.figure(figsize=(16,2.4))\n",
    "    for j, algorithm in enumerate(algorithms):\n",
    "        plt.subplot(1, len(algorithms), j+1)\n",
    "        cmap = 'gray' if j == 0 else 'RdBu_r'\n",
    "        heatmap = heatmaps[algorithm][i].squeeze()\n",
    "        if algorithm == 'LayerGradCam':\n",
    "            heatmap = np.abs(heatmap)\n",
    "        plt.imshow(heatmap, vmin=-zmax[j], vmax=zmax[j], cmap=cmap)\n",
    "        #plt.axis('off')\n",
    "        plt.title(algorithm)\n",
    "        plt.colorbar()\n",
    "    plt.tight_layout()\n",
    "    plt.savefig(f'syn/{i}')\n",
    "    plt.show()"
   ]
  },
  {
   "cell_type": "markdown",
   "id": "303b02f5-95b6-4eb1-9466-0bbd979215f8",
   "metadata": {},
   "source": [
    "Hypothesis: A strong and concentrated negative pole is more likely to flare."
   ]
  },
  {
   "cell_type": "code",
   "execution_count": null,
   "id": "85c19ce3-e484-486b-b5a2-4893762bff5a",
   "metadata": {},
   "outputs": [],
   "source": []
  }
 ],
 "metadata": {
  "kernelspec": {
   "display_name": "Python 3 (ipykernel)",
   "language": "python",
   "name": "python3"
  },
  "language_info": {
   "codemirror_mode": {
    "name": "ipython",
    "version": 3
   },
   "file_extension": ".py",
   "mimetype": "text/x-python",
   "name": "python",
   "nbconvert_exporter": "python",
   "pygments_lexer": "ipython3",
   "version": "3.8.8"
  }
 },
 "nbformat": 4,
 "nbformat_minor": 5
}
