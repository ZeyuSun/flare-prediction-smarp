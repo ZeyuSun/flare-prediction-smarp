{
 "cells": [
  {
   "cell_type": "markdown",
   "id": "abandoned-holiday",
   "metadata": {},
   "source": [
    "# Grad-CAM"
   ]
  },
  {
   "cell_type": "markdown",
   "id": "conventional-burns",
   "metadata": {},
   "source": [
    "* I want to draw all the instance of FP, FN of the GradCAM on CNN trained on SHARP-only that is correctly classified by fused-sharp\n",
    "* What then?\n",
    "* I want to check other layers of input"
   ]
  },
  {
   "cell_type": "markdown",
   "id": "three-talent",
   "metadata": {},
   "source": [
    "TODO\n",
    "- [ ] `target_layer` of gradcam accept str\n",
    "- [ ] debug into gradcam and see all activation maps and their gradients and the sum.\n",
    "- [ ] gradcam call only returns heatmap. Use another function to overlay them together."
   ]
  },
  {
   "cell_type": "code",
   "execution_count": 1,
   "id": "dress-affair",
   "metadata": {
    "execution": {
     "iopub.execute_input": "2021-08-05T18:44:20.667085Z",
     "iopub.status.busy": "2021-08-05T18:44:20.665558Z",
     "iopub.status.idle": "2021-08-05T18:44:23.788907Z",
     "shell.execute_reply": "2021-08-05T18:44:23.787438Z",
     "shell.execute_reply.started": "2021-08-05T18:44:20.666382Z"
    }
   },
   "outputs": [],
   "source": [
    "from dashboard_helper import predict, get_learner, get_transform_from_learner\n",
    "from pytorch_grad_cam import GradCAM"
   ]
  },
  {
   "cell_type": "code",
   "execution_count": 2,
   "id": "collectible-twenty",
   "metadata": {
    "execution": {
     "iopub.execute_input": "2021-08-05T18:44:26.134518Z",
     "iopub.status.busy": "2021-08-05T18:44:26.133682Z",
     "iopub.status.idle": "2021-08-05T18:46:02.057602Z",
     "shell.execute_reply": "2021-08-05T18:46:02.055704Z",
     "shell.execute_reply.started": "2021-08-05T18:44:26.134440Z"
    }
   },
   "outputs": [
    {
     "name": "stdout",
     "output_type": "stream",
     "text": [
      "Select iloc 0 from \n",
      "                         start_time tags.mlflow.runName\n",
      "82 2021-06-27 16:03:33.239000+00:00            LSTM_CNN\n"
     ]
    },
    {
     "name": "stderr",
     "output_type": "stream",
     "text": [
      "GPU available: True, used: True\n",
      "TPU available: False, using: 0 TPU cores\n",
      "Using native 16bit precision.\n",
      "/home/zeyusun/work/flare-prediction-smarp/arnet/dataset.py:139: DtypeWarning: Columns (5) have mixed types.Specify dtype option on import or set low_memory=False.\n",
      "  self._construct_datasets(balanced=cfg.DATA.BALANCED)\n",
      "LOCAL_RANK: 0 - CUDA_VISIBLE_DEVICES: [0,1]\n"
     ]
    },
    {
     "data": {
      "application/vnd.jupyter.widget-view+json": {
       "model_id": "05b4755457904864926821dcb9e25fd9",
       "version_major": 2,
       "version_minor": 0
      },
      "text/plain": [
       "Predicting: 0it [00:00, ?it/s]"
      ]
     },
     "metadata": {},
     "output_type": "display_data"
    },
    {
     "name": "stderr",
     "output_type": "stream",
     "text": [
      "LOCAL_RANK: 0 - CUDA_VISIBLE_DEVICES: [0,1]\n"
     ]
    },
    {
     "data": {
      "application/vnd.jupyter.widget-view+json": {
       "model_id": "78f2b50e0e14456d8cb12e167cd5545b",
       "version_major": 2,
       "version_minor": 0
      },
      "text/plain": [
       "Predicting: 0it [00:00, ?it/s]"
      ]
     },
     "metadata": {},
     "output_type": "display_data"
    },
    {
     "name": "stderr",
     "output_type": "stream",
     "text": [
      "LOCAL_RANK: 0 - CUDA_VISIBLE_DEVICES: [0,1]\n"
     ]
    },
    {
     "data": {
      "application/vnd.jupyter.widget-view+json": {
       "model_id": "28c5acd084b0469aa1aaad5958e29f31",
       "version_major": 2,
       "version_minor": 0
      },
      "text/plain": [
       "Predicting: 0it [00:00, ?it/s]"
      ]
     },
     "metadata": {},
     "output_type": "display_data"
    },
    {
     "name": "stdout",
     "output_type": "stream",
     "text": [
      "Select iloc 0 from \n",
      "                         start_time tags.mlflow.runName\n",
      "82 2021-06-27 16:03:33.239000+00:00            LSTM_CNN\n"
     ]
    },
    {
     "name": "stderr",
     "output_type": "stream",
     "text": [
      "GPU available: True, used: True\n",
      "TPU available: False, using: 0 TPU cores\n",
      "Using native 16bit precision.\n",
      "/home/zeyusun/work/flare-prediction-smarp/arnet/dataset.py:139: DtypeWarning: Columns (5) have mixed types.Specify dtype option on import or set low_memory=False.\n",
      "  self._construct_datasets(balanced=cfg.DATA.BALANCED)\n",
      "LOCAL_RANK: 0 - CUDA_VISIBLE_DEVICES: [0,1]\n"
     ]
    },
    {
     "data": {
      "application/vnd.jupyter.widget-view+json": {
       "model_id": "ce05fc373f654a489a185d9abd20d53f",
       "version_major": 2,
       "version_minor": 0
      },
      "text/plain": [
       "Predicting: 0it [00:00, ?it/s]"
      ]
     },
     "metadata": {},
     "output_type": "display_data"
    },
    {
     "name": "stderr",
     "output_type": "stream",
     "text": [
      "LOCAL_RANK: 0 - CUDA_VISIBLE_DEVICES: [0,1]\n"
     ]
    },
    {
     "data": {
      "application/vnd.jupyter.widget-view+json": {
       "model_id": "419e375a33b94771a8269f05eaa9c5ab",
       "version_major": 2,
       "version_minor": 0
      },
      "text/plain": [
       "Predicting: 0it [00:00, ?it/s]"
      ]
     },
     "metadata": {},
     "output_type": "display_data"
    },
    {
     "name": "stderr",
     "output_type": "stream",
     "text": [
      "LOCAL_RANK: 0 - CUDA_VISIBLE_DEVICES: [0,1]\n"
     ]
    },
    {
     "data": {
      "application/vnd.jupyter.widget-view+json": {
       "model_id": "45d25ac8d4e94a769a42fa935517f5f4",
       "version_major": 2,
       "version_minor": 0
      },
      "text/plain": [
       "Predicting: 0it [00:00, ?it/s]"
      ]
     },
     "metadata": {},
     "output_type": "display_data"
    }
   ],
   "source": [
    "dfs = {dataset: predict(dataset, 0, 'CNN')\n",
    "       for dataset in ['sharp', 'fused_sharp']}"
   ]
  },
  {
   "cell_type": "code",
   "execution_count": 3,
   "id": "delayed-louisville",
   "metadata": {
    "execution": {
     "iopub.execute_input": "2021-07-06T00:07:03.978763Z",
     "iopub.status.busy": "2021-07-06T00:07:03.978442Z",
     "iopub.status.idle": "2021-07-06T00:07:03.991706Z",
     "shell.execute_reply": "2021-07-06T00:07:03.990908Z",
     "shell.execute_reply.started": "2021-07-06T00:07:03.978729Z"
    }
   },
   "outputs": [
    {
     "data": {
      "text/plain": [
       "58"
      ]
     },
     "execution_count": 3,
     "metadata": {},
     "output_type": "execute_result"
    }
   ],
   "source": [
    "df_fn = dfs['sharp']['test'].loc[(\n",
    "    dfs['sharp']['test']['label'] &\n",
    "    ~dfs['sharp']['test']['pred'] &\n",
    "    dfs['fused_sharp']['test']['pred']\n",
    ").astype(bool)]\n",
    "len(df_fn)"
   ]
  },
  {
   "cell_type": "code",
   "execution_count": 12,
   "id": "posted-jordan",
   "metadata": {
    "execution": {
     "iopub.execute_input": "2021-07-06T21:28:59.067536Z",
     "iopub.status.busy": "2021-07-06T21:28:59.067149Z",
     "iopub.status.idle": "2021-07-06T21:29:02.987132Z",
     "shell.execute_reply": "2021-07-06T21:29:02.986076Z",
     "shell.execute_reply.started": "2021-07-06T21:28:59.067495Z"
    }
   },
   "outputs": [
    {
     "name": "stdout",
     "output_type": "stream",
     "text": [
      "Select iloc 0 from \n",
      "                         start_time tags.mlflow.runName  \\\n",
      "82 2021-06-27 16:03:33.239000+00:00            LSTM_CNN   \n",
      "\n",
      "               tags.mlflow.source.git.commit  \n",
      "82  e13810ffddafdb818df7c4de68d9eafd67861e8c  \n",
      "==========================================================================================\n",
      "Layer (type:depth-idx)                   Output Shape              Param #\n",
      "==========================================================================================\n",
      "├─Sequential: 1-1                        [-1, 64, 1, 4, 4]         --\n",
      "|    └─Conv3d: 2-1                       [-1, 64, 1, 128, 128]     7,808\n",
      "|    └─BatchNorm3d: 2-2                  [-1, 64, 1, 128, 128]     128\n",
      "|    └─ReLU: 2-3                         [-1, 64, 1, 128, 128]     --\n",
      "|    └─MaxPool3d: 2-4                    [-1, 64, 1, 64, 64]       --\n",
      "|    └─Conv3d: 2-5                       [-1, 64, 1, 64, 64]       102,464\n",
      "|    └─BatchNorm3d: 2-6                  [-1, 64, 1, 64, 64]       128\n",
      "|    └─ReLU: 2-7                         [-1, 64, 1, 64, 64]       --\n",
      "|    └─MaxPool3d: 2-8                    [-1, 64, 1, 32, 32]       --\n",
      "|    └─Conv3d: 2-9                       [-1, 64, 1, 32, 32]       36,928\n",
      "|    └─BatchNorm3d: 2-10                 [-1, 64, 1, 32, 32]       128\n",
      "|    └─ReLU: 2-11                        [-1, 64, 1, 32, 32]       --\n",
      "|    └─MaxPool3d: 2-12                   [-1, 64, 1, 16, 16]       --\n",
      "|    └─Conv3d: 2-13                      [-1, 64, 1, 16, 16]       36,928\n",
      "|    └─BatchNorm3d: 2-14                 [-1, 64, 1, 16, 16]       128\n",
      "|    └─ReLU: 2-15                        [-1, 64, 1, 16, 16]       --\n",
      "|    └─MaxPool3d: 2-16                   [-1, 64, 1, 8, 8]         --\n",
      "|    └─Conv3d: 2-17                      [-1, 64, 1, 8, 8]         36,928\n",
      "|    └─BatchNorm3d: 2-18                 [-1, 64, 1, 8, 8]         128\n",
      "|    └─ReLU: 2-19                        [-1, 64, 1, 8, 8]         --\n",
      "|    └─MaxPool3d: 2-20                   [-1, 64, 1, 4, 4]         --\n",
      "├─Sequential: 1-2                        [-1, 2]                   --\n",
      "|    └─Linear: 2-21                      [-1, 128]                 131,200\n",
      "|    └─BatchNorm1d: 2-22                 [-1, 128]                 256\n",
      "|    └─Dropout: 2-23                     [-1, 128]                 --\n",
      "|    └─Linear: 2-24                      [-1, 64]                  8,256\n",
      "|    └─BatchNorm1d: 2-25                 [-1, 64]                  128\n",
      "|    └─Dropout: 2-26                     [-1, 64]                  --\n",
      "|    └─Linear: 2-27                      [-1, 16]                  1,040\n",
      "|    └─BatchNorm1d: 2-28                 [-1, 16]                  32\n",
      "|    └─Dropout: 2-29                     [-1, 16]                  --\n",
      "|    └─Linear: 2-30                      [-1, 2]                   34\n",
      "==========================================================================================\n",
      "Total params: 362,642\n",
      "Trainable params: 362,642\n",
      "Non-trainable params: 0\n",
      "Total mult-adds (M): 596.36\n",
      "==========================================================================================\n",
      "Input size (MB): 0.06\n",
      "Forward/backward pass size (MB): 21.32\n",
      "Params size (MB): 1.38\n",
      "Estimated Total Size (MB): 22.76\n",
      "==========================================================================================\n"
     ]
    }
   ],
   "source": [
    "learner = get_learner('fused_sharp', 0, 'CNN')"
   ]
  },
  {
   "cell_type": "code",
   "execution_count": 11,
   "id": "careful-blanket",
   "metadata": {
    "execution": {
     "iopub.execute_input": "2021-07-06T21:06:32.896394Z",
     "iopub.status.busy": "2021-07-06T21:06:32.895727Z",
     "iopub.status.idle": "2021-07-06T21:06:32.908946Z",
     "shell.execute_reply": "2021-07-06T21:06:32.907693Z",
     "shell.execute_reply.started": "2021-07-06T21:06:32.896326Z"
    }
   },
   "outputs": [],
   "source": [
    "transform = get_transform_from_learner(learner)\n",
    "gradcam = GradCAM(learner.model, learner.model.convs.conv5, use_cuda=True, reshape_transform=transform)\n"
   ]
  },
  {
   "cell_type": "code",
   "execution_count": null,
   "id": "dependent-design",
   "metadata": {},
   "outputs": [],
   "source": [
    "gradcam()"
   ]
  }
 ],
 "metadata": {
  "kernelspec": {
   "display_name": "Python 3",
   "language": "python",
   "name": "python3"
  },
  "language_info": {
   "codemirror_mode": {
    "name": "ipython",
    "version": 3
   },
   "file_extension": ".py",
   "mimetype": "text/x-python",
   "name": "python",
   "nbconvert_exporter": "python",
   "pygments_lexer": "ipython3",
   "version": "3.8.8"
  }
 },
 "nbformat": 4,
 "nbformat_minor": 5
}
