{
 "cells": [
  {
   "cell_type": "markdown",
   "id": "coated-denver",
   "metadata": {},
   "source": [
    "# Captum"
   ]
  },
  {
   "cell_type": "code",
   "execution_count": 94,
   "id": "accurate-alcohol",
   "metadata": {
    "execution": {
     "iopub.execute_input": "2021-10-02T20:42:42.411397Z",
     "iopub.status.busy": "2021-10-02T20:42:42.410818Z",
     "iopub.status.idle": "2021-10-02T20:42:42.501680Z",
     "shell.execute_reply": "2021-10-02T20:42:42.500264Z",
     "shell.execute_reply.started": "2021-10-02T20:42:42.411332Z"
    },
    "tags": []
   },
   "outputs": [
    {
     "name": "stdout",
     "output_type": "stream",
     "text": [
      "The autoreload extension is already loaded. To reload it, use:\n",
      "  %reload_ext autoreload\n"
     ]
    }
   ],
   "source": [
    "from ipdb import set_trace as breakpoint\n",
    "from functools import lru_cache\n",
    "from datetime import datetime, timedelta\n",
    "from tqdm.notebook import tqdm\n",
    "from tqdm.contrib.itertools import product\n",
    "import numpy as np\n",
    "import pandas as pd\n",
    "from matplotlib.colors import Normalize\n",
    "import matplotlib.pyplot as plt\n",
    "import plotly.express as px\n",
    "import plotly.graph_objects as go\n",
    "from plotly.subplots import make_subplots\n",
    "import xarray as xr\n",
    "import torch\n",
    "from torch.utils.data import DataLoader\n",
    "from torch.nn import functional as F\n",
    "from torchvision.transforms import Compose\n",
    "import pytorch_lightning as pl\n",
    "from captum.attr import IntegratedGradients, Saliency, DeepLift, GuidedGradCam, NoiseTunnel, LayerGradCam\n",
    "from captum.attr import visualization as viz\n",
    "\n",
    "from arnet.modeling.learner import Learner\n",
    "from arnet.dataset import ActiveRegionDataModule, ActiveRegionDataset\n",
    "from arnet.transforms import get_transform\n",
    "from mlflow_helper import retrieve\n",
    "from captum_helper import get_heatmap, plot_heatmaps_info, add_label, add_pred, get_heatmaps_from_df, plot_heatmaps_contour, plot_heatmaps_overlay\n",
    "from cotrain_helper import get_learner_by_query\n",
    "from paracoord_helper import parallel_coordinates_and_hist\n",
    "retrieve = lru_cache(retrieve)\n",
    "\n",
    "%load_ext autoreload\n",
    "%autoreload 2\n",
    "%matplotlib inline"
   ]
  },
  {
   "cell_type": "code",
   "execution_count": 2,
   "id": "04acedff-10a4-4ff4-8b18-7a50415bf79c",
   "metadata": {
    "execution": {
     "iopub.execute_input": "2021-09-28T19:38:54.474407Z",
     "iopub.status.busy": "2021-09-28T19:38:54.474169Z",
     "iopub.status.idle": "2021-09-28T19:38:54.521776Z",
     "shell.execute_reply": "2021-09-28T19:38:54.520789Z",
     "shell.execute_reply.started": "2021-09-28T19:38:54.474371Z"
    },
    "tags": []
   },
   "outputs": [],
   "source": [
    "df = pd.read_csv('_selected.csv', index_col=0).reset_index(drop=True)\n",
    "# from arnet/fusion.py\n",
    "df.loc[:, 'flares'] = df['flares'].fillna('')\n",
    "df.loc[:, 'bad_img_idx'] = df['bad_img_idx'].apply(\n",
    "    lambda s: [int(x) for x in s.strip('[]').split()])"
   ]
  },
  {
   "cell_type": "code",
   "execution_count": 3,
   "id": "9c6dc704-e613-45a0-a24d-a32dfd6e58c2",
   "metadata": {
    "execution": {
     "iopub.execute_input": "2021-09-28T19:38:54.523803Z",
     "iopub.status.busy": "2021-09-28T19:38:54.523574Z",
     "iopub.status.idle": "2021-09-28T19:38:54.593223Z",
     "shell.execute_reply": "2021-09-28T19:38:54.591774Z",
     "shell.execute_reply.started": "2021-09-28T19:38:54.523773Z"
    },
    "tags": []
   },
   "outputs": [],
   "source": [
    "algorithms = ['Original',\n",
    "              #'Saliency', 'Deconvolution',\n",
    "              'GuidedBackprop',\n",
    "              'IntegratedGradients', # time/memory consuming\n",
    "              'DeepLift', \n",
    "              'LayerGradCam-5',\n",
    "              #'LayerGradCam-4',\n",
    "              #'LayerGradCam-3', 'LayerGradCam-2',\n",
    "              #'LayerLRP'\n",
    "             ]\n",
    "zmax = None #[10, 0.05, 0.05, 0.05, 0.0005, 0.1] # adaptive\n",
    "zmin = None #[-z for z in zmax]\n",
    "color_continuous_scale = [\n",
    "    px.colors.sequential.gray,\n",
    "    *([px.colors.diverging.RdBu_r] * (len(algorithms)-1)), #balance # white for 0.\n",
    "]"
   ]
  },
  {
   "cell_type": "code",
   "execution_count": 4,
   "id": "3c06dcfa-6520-4f29-ae06-3904a76933f9",
   "metadata": {
    "execution": {
     "iopub.execute_input": "2021-09-28T19:38:54.595313Z",
     "iopub.status.busy": "2021-09-28T19:38:54.594900Z",
     "iopub.status.idle": "2021-09-28T19:38:54.736663Z",
     "shell.execute_reply": "2021-09-28T19:38:54.735176Z",
     "shell.execute_reply.started": "2021-09-28T19:38:54.595272Z"
    },
    "tags": []
   },
   "outputs": [
    {
     "data": {
      "text/html": [
       "<div>\n",
       "<style scoped>\n",
       "    .dataframe tbody tr th:only-of-type {\n",
       "        vertical-align: middle;\n",
       "    }\n",
       "\n",
       "    .dataframe tbody tr th {\n",
       "        vertical-align: top;\n",
       "    }\n",
       "\n",
       "    .dataframe thead th {\n",
       "        text-align: right;\n",
       "    }\n",
       "</style>\n",
       "<table border=\"1\" class=\"dataframe\">\n",
       "  <thead>\n",
       "    <tr style=\"text-align: right;\">\n",
       "      <th></th>\n",
       "      <th>prefix</th>\n",
       "      <th>arpnum</th>\n",
       "      <th>t_start</th>\n",
       "      <th>t_end</th>\n",
       "      <th>label</th>\n",
       "      <th>flares</th>\n",
       "      <th>bad_img_idx</th>\n",
       "      <th>HEIGHT</th>\n",
       "      <th>WIDTH</th>\n",
       "      <th>SUM</th>\n",
       "      <th>SUM_SQR</th>\n",
       "      <th>FLARE_INDEX</th>\n",
       "      <th>AREA</th>\n",
       "      <th>USFLUXL</th>\n",
       "      <th>MEANGBL</th>\n",
       "      <th>R_VALUE</th>\n",
       "      <th>model_query</th>\n",
       "      <th>prob</th>\n",
       "    </tr>\n",
       "  </thead>\n",
       "  <tbody>\n",
       "    <tr>\n",
       "      <th>0</th>\n",
       "      <td>HARP</td>\n",
       "      <td>5982</td>\n",
       "      <td>2015-09-26 04:48:00</td>\n",
       "      <td>2015-09-27 04:48:00</td>\n",
       "      <td>True</td>\n",
       "      <td>C1.4|C4.1|M3.6|C2.0</td>\n",
       "      <td>[]</td>\n",
       "      <td>52</td>\n",
       "      <td>170</td>\n",
       "      <td>32247.787109</td>\n",
       "      <td>52526536.0</td>\n",
       "      <td>0.0</td>\n",
       "      <td>1930.764282</td>\n",
       "      <td>3.986751e+21</td>\n",
       "      <td>21.506</td>\n",
       "      <td>3.133309</td>\n",
       "      <td>cv/base/sharp/0/0/2/CNN</td>\n",
       "      <td>0.014476</td>\n",
       "    </tr>\n",
       "    <tr>\n",
       "      <th>1</th>\n",
       "      <td>HARP</td>\n",
       "      <td>5982</td>\n",
       "      <td>2015-09-26 06:24:00</td>\n",
       "      <td>2015-09-27 06:24:00</td>\n",
       "      <td>True</td>\n",
       "      <td>C1.4|C4.1|M3.6|C2.0|C4.5</td>\n",
       "      <td>[]</td>\n",
       "      <td>52</td>\n",
       "      <td>170</td>\n",
       "      <td>34118.625000</td>\n",
       "      <td>54245920.0</td>\n",
       "      <td>0.0</td>\n",
       "      <td>2019.492432</td>\n",
       "      <td>4.217465e+21</td>\n",
       "      <td>21.997</td>\n",
       "      <td>3.327348</td>\n",
       "      <td>cv/base/sharp/0/0/2/CNN</td>\n",
       "      <td>0.046034</td>\n",
       "    </tr>\n",
       "    <tr>\n",
       "      <th>2</th>\n",
       "      <td>HARP</td>\n",
       "      <td>5982</td>\n",
       "      <td>2015-09-26 08:00:00</td>\n",
       "      <td>2015-09-27 08:00:00</td>\n",
       "      <td>True</td>\n",
       "      <td>C1.4|C4.1|M3.6|C2.0|C4.5</td>\n",
       "      <td>[]</td>\n",
       "      <td>52</td>\n",
       "      <td>170</td>\n",
       "      <td>53700.820312</td>\n",
       "      <td>56002132.0</td>\n",
       "      <td>0.0</td>\n",
       "      <td>2131.690186</td>\n",
       "      <td>4.594860e+21</td>\n",
       "      <td>21.066</td>\n",
       "      <td>3.129978</td>\n",
       "      <td>cv/base/sharp/0/0/2/CNN</td>\n",
       "      <td>0.049314</td>\n",
       "    </tr>\n",
       "    <tr>\n",
       "      <th>3</th>\n",
       "      <td>HARP</td>\n",
       "      <td>5982</td>\n",
       "      <td>2015-09-26 09:36:00</td>\n",
       "      <td>2015-09-27 09:36:00</td>\n",
       "      <td>True</td>\n",
       "      <td>C1.4|C4.1|M3.6|C2.0|C4.5|C3.7</td>\n",
       "      <td>[]</td>\n",
       "      <td>52</td>\n",
       "      <td>170</td>\n",
       "      <td>62026.578125</td>\n",
       "      <td>61246932.0</td>\n",
       "      <td>0.0</td>\n",
       "      <td>2228.038086</td>\n",
       "      <td>5.040325e+21</td>\n",
       "      <td>20.682</td>\n",
       "      <td>3.214922</td>\n",
       "      <td>cv/base/sharp/0/0/2/CNN</td>\n",
       "      <td>0.065485</td>\n",
       "    </tr>\n",
       "    <tr>\n",
       "      <th>4</th>\n",
       "      <td>HARP</td>\n",
       "      <td>5982</td>\n",
       "      <td>2015-09-26 11:12:00</td>\n",
       "      <td>2015-09-27 11:12:00</td>\n",
       "      <td>True</td>\n",
       "      <td>C1.4|C4.1|M3.6|C2.0|C4.5|C3.7</td>\n",
       "      <td>[]</td>\n",
       "      <td>52</td>\n",
       "      <td>170</td>\n",
       "      <td>73711.007812</td>\n",
       "      <td>66570756.0</td>\n",
       "      <td>0.0</td>\n",
       "      <td>2361.739990</td>\n",
       "      <td>5.486741e+21</td>\n",
       "      <td>20.457</td>\n",
       "      <td>3.296535</td>\n",
       "      <td>cv/base/sharp/0/0/2/CNN</td>\n",
       "      <td>0.129238</td>\n",
       "    </tr>\n",
       "    <tr>\n",
       "      <th>5</th>\n",
       "      <td>HARP</td>\n",
       "      <td>5982</td>\n",
       "      <td>2015-09-26 12:48:00</td>\n",
       "      <td>2015-09-27 12:48:00</td>\n",
       "      <td>True</td>\n",
       "      <td>C1.4|C4.1|M3.6|C2.0|C4.5|C3.7</td>\n",
       "      <td>[]</td>\n",
       "      <td>52</td>\n",
       "      <td>170</td>\n",
       "      <td>89638.734375</td>\n",
       "      <td>77535568.0</td>\n",
       "      <td>0.0</td>\n",
       "      <td>2447.385254</td>\n",
       "      <td>6.015492e+21</td>\n",
       "      <td>20.129</td>\n",
       "      <td>3.387308</td>\n",
       "      <td>cv/base/sharp/0/0/2/CNN</td>\n",
       "      <td>0.250729</td>\n",
       "    </tr>\n",
       "    <tr>\n",
       "      <th>6</th>\n",
       "      <td>HARP</td>\n",
       "      <td>5982</td>\n",
       "      <td>2015-09-26 14:24:00</td>\n",
       "      <td>2015-09-27 14:24:00</td>\n",
       "      <td>True</td>\n",
       "      <td>C4.1|M3.6|C2.0|C4.5|C3.7</td>\n",
       "      <td>[]</td>\n",
       "      <td>52</td>\n",
       "      <td>170</td>\n",
       "      <td>103876.687500</td>\n",
       "      <td>86481936.0</td>\n",
       "      <td>1.4</td>\n",
       "      <td>2596.726074</td>\n",
       "      <td>6.554662e+21</td>\n",
       "      <td>19.801</td>\n",
       "      <td>3.389807</td>\n",
       "      <td>cv/base/sharp/0/0/2/CNN</td>\n",
       "      <td>0.493470</td>\n",
       "    </tr>\n",
       "    <tr>\n",
       "      <th>7</th>\n",
       "      <td>HARP</td>\n",
       "      <td>5982</td>\n",
       "      <td>2015-09-26 16:00:00</td>\n",
       "      <td>2015-09-27 16:00:00</td>\n",
       "      <td>True</td>\n",
       "      <td>C4.1|M3.6|C2.0|C4.5|C3.7</td>\n",
       "      <td>[]</td>\n",
       "      <td>52</td>\n",
       "      <td>170</td>\n",
       "      <td>115319.476562</td>\n",
       "      <td>95509664.0</td>\n",
       "      <td>1.4</td>\n",
       "      <td>2728.608643</td>\n",
       "      <td>7.029264e+21</td>\n",
       "      <td>19.247</td>\n",
       "      <td>3.450600</td>\n",
       "      <td>cv/base/sharp/0/0/2/CNN</td>\n",
       "      <td>0.876052</td>\n",
       "    </tr>\n",
       "    <tr>\n",
       "      <th>8</th>\n",
       "      <td>HARP</td>\n",
       "      <td>5982</td>\n",
       "      <td>2015-09-26 17:36:00</td>\n",
       "      <td>2015-09-27 17:36:00</td>\n",
       "      <td>True</td>\n",
       "      <td>C4.1|M3.6|C2.0|C4.5|C3.7</td>\n",
       "      <td>[]</td>\n",
       "      <td>52</td>\n",
       "      <td>170</td>\n",
       "      <td>126386.210938</td>\n",
       "      <td>103342448.0</td>\n",
       "      <td>1.4</td>\n",
       "      <td>2872.902344</td>\n",
       "      <td>7.475611e+21</td>\n",
       "      <td>18.661</td>\n",
       "      <td>3.463092</td>\n",
       "      <td>cv/base/sharp/0/0/2/CNN</td>\n",
       "      <td>0.960878</td>\n",
       "    </tr>\n",
       "  </tbody>\n",
       "</table>\n",
       "</div>"
      ],
      "text/plain": [
       "  prefix  arpnum              t_start                t_end  label  \\\n",
       "0   HARP    5982  2015-09-26 04:48:00  2015-09-27 04:48:00   True   \n",
       "1   HARP    5982  2015-09-26 06:24:00  2015-09-27 06:24:00   True   \n",
       "2   HARP    5982  2015-09-26 08:00:00  2015-09-27 08:00:00   True   \n",
       "3   HARP    5982  2015-09-26 09:36:00  2015-09-27 09:36:00   True   \n",
       "4   HARP    5982  2015-09-26 11:12:00  2015-09-27 11:12:00   True   \n",
       "5   HARP    5982  2015-09-26 12:48:00  2015-09-27 12:48:00   True   \n",
       "6   HARP    5982  2015-09-26 14:24:00  2015-09-27 14:24:00   True   \n",
       "7   HARP    5982  2015-09-26 16:00:00  2015-09-27 16:00:00   True   \n",
       "8   HARP    5982  2015-09-26 17:36:00  2015-09-27 17:36:00   True   \n",
       "\n",
       "                          flares bad_img_idx  HEIGHT  WIDTH            SUM  \\\n",
       "0            C1.4|C4.1|M3.6|C2.0          []      52    170   32247.787109   \n",
       "1       C1.4|C4.1|M3.6|C2.0|C4.5          []      52    170   34118.625000   \n",
       "2       C1.4|C4.1|M3.6|C2.0|C4.5          []      52    170   53700.820312   \n",
       "3  C1.4|C4.1|M3.6|C2.0|C4.5|C3.7          []      52    170   62026.578125   \n",
       "4  C1.4|C4.1|M3.6|C2.0|C4.5|C3.7          []      52    170   73711.007812   \n",
       "5  C1.4|C4.1|M3.6|C2.0|C4.5|C3.7          []      52    170   89638.734375   \n",
       "6       C4.1|M3.6|C2.0|C4.5|C3.7          []      52    170  103876.687500   \n",
       "7       C4.1|M3.6|C2.0|C4.5|C3.7          []      52    170  115319.476562   \n",
       "8       C4.1|M3.6|C2.0|C4.5|C3.7          []      52    170  126386.210938   \n",
       "\n",
       "       SUM_SQR  FLARE_INDEX         AREA       USFLUXL  MEANGBL   R_VALUE  \\\n",
       "0   52526536.0          0.0  1930.764282  3.986751e+21   21.506  3.133309   \n",
       "1   54245920.0          0.0  2019.492432  4.217465e+21   21.997  3.327348   \n",
       "2   56002132.0          0.0  2131.690186  4.594860e+21   21.066  3.129978   \n",
       "3   61246932.0          0.0  2228.038086  5.040325e+21   20.682  3.214922   \n",
       "4   66570756.0          0.0  2361.739990  5.486741e+21   20.457  3.296535   \n",
       "5   77535568.0          0.0  2447.385254  6.015492e+21   20.129  3.387308   \n",
       "6   86481936.0          1.4  2596.726074  6.554662e+21   19.801  3.389807   \n",
       "7   95509664.0          1.4  2728.608643  7.029264e+21   19.247  3.450600   \n",
       "8  103342448.0          1.4  2872.902344  7.475611e+21   18.661  3.463092   \n",
       "\n",
       "               model_query      prob  \n",
       "0  cv/base/sharp/0/0/2/CNN  0.014476  \n",
       "1  cv/base/sharp/0/0/2/CNN  0.046034  \n",
       "2  cv/base/sharp/0/0/2/CNN  0.049314  \n",
       "3  cv/base/sharp/0/0/2/CNN  0.065485  \n",
       "4  cv/base/sharp/0/0/2/CNN  0.129238  \n",
       "5  cv/base/sharp/0/0/2/CNN  0.250729  \n",
       "6  cv/base/sharp/0/0/2/CNN  0.493470  \n",
       "7  cv/base/sharp/0/0/2/CNN  0.876052  \n",
       "8  cv/base/sharp/0/0/2/CNN  0.960878  "
      ]
     },
     "execution_count": 4,
     "metadata": {},
     "output_type": "execute_result"
    }
   ],
   "source": [
    "df"
   ]
  },
  {
   "cell_type": "markdown",
   "id": "491dd987-c43a-4819-b9cd-86493748b27c",
   "metadata": {},
   "source": [
    "## Single frame"
   ]
  },
  {
   "cell_type": "code",
   "execution_count": 28,
   "id": "02d0dd9f-4144-4c6b-ab27-82f106855ad1",
   "metadata": {
    "execution": {
     "iopub.execute_input": "2021-09-27T10:26:48.078241Z",
     "iopub.status.busy": "2021-09-27T10:26:48.077871Z",
     "iopub.status.idle": "2021-09-27T10:26:55.872471Z",
     "shell.execute_reply": "2021-09-27T10:26:55.871438Z",
     "shell.execute_reply.started": "2021-09-27T10:26:48.078200Z"
    },
    "tags": []
   },
   "outputs": [
    {
     "name": "stdout",
     "output_type": "stream",
     "text": [
      "dict_values(['cv', 'base', 'sharp', '0', '0', '2', 'CNN'])\n"
     ]
    },
    {
     "data": {
      "application/vnd.jupyter.widget-view+json": {
       "model_id": "f03cee28dfc64267a62e38cfe51244bf",
       "version_major": 2,
       "version_minor": 0
      },
      "text/plain": [
       "  0%|          | 0/5 [00:00<?, ?it/s]"
      ]
     },
     "metadata": {},
     "output_type": "display_data"
    },
    {
     "name": "stderr",
     "output_type": "stream",
     "text": [
      "/home/zeyusun/.conda/envs/arnet2/lib/python3.8/site-packages/captum/_utils/gradient.py:57: UserWarning:\n",
      "\n",
      "Input Tensor 0 did not already require gradients, required_grads has been set automatically.\n",
      "\n",
      "/home/zeyusun/.conda/envs/arnet2/lib/python3.8/site-packages/captum/attr/_core/guided_backprop_deconvnet.py:60: UserWarning:\n",
      "\n",
      "Setting backward hooks on ReLU activations.The hooks will be removed after the attribution is finished\n",
      "\n"
     ]
    },
    {
     "name": "stdout",
     "output_type": "stream",
     "text": [
      "Approximation delta:  tensor([0.0158, 0.0004], device='cuda:0', dtype=torch.float64)\n",
      "Approximation delta:  tensor([0.0335, 0.0107], device='cuda:0', dtype=torch.float64)\n",
      "Approximation delta:  tensor([0.0129, 0.0309], device='cuda:0', dtype=torch.float64)\n",
      "Approximation delta:  tensor([0.0045, 0.0554], device='cuda:0', dtype=torch.float64)\n",
      "Approximation delta:  tensor([0.0016], device='cuda:0', dtype=torch.float64)\n"
     ]
    },
    {
     "name": "stderr",
     "output_type": "stream",
     "text": [
      "/home/zeyusun/.conda/envs/arnet2/lib/python3.8/site-packages/captum/attr/_core/deep_lift.py:322: UserWarning:\n",
      "\n",
      "Setting forward, backward hooks and attributes on non-linear\n",
      "               activations. The hooks and attributes will be removed\n",
      "            after the attribution is finished\n",
      "\n"
     ]
    }
   ],
   "source": [
    "heatmaps = get_heatmaps_from_df(df, algorithms, baseline_type='zero')"
   ]
  },
  {
   "cell_type": "code",
   "execution_count": 55,
   "id": "fa20adf9-174d-465f-ba2a-4b1cc4b2a90e",
   "metadata": {
    "execution": {
     "iopub.execute_input": "2021-09-23T07:50:58.833789Z",
     "iopub.status.busy": "2021-09-23T07:50:58.833171Z",
     "iopub.status.idle": "2021-09-23T07:50:58.908474Z",
     "shell.execute_reply": "2021-09-23T07:50:58.907048Z",
     "shell.execute_reply.started": "2021-09-23T07:50:58.833716Z"
    },
    "tags": []
   },
   "outputs": [],
   "source": [
    "## Inspect to tune hyperparameters\n",
    "# heatmaps['IntegratedGradients'][0].shape\n",
    "# heatmaps['IntegratedGradients'][0].sum()\n",
    "# plt.hist(heatmaps['IntegratedGradients'][0].ravel())\n",
    "# plt.hist(heatmaps['LayerGradCam'][1].ravel())\n",
    "\n",
    "## Test for px.imshow to make sure the original functionality works\n",
    "# px.imshow(heatmaps['LayerGradCam'][0].squeeze(), color_continuous_scale=px.colors.diverging.RdBu_r)"
   ]
  },
  {
   "cell_type": "code",
   "execution_count": null,
   "id": "25489ea6-2cf3-48dd-bb3a-20f3e6843e98",
   "metadata": {
    "tags": []
   },
   "outputs": [],
   "source": [
    "# m.shape = (C, T, H, W) is a single instance\n",
    "g = lambda m: m[0, 0, :, :] #.transpose(1,2,0)\n",
    "for i in df.index:\n",
    "    display(df.iloc[[i]])\n",
    "\n",
    "    imgs = np.array([g(heatmaps[a][i]) for a in heatmaps])\n",
    "    algorithms = list(heatmaps.keys())\n",
    "    fig = plot_heatmaps_info(imgs, algorithms, df.iloc[i],\n",
    "                             zmin, zmax, color_continuous_scale,\n",
    "                             animation_frame=None)\n",
    "    kwargs = {f'{xy}axis{i}': {'showticklabels': False}\n",
    "              for i in ['', *range(2, len(algorithms)+1)]\n",
    "              for xy in ['x', 'y']}\n",
    "    height = 250\n",
    "    fig.update_layout(\n",
    "        margin={'l': 0, 'r': 0, 't': 0, 'b': 0},\n",
    "        height=height,\n",
    "        width=height * len(algorithms) * 1.2, # 5 columns\n",
    "        #width=1800, # 8 columns\n",
    "        **kwargs,\n",
    "    )\n",
    "    fig.show(config={'modeBarButtonsToAdd':['drawopenpath', 'eraseshape']})\n",
    "    filename = f'attribution_zero/{i}'\n",
    "    fig.write_image(filename + '.png')\n",
    "    fig.write_image(filename + '.pdf')"
   ]
  },
  {
   "cell_type": "markdown",
   "id": "c96d0554-bb0c-4425-8def-1f598b926f14",
   "metadata": {},
   "source": [
    "## Movie with prediction with baseline first frame"
   ]
  },
  {
   "cell_type": "code",
   "execution_count": null,
   "id": "84e0fb56-6579-42d6-936b-fdd39f6f145c",
   "metadata": {},
   "outputs": [
    {
     "data": {
      "text/plain": [
       "(-0.02334314373614411, 93.78056679862786)"
      ]
     },
     "execution_count": 7,
     "metadata": {},
     "output_type": "execute_result"
    }
   ],
   "source": [
    "from arnet.transforms import calc_stats\n",
    "hist = np.load('/home/zeyusun/work/flare-prediction-smarp/datasets/sharp_hist.npy', allow_pickle=True).item()\n",
    "#func = get_transform('ValueTransform', cfg) if 'ValueTransform' in cfg.DATA.TRANSFORMS else None             \n",
    "#mean, std = \n",
    "calc_stats(hist['hist'], hist['bins'], func=None)"
   ]
  },
  {
   "cell_type": "markdown",
   "id": "62b922fa-ec0f-412f-a99f-39abe3fc0db2",
   "metadata": {},
   "source": [
    "MDI/HMI maximum 2000 Gs. Standard deviation ~100. So the transformed input has maximum magnitutde 20."
   ]
  },
  {
   "cell_type": "code",
   "execution_count": 5,
   "id": "92dd8f56-727a-4cf0-a93d-783b265d22cb",
   "metadata": {
    "execution": {
     "iopub.execute_input": "2021-09-28T19:38:57.022238Z",
     "iopub.status.busy": "2021-09-28T19:38:57.021584Z",
     "iopub.status.idle": "2021-09-28T19:39:16.776143Z",
     "shell.execute_reply": "2021-09-28T19:39:16.774723Z",
     "shell.execute_reply.started": "2021-09-28T19:38:57.022167Z"
    },
    "tags": []
   },
   "outputs": [
    {
     "name": "stdout",
     "output_type": "stream",
     "text": [
      "dict_values(['cv', 'base', 'sharp', '0', '0', '2', 'CNN'])\n",
      "Select iloc slice(None, None, None) from \n",
      "                          start_time tags.mlflow.runName\n",
      "200 2021-09-10 18:09:23.430000+00:00                base\n"
     ]
    },
    {
     "data": {
      "application/vnd.jupyter.widget-view+json": {
       "model_id": "3e4a7c56e95f4d55b7c61d870ec3df32",
       "version_major": 2,
       "version_minor": 0
      },
      "text/plain": [
       "  0%|          | 0/5 [00:00<?, ?it/s]"
      ]
     },
     "metadata": {},
     "output_type": "display_data"
    },
    {
     "name": "stderr",
     "output_type": "stream",
     "text": [
      "/home/zeyusun/.conda/envs/arnet2/lib/python3.8/site-packages/captum/_utils/gradient.py:57: UserWarning: Input Tensor 0 did not already require gradients, required_grads has been set automatically.\n",
      "  warnings.warn(\n",
      "/home/zeyusun/.conda/envs/arnet2/lib/python3.8/site-packages/captum/attr/_core/guided_backprop_deconvnet.py:60: UserWarning: Setting backward hooks on ReLU activations.The hooks will be removed after the attribution is finished\n",
      "  warnings.warn(\n"
     ]
    },
    {
     "name": "stdout",
     "output_type": "stream",
     "text": [
      "Approximation delta:  tensor([0.0000, 0.0012], device='cuda:0', dtype=torch.float64)\n",
      "Approximation delta:  tensor([0.0074, 0.0018], device='cuda:0', dtype=torch.float64)\n",
      "Approximation delta:  tensor([0.0036, 0.0073], device='cuda:0', dtype=torch.float64)\n",
      "Approximation delta:  tensor([0.0051, 0.0075], device='cuda:0', dtype=torch.float64)\n",
      "Approximation delta:  tensor([0.0283], device='cuda:0', dtype=torch.float64)\n"
     ]
    },
    {
     "name": "stderr",
     "output_type": "stream",
     "text": [
      "/home/zeyusun/.conda/envs/arnet2/lib/python3.8/site-packages/captum/attr/_core/deep_lift.py:322: UserWarning: Setting forward, backward hooks and attributes on non-linear\n",
      "               activations. The hooks and attributes will be removed\n",
      "            after the attribution is finished\n",
      "  warnings.warn(\n"
     ]
    }
   ],
   "source": [
    "heatmaps = get_heatmaps_from_df(df, algorithms, baseline_type='first')"
   ]
  },
  {
   "cell_type": "code",
   "execution_count": 17,
   "id": "9177d96a-d2f4-4e32-b68d-8f8299f75b7b",
   "metadata": {
    "execution": {
     "iopub.execute_input": "2021-09-26T04:28:19.967361Z",
     "iopub.status.busy": "2021-09-26T04:28:19.966760Z",
     "iopub.status.idle": "2021-09-26T04:28:20.058738Z",
     "shell.execute_reply": "2021-09-26T04:28:20.057197Z",
     "shell.execute_reply.started": "2021-09-26T04:28:19.967294Z"
    },
    "tags": []
   },
   "outputs": [],
   "source": [
    "df.to_csv('_temp.csv')"
   ]
  },
  {
   "cell_type": "code",
   "execution_count": null,
   "id": "d7f4a138-0e70-45ee-93cc-3d041f3a5511",
   "metadata": {
    "tags": []
   },
   "outputs": [],
   "source": [
    "# when df is a continuous time series for an active region\n",
    "# concatenate all heatmaps along the time dimension\n",
    "imgs = np.array([np.concatenate(heatmaps[a], axis=1)[0] for a in heatmaps])\n",
    "algorithms = list(heatmaps.keys())\n",
    "fig = plot_heatmaps_info(imgs, algorithms, df,\n",
    "                         zmin, zmax, color_continuous_scale,\n",
    "                         animation_frame=1)\n",
    "fig.show(config={'modeBarButtonsToAdd':['drawopenpath', 'eraseshape']})\n",
    "fig.write_html('captum_movie_first.html')"
   ]
  },
  {
   "cell_type": "code",
   "execution_count": null,
   "id": "79f3c4de-79e3-45f7-a69e-f45fd22f7a38",
   "metadata": {
    "tags": []
   },
   "outputs": [],
   "source": [
    "# m.shape = (C, T, H, W) is a single instance\n",
    "g = lambda m: m[0, 0, :, :] #.transpose(1,2,0)\n",
    "for i in df.index:\n",
    "    display(df.iloc[[i]])\n",
    "\n",
    "    imgs = np.array([g(heatmaps[a][i]) for a in heatmaps])\n",
    "    algorithms = list(heatmaps.keys())\n",
    "    fig = plot_heatmaps_info(imgs, algorithms, df.iloc[i],\n",
    "                             zmin, zmax, color_continuous_scale,\n",
    "                             animation_frame=None)\n",
    "    kwargs = {f'{xy}axis{i}': {'showticklabels': False}\n",
    "              for i in ['', *range(2, len(algorithms)+1)]\n",
    "              for xy in ['x', 'y']}\n",
    "    height = 200\n",
    "    fig.update_layout(\n",
    "        margin={'l': 0, 'r': 0, 't': 20, 'b': 0}, # title seems to be out of margin\n",
    "        height=height,\n",
    "        width=height * len(algorithms) * 1.2, # 5 columns\n",
    "        #width=1800, # 8 columns\n",
    "        **kwargs,\n",
    "    )\n",
    "    fig.show(config={'modeBarButtonsToAdd':['drawopenpath', 'eraseshape']})\n",
    "    filename = f'attribution_first/{i}'\n",
    "    fig.write_image(filename + '.png')\n",
    "    fig.write_image(filename + '.pdf')"
   ]
  },
  {
   "cell_type": "markdown",
   "id": "1a349cc0-907f-4f0e-acec-77c883a80d00",
   "metadata": {},
   "source": [
    "## Inspect Grad-CAM"
   ]
  },
  {
   "cell_type": "code",
   "execution_count": null,
   "id": "487853d9-8623-4891-8e61-87a3f1785029",
   "metadata": {},
   "outputs": [],
   "source": [
    "from scipy.ndimage import zoom"
   ]
  },
  {
   "cell_type": "code",
   "execution_count": null,
   "id": "edc468c9-b6a9-47c0-80fc-ea7e0d096225",
   "metadata": {},
   "outputs": [],
   "source": [
    "_algorithms = ['LayerGradCam']\n",
    "heatmaps = get_heatmaps_from_df(df, _algorithms, baseline_type='zero')"
   ]
  },
  {
   "cell_type": "code",
   "execution_count": 61,
   "id": "20641a72-c852-4ca1-a8c2-6facba322459",
   "metadata": {
    "execution": {
     "iopub.execute_input": "2021-09-28T17:59:24.611826Z",
     "iopub.status.busy": "2021-09-28T17:59:24.611253Z",
     "iopub.status.idle": "2021-09-28T17:59:24.679474Z",
     "shell.execute_reply": "2021-09-28T17:59:24.677761Z",
     "shell.execute_reply.started": "2021-09-28T17:59:24.611761Z"
    },
    "tags": []
   },
   "outputs": [],
   "source": [
    "def _save(inputs, layer_evals, summed_grads):\n",
    "    \"\"\"\n",
    "    Usage:\n",
    "    ```python\n",
    "    from arnet.utils.debug import _save\n",
    "    _save(inputs, layer_evals, summed_grads)\n",
    "    ```\n",
    "\n",
    "    Args: All inputs are tuples of len 1.\n",
    "    ```\n",
    "    ipdb>  layer_evals[0].shape\n",
    "    torch.Size([9, 64, 1, 8, 8])\n",
    "    ipdb>  inputs[0].shape\n",
    "    torch.Size([9, 1, 1, 128, 128])\n",
    "    ipdb>  summed_grads[0].shape\n",
    "    torch.Size([9, 64, 1, 1, 1])\n",
    "    ```\n",
    "    \"\"\"\n",
    "    import numpy as np\n",
    "    tensors = [inputs[0], layer_evals[0], summed_grads[0]]\n",
    "    names = ['_inputs', '_layer_evals', '_summed_grads']\n",
    "    for t, n in zip(tensors, names):\n",
    "        np.save(n, t.detach().cpu().numpy())\n",
    "\n",
    "def _load():\n",
    "    import numpy as np\n",
    "    i = np.load('_inputs.npy')\n",
    "    l = np.load('_layer_evals.npy')\n",
    "    s = np.load('_summed_grads.npy')\n",
    "    return i, l, s"
   ]
  },
  {
   "cell_type": "code",
   "execution_count": 18,
   "id": "f64b2c65-008d-4901-9cdf-efeda2cfa822",
   "metadata": {
    "execution": {
     "iopub.execute_input": "2021-09-28T17:19:38.606328Z",
     "iopub.status.busy": "2021-09-28T17:19:38.605676Z",
     "iopub.status.idle": "2021-09-28T17:19:38.669175Z",
     "shell.execute_reply": "2021-09-28T17:19:38.667351Z",
     "shell.execute_reply.started": "2021-09-28T17:19:38.606259Z"
    },
    "tags": []
   },
   "outputs": [],
   "source": [
    "i, l, s = _load()"
   ]
  },
  {
   "cell_type": "code",
   "execution_count": 63,
   "id": "bcf5cfbc-f1b3-498f-9b5b-172b2c44ccd2",
   "metadata": {
    "execution": {
     "iopub.execute_input": "2021-09-28T18:02:27.465890Z",
     "iopub.status.busy": "2021-09-28T18:02:27.465268Z",
     "iopub.status.idle": "2021-09-28T18:02:27.532042Z",
     "shell.execute_reply": "2021-09-28T18:02:27.530681Z",
     "shell.execute_reply.started": "2021-09-28T18:02:27.465824Z"
    }
   },
   "outputs": [
    {
     "data": {
      "text/plain": [
       "(9, 1, 1, 128, 128)"
      ]
     },
     "execution_count": 63,
     "metadata": {},
     "output_type": "execute_result"
    }
   ],
   "source": [
    "i.shape"
   ]
  },
  {
   "cell_type": "code",
   "execution_count": 20,
   "id": "bc5763ff-b4e0-45c5-8234-45e524f7166e",
   "metadata": {
    "execution": {
     "iopub.execute_input": "2021-09-28T17:20:07.827590Z",
     "iopub.status.busy": "2021-09-28T17:20:07.827018Z",
     "iopub.status.idle": "2021-09-28T17:20:07.889234Z",
     "shell.execute_reply": "2021-09-28T17:20:07.887790Z",
     "shell.execute_reply.started": "2021-09-28T17:20:07.827525Z"
    },
    "tags": []
   },
   "outputs": [
    {
     "data": {
      "text/plain": [
       "(9, 64, 1, 8, 8)"
      ]
     },
     "execution_count": 20,
     "metadata": {},
     "output_type": "execute_result"
    }
   ],
   "source": [
    "l.shape"
   ]
  },
  {
   "cell_type": "code",
   "execution_count": 39,
   "id": "520cbca9-30a2-4bfd-ba29-ec81e950783e",
   "metadata": {
    "execution": {
     "iopub.execute_input": "2021-09-28T17:40:45.679052Z",
     "iopub.status.busy": "2021-09-28T17:40:45.678467Z",
     "iopub.status.idle": "2021-09-28T17:40:45.744067Z",
     "shell.execute_reply": "2021-09-28T17:40:45.742592Z",
     "shell.execute_reply.started": "2021-09-28T17:40:45.678987Z"
    }
   },
   "outputs": [
    {
     "data": {
      "text/plain": [
       "(9, 64, 1, 1, 1)"
      ]
     },
     "execution_count": 39,
     "metadata": {},
     "output_type": "execute_result"
    }
   ],
   "source": [
    "s.shape"
   ]
  },
  {
   "cell_type": "code",
   "execution_count": null,
   "id": "eeaf5308-3122-4386-a11e-788f608905bc",
   "metadata": {
    "tags": []
   },
   "outputs": [],
   "source": [
    "px.imshow(i[:,0,0],\n",
    "          animation_frame=0,\n",
    "          color_continuous_scale='RdBu_r', color_continuous_midpoint=0,\n",
    "         )"
   ]
  },
  {
   "cell_type": "code",
   "execution_count": 66,
   "id": "755e0410-7e22-46f6-9764-2d5b49e9597e",
   "metadata": {
    "execution": {
     "iopub.execute_input": "2021-09-28T18:03:59.758297Z",
     "iopub.status.busy": "2021-09-28T18:03:59.757725Z",
     "iopub.status.idle": "2021-09-28T18:03:59.863606Z",
     "shell.execute_reply": "2021-09-28T18:03:59.862132Z",
     "shell.execute_reply.started": "2021-09-28T18:03:59.758232Z"
    },
    "tags": []
   },
   "outputs": [
    {
     "data": {
      "text/plain": [
       "(9, 8, 8)"
      ]
     },
     "execution_count": 66,
     "metadata": {},
     "output_type": "execute_result"
    }
   ],
   "source": [
    "gradcam = np.sum(l * s, axis=1, keepdims=True)[:, 0, 0]\n",
    "gradcam_reshaped = np.array([zoom(g, [128/8, 128/8]) for g in gradcam])\n",
    "gradcam.shape"
   ]
  },
  {
   "cell_type": "code",
   "execution_count": null,
   "id": "7fa2ea36-af98-45a4-a4af-98b308185f6a",
   "metadata": {
    "tags": []
   },
   "outputs": [],
   "source": [
    "px.imshow(#gradcam_reshaped,\n",
    "          gradcam,\n",
    "          animation_frame=0,\n",
    "          color_continuous_scale='RdBu_r', color_continuous_midpoint=0,\n",
    "         )"
   ]
  },
  {
   "cell_type": "code",
   "execution_count": null,
   "id": "4a73ee4e-428a-4e3a-9b42-2b7d79189e76",
   "metadata": {
    "tags": []
   },
   "outputs": [],
   "source": [
    "px.imshow(s.reshape(9,8,8), animation_frame=0,\n",
    "          color_continuous_scale='RdBu_r', color_continuous_midpoint=0,\n",
    "         )"
   ]
  },
  {
   "cell_type": "code",
   "execution_count": null,
   "id": "3480d2fd-8bf0-4cbd-856c-bf20bcb1c251",
   "metadata": {
    "tags": []
   },
   "outputs": [],
   "source": [
    "fig = px.imshow(#l[:,:,0],\n",
    "                (l * s)[:,:,0],\n",
    "                animation_frame=0, facet_col=1, facet_col_wrap=8, facet_col_spacing=0,\n",
    "                color_continuous_scale='RdBu_r', color_continuous_midpoint=0,\n",
    ")\n",
    "fig.update_layout(\n",
    "    height=1500\n",
    ")"
   ]
  },
  {
   "cell_type": "markdown",
   "id": "d3c77132-2424-4b20-a89a-b3723880bdf6",
   "metadata": {},
   "source": [
    "## Track"
   ]
  },
  {
   "cell_type": "code",
   "execution_count": 24,
   "id": "aa102423-32e2-401b-bd56-ae4cb79a4c8e",
   "metadata": {
    "execution": {
     "iopub.execute_input": "2021-09-28T19:49:10.351135Z",
     "iopub.status.busy": "2021-09-28T19:49:10.350756Z",
     "iopub.status.idle": "2021-09-28T19:49:10.674682Z",
     "shell.execute_reply": "2021-09-28T19:49:10.673360Z",
     "shell.execute_reply.started": "2021-09-28T19:49:10.351093Z"
    },
    "tags": []
   },
   "outputs": [
    {
     "data": {
      "text/plain": [
       "<matplotlib.image.AxesImage at 0x7fb519711160>"
      ]
     },
     "execution_count": 24,
     "metadata": {},
     "output_type": "execute_result"
    },
    {
     "data": {
      "image/png": "[encoded data removed]",
      "text/plain": [
       "<Figure size 432x288 with 1 Axes>"
      ]
     },
     "metadata": {
      "needs_background": "light"
     },
     "output_type": "display_data"
    }
   ],
   "source": [
    "from scipy.ndimage import gaussian_filter\n",
    "plt.imshow(gaussian_filter(heatmaps['IntegratedGradients'][-1][0,0], sigma=1), vmin=-0.01, vmax=0.01)"
   ]
  },
  {
   "cell_type": "code",
   "execution_count": 34,
   "id": "4a3fc876-19be-422f-b67a-e05e6dbcb48b",
   "metadata": {
    "collapsed": true,
    "execution": {
     "iopub.execute_input": "2021-09-28T19:59:16.070068Z",
     "iopub.status.busy": "2021-09-28T19:59:16.069467Z",
     "iopub.status.idle": "2021-09-28T19:59:16.687781Z",
     "shell.execute_reply": "2021-09-28T19:59:16.686396Z",
     "shell.execute_reply.started": "2021-09-28T19:59:16.070000Z"
    },
    "jupyter": {
     "outputs_hidden": true
    },
    "tags": []
   },
   "outputs": [
    {
     "data": {
      "text/plain": [
       "(array([1.00000e+00, 0.00000e+00, 1.00000e+00, 0.00000e+00, 0.00000e+00,\n",
       "        2.00000e+00, 0.00000e+00, 1.00000e+00, 0.00000e+00, 0.00000e+00,\n",
       "        1.00000e+00, 1.00000e+00, 0.00000e+00, 2.00000e+00, 1.00000e+00,\n",
       "        3.00000e+00, 1.00000e+00, 2.00000e+00, 3.00000e+00, 4.00000e+00,\n",
       "        6.00000e+00, 5.00000e+00, 4.00000e+00, 4.00000e+00, 7.00000e+00,\n",
       "        6.00000e+00, 7.00000e+00, 6.00000e+00, 1.40000e+01, 1.00000e+01,\n",
       "        1.10000e+01, 1.70000e+01, 1.80000e+01, 1.70000e+01, 1.70000e+01,\n",
       "        4.30000e+01, 5.00000e+01, 6.70000e+01, 8.90000e+01, 1.22000e+02,\n",
       "        1.90000e+02, 2.37000e+02, 4.37000e+02, 7.73000e+02, 2.17800e+03,\n",
       "        1.16738e+05, 2.15630e+04, 1.84200e+03, 8.99000e+02, 5.29000e+02,\n",
       "        3.15000e+02, 2.35000e+02, 1.75000e+02, 1.44000e+02, 1.06000e+02,\n",
       "        6.90000e+01, 6.40000e+01, 5.70000e+01, 4.60000e+01, 4.80000e+01,\n",
       "        3.50000e+01, 3.00000e+01, 1.70000e+01, 2.10000e+01, 2.20000e+01,\n",
       "        1.00000e+01, 8.00000e+00, 1.10000e+01, 1.50000e+01, 1.40000e+01,\n",
       "        1.20000e+01, 9.00000e+00, 6.00000e+00, 6.00000e+00, 7.00000e+00,\n",
       "        5.00000e+00, 5.00000e+00, 6.00000e+00, 1.00000e+00, 3.00000e+00,\n",
       "        4.00000e+00, 2.00000e+00, 2.00000e+00, 1.00000e+00, 3.00000e+00,\n",
       "        0.00000e+00, 2.00000e+00, 1.00000e+00, 1.00000e+00, 1.00000e+00,\n",
       "        1.00000e+00, 3.00000e+00, 1.00000e+00, 0.00000e+00, 1.00000e+00,\n",
       "        0.00000e+00, 0.00000e+00, 0.00000e+00, 0.00000e+00, 2.00000e+00]),\n",
       " array([-0.08596565, -0.08409444, -0.08222324, -0.08035204, -0.07848084,\n",
       "        -0.07660963, -0.07473843, -0.07286723, -0.07099603, -0.06912482,\n",
       "        -0.06725362, -0.06538242, -0.06351122, -0.06164001, -0.05976881,\n",
       "        -0.05789761, -0.05602641, -0.0541552 , -0.052284  , -0.0504128 ,\n",
       "        -0.0485416 , -0.04667039, -0.04479919, -0.04292799, -0.04105679,\n",
       "        -0.03918558, -0.03731438, -0.03544318, -0.03357198, -0.03170077,\n",
       "        -0.02982957, -0.02795837, -0.02608717, -0.02421596, -0.02234476,\n",
       "        -0.02047356, -0.01860236, -0.01673115, -0.01485995, -0.01298875,\n",
       "        -0.01111755, -0.00924634, -0.00737514, -0.00550394, -0.00363274,\n",
       "        -0.00176153,  0.00010967,  0.00198087,  0.00385207,  0.00572328,\n",
       "         0.00759448,  0.00946568,  0.01133688,  0.01320809,  0.01507929,\n",
       "         0.01695049,  0.01882169,  0.0206929 ,  0.0225641 ,  0.0244353 ,\n",
       "         0.0263065 ,  0.02817771,  0.03004891,  0.03192011,  0.03379131,\n",
       "         0.03566252,  0.03753372,  0.03940492,  0.04127612,  0.04314733,\n",
       "         0.04501853,  0.04688973,  0.04876093,  0.05063214,  0.05250334,\n",
       "         0.05437454,  0.05624574,  0.05811695,  0.05998815,  0.06185935,\n",
       "         0.06373056,  0.06560176,  0.06747296,  0.06934416,  0.07121537,\n",
       "         0.07308657,  0.07495777,  0.07682897,  0.07870018,  0.08057138,\n",
       "         0.08244258,  0.08431378,  0.08618499,  0.08805619,  0.08992739,\n",
       "         0.09179859,  0.0936698 ,  0.095541  ,  0.0974122 ,  0.0992834 ,\n",
       "         0.10115461]),\n",
       " <BarContainer object of 100 artists>)"
      ]
     },
     "execution_count": 34,
     "metadata": {},
     "output_type": "execute_result"
    },
    {
     "data": {
      "image/png": "[encoded data removed]",
      "text/plain": [
       "<Figure size 432x288 with 1 Axes>"
      ]
     },
     "metadata": {
      "needs_background": "light"
     },
     "output_type": "display_data"
    }
   ],
   "source": [
    "plt.hist(np.array(heatmaps['IntegratedGradients']).ravel(), bins=100)"
   ]
  },
  {
   "cell_type": "code",
   "execution_count": null,
   "id": "3684b6bb-56e4-4207-90b8-41a7cfb7350b",
   "metadata": {
    "tags": []
   },
   "outputs": [],
   "source": [
    "#figs = plot_heatmaps_contour(heatmaps['Original'], {k: heatmaps[k] for k in heatmaps if k != 'nalOrigi'})\n",
    "figs = plot_heatmaps_contour(heatmaps['Original'], {k: heatmaps[k] for k in heatmaps if k == 'IntegratedGradients'})\n",
    "for Algorithm in figs:\n",
    "    for t, fig in enumerate(figs[Algorithm]):\n",
    "        # fig.show() # it will show anyway\n",
    "        fig.savefig(f'animation/{Algorithm}/{t}.png', dpi=300)"
   ]
  },
  {
   "cell_type": "code",
   "execution_count": 40,
   "id": "8d82919a-6cf4-4aaa-a134-633f0f86b1eb",
   "metadata": {
    "execution": {
     "iopub.execute_input": "2021-09-28T20:04:35.440743Z",
     "iopub.status.busy": "2021-09-28T20:04:35.440123Z",
     "iopub.status.idle": "2021-09-28T20:04:39.946859Z",
     "shell.execute_reply": "2021-09-28T20:04:39.945657Z",
     "shell.execute_reply.started": "2021-09-28T20:04:35.440666Z"
    },
    "tags": []
   },
   "outputs": [],
   "source": [
    "import os, imageio\n",
    "filenames = [f'animation/IntegratedGradients/{i}.png' for i in range(9)]\n",
    "images = list(map(lambda filename: imageio.imread(filename), filenames))\n",
    "imageio.mimsave(os.path.join('contour_movie.gif'), images, duration = 0.5) # modify duration as needed"
   ]
  },
  {
   "cell_type": "code",
   "execution_count": 65,
   "id": "267ab476-f157-4a8e-86e3-30de17529de8",
   "metadata": {
    "execution": {
     "iopub.execute_input": "2021-09-23T10:13:52.200695Z",
     "iopub.status.busy": "2021-09-23T10:13:52.200104Z",
     "iopub.status.idle": "2021-09-23T10:13:53.097125Z",
     "shell.execute_reply": "2021-09-23T10:13:53.095945Z",
     "shell.execute_reply.started": "2021-09-23T10:13:52.200627Z"
    },
    "tags": []
   },
   "outputs": [],
   "source": [
    "# plotly works without animation\n",
    "\n",
    "vmax = np.percentile(np.absolute(heatmaps['IntegratedGradients']), 99) # perceptive max: 0.0115\n",
    "vmin = -vmax\n",
    "levelmax = vmax * 0.8\n",
    "levelmin = -levelmax\n",
    "frames = []\n",
    "for t in range(len(heatmaps['Original'])):\n",
    "    image = heatmaps['Original'][t][0,0]\n",
    "    mask = heatmaps['IntegratedGradients'][t][0,0]\n",
    "    mask_smoothed = gaussian_filter(mask, sigma=1)\n",
    "\n",
    "    fig = px.imshow(image, color_continuous_scale='gray')\n",
    "    fig.add_trace(go.Contour(z=mask_smoothed,\n",
    "                             contours_coloring='lines',\n",
    "                             colorscale='RdBu_r',\n",
    "                             contours={'start': levelmin, 'end': levelmax, 'size': levelmax-levelmin},\n",
    "                             #ncontours=4, # Has an effect only if `autocontour` is \"True\" or if `contours.size` is missing.\n",
    "                             #line_smoothing=0.85,\n",
    "                             line_width=2,\n",
    "                            ))\n",
    "    frames.append(go.Frame(data=fig.data, layout=fig.layout))"
   ]
  },
  {
   "cell_type": "code",
   "execution_count": null,
   "id": "b44df022-873f-4662-86ec-02e4d3813551",
   "metadata": {
    "tags": []
   },
   "outputs": [],
   "source": [
    "# plotly animation not working properly\n",
    "\n",
    "import plotly.graph_objects as go\n",
    "\n",
    "fig = go.Figure(\n",
    "    data=frames[0].data,\n",
    "    layout=frames[0].layout,\n",
    "    frames=frames,\n",
    ")\n",
    "# fig.update_layout({\n",
    "#     'updatemenus': [\n",
    "#         {\n",
    "#             'type': 'buttons',\n",
    "#             'buttons': [\n",
    "#                 {\n",
    "#                     'label': 'Play',\n",
    "#                     'method': 'animate',\n",
    "#                     'args': None\n",
    "#                 }\n",
    "#             ]\n",
    "#         }\n",
    "#     ]\n",
    "# })\n",
    "\n",
    "def frame_args(duration):\n",
    "    return {\n",
    "        \"frame\": {\"duration\": duration, \"redraw\": True},\n",
    "        \"mode\": \"immediate\",\n",
    "        \"fromcurrent\": True,\n",
    "        \"transition\": {\"duration\": duration, \"easing\": \"linear\"},\n",
    "    }\n",
    "\n",
    "updatemenus = [\n",
    "    {\n",
    "        \"type\": \"buttons\",\n",
    "        \"direction\": \"left\",\n",
    "        \"pad\": {\"r\": 10, \"t\": 70},\n",
    "        \"x\": 0.1,\n",
    "        \"y\": 0,\n",
    "        \"buttons\": [\n",
    "            {\n",
    "                \"label\": \"&#9654;\", # play symbol\n",
    "                \"method\": \"animate\",\n",
    "                \"args\": [None, frame_args(100)],\n",
    "            },\n",
    "            {\n",
    "                \"label\": \"&#9724;\", # stop symbol\n",
    "                \"method\": \"animate\",\n",
    "                \"args\": [[None], frame_args(0)], # None should be inside []!\n",
    "            }\n",
    "        ]\n",
    "    }\n",
    "]\n",
    "sliders = [\n",
    "    {\n",
    "        \"pad\": {\"b\": 10, \"t\": 60},\n",
    "        \"len\": 0.9,\n",
    "        \"x\": 0.1,\n",
    "        \"y\": 0,\n",
    "        \"steps\": [\n",
    "            {\n",
    "                \"label\": \"Frame \"+str(k),\n",
    "                \"method\": \"animate\",\n",
    "                \"args\": [[f.name], frame_args(0)]\n",
    "            }\n",
    "            for k, f in enumerate(frames)\n",
    "        ]\n",
    "        #\"active\": 10,\n",
    "        #\"currentvalue\": {\"prefix\": \"Frequency: \"},\n",
    "    }\n",
    "]\n",
    "fig.update_layout({\n",
    "    \"updatemenus\": updatemenus,\n",
    "    \"sliders\": sliders\n",
    "})\n",
    "\n",
    "# fig.update_layout(updatemenus=[dict(\n",
    "#             type=\"buttons\",\n",
    "#             buttons=[dict(label=\"Play\",\n",
    "#                           method=\"animate\",\n",
    "#                           args=[None])])])\n",
    "fig.show()"
   ]
  },
  {
   "cell_type": "markdown",
   "id": "9b291e0a-695a-496c-a5f8-089d80794bd4",
   "metadata": {},
   "source": [
    "## Overlap"
   ]
  },
  {
   "cell_type": "code",
   "execution_count": null,
   "id": "d718d9b8-6c03-4048-8d4e-c058892e3ee0",
   "metadata": {
    "tags": []
   },
   "outputs": [],
   "source": [
    "figs = plot_heatmaps_overlay(heatmaps)"
   ]
  },
  {
   "cell_type": "code",
   "execution_count": 144,
   "id": "52c0ef27-c47b-4117-9b93-5e85310aa890",
   "metadata": {
    "execution": {
     "iopub.execute_input": "2021-10-02T22:41:48.090291Z",
     "iopub.status.busy": "2021-10-02T22:41:48.089709Z",
     "iopub.status.idle": "2021-10-02T22:41:54.886610Z",
     "shell.execute_reply": "2021-10-02T22:41:54.885441Z",
     "shell.execute_reply.started": "2021-10-02T22:41:48.090224Z"
    },
    "tags": []
   },
   "outputs": [],
   "source": [
    "from pathlib import Path\n",
    "folder = Path('movies/overlay_all')\n",
    "folder.mkdir(exist_ok=True)\n",
    "for t, fig in enumerate(figs):\n",
    "    # fig.show() # it will show anyway\n",
    "    fig.savefig(folder / f'{t}.png', dpi=300)"
   ]
  },
  {
   "cell_type": "code",
   "execution_count": 145,
   "id": "02727f70-cfac-4c7e-be14-9f96cdd42369",
   "metadata": {
    "execution": {
     "iopub.execute_input": "2021-10-02T22:42:25.221260Z",
     "iopub.status.busy": "2021-10-02T22:42:25.220682Z",
     "iopub.status.idle": "2021-10-02T22:42:29.931189Z",
     "shell.execute_reply": "2021-10-02T22:42:29.929681Z",
     "shell.execute_reply.started": "2021-10-02T22:42:25.221194Z"
    },
    "tags": []
   },
   "outputs": [],
   "source": [
    "import os, imageio\n",
    "filenames = [folder / f'{i}.png' for i in range(9)]\n",
    "images = list(map(lambda filename: imageio.imread(filename), filenames))\n",
    "imageio.mimsave(os.path.join(folder / 'movie.gif'), images, duration = 0.5) # modify duration as needed"
   ]
  },
  {
   "cell_type": "markdown",
   "id": "6563f9c7-de73-4edc-911f-a35118ac276f",
   "metadata": {},
   "source": [
    "## Prepare"
   ]
  },
  {
   "cell_type": "code",
   "execution_count": 57,
   "id": "altered-dispute",
   "metadata": {
    "execution": {
     "iopub.execute_input": "2021-09-13T04:02:31.006531Z",
     "iopub.status.busy": "2021-09-13T04:02:31.005828Z",
     "iopub.status.idle": "2021-09-13T04:02:47.273230Z",
     "shell.execute_reply": "2021-09-13T04:02:47.271894Z",
     "shell.execute_reply.started": "2021-09-13T04:02:31.006463Z"
    },
    "tags": []
   },
   "outputs": [
    {
     "name": "stdout",
     "output_type": "stream",
     "text": [
      "Select iloc slice(None, None, None) from \n",
      "                          start_time tags.mlflow.runName\n",
      "245 2021-08-23 09:22:37.321000+00:00             val_tss\n"
     ]
    }
   ],
   "source": [
    "experiment_name = 'leaderboard3'\n",
    "run_name = 'val_tss'\n",
    "runs = retrieve(experiment_name, run_name)"
   ]
  },
  {
   "cell_type": "code",
   "execution_count": 58,
   "id": "indian-works",
   "metadata": {
    "execution": {
     "iopub.execute_input": "2021-09-13T04:02:47.275685Z",
     "iopub.status.busy": "2021-09-13T04:02:47.275399Z",
     "iopub.status.idle": "2021-09-13T04:02:47.326417Z",
     "shell.execute_reply": "2021-09-13T04:02:47.325411Z",
     "shell.execute_reply.started": "2021-09-13T04:02:47.275646Z"
    },
    "tags": []
   },
   "outputs": [],
   "source": [
    "dataset_name = 'sharp'\n",
    "estimator_name = 'CNN'\n",
    "seed = 0\n",
    "\n",
    "selected = runs.loc[\n",
    "    (runs['tags.dataset_name'] == dataset_name) &\n",
    "    (runs['params.DATA.SEED'] == str(seed)) &\n",
    "    (runs['tags.estimator_name'] == estimator_name)\n",
    "]\n",
    "if len(selected) > 1:\n",
    "    print('WARNING: more than 1 runs')"
   ]
  },
  {
   "cell_type": "code",
   "execution_count": 59,
   "id": "frozen-turkish",
   "metadata": {
    "collapsed": true,
    "execution": {
     "iopub.execute_input": "2021-09-13T04:02:47.328176Z",
     "iopub.status.busy": "2021-09-13T04:02:47.327818Z",
     "iopub.status.idle": "2021-09-13T04:02:47.746488Z",
     "shell.execute_reply": "2021-09-13T04:02:47.744856Z",
     "shell.execute_reply.started": "2021-09-13T04:02:47.328137Z"
    },
    "jupyter": {
     "outputs_hidden": true
    },
    "tags": []
   },
   "outputs": [
    {
     "name": "stderr",
     "output_type": "stream",
     "text": [
      "GPU available: True, used: True\n",
      "TPU available: False, using: 0 TPU cores\n",
      "Using native 16bit precision.\n"
     ]
    },
    {
     "ename": "AttributeError",
     "evalue": "VAL_SPLIT",
     "output_type": "error",
     "traceback": [
      "\u001b[0;31m---------------------------------------------------------------------------\u001b[0m",
      "\u001b[0;31mAttributeError\u001b[0m                            Traceback (most recent call last)",
      "\u001b[0;32m/tmp/ipykernel_24856/363306755.py\u001b[0m in \u001b[0;36m<module>\u001b[0;34m\u001b[0m\n\u001b[1;32m      8\u001b[0m \u001b[0mtrainer\u001b[0m \u001b[0;34m=\u001b[0m \u001b[0mpl\u001b[0m\u001b[0;34m.\u001b[0m\u001b[0mTrainer\u001b[0m\u001b[0;34m(\u001b[0m\u001b[0;34m**\u001b[0m\u001b[0mkwargs\u001b[0m\u001b[0;34m)\u001b[0m\u001b[0;34m\u001b[0m\u001b[0;34m\u001b[0m\u001b[0m\n\u001b[1;32m      9\u001b[0m \u001b[0;34m\u001b[0m\u001b[0m\n\u001b[0;32m---> 10\u001b[0;31m \u001b[0mdm\u001b[0m \u001b[0;34m=\u001b[0m \u001b[0mActiveRegionDataModule\u001b[0m\u001b[0;34m(\u001b[0m\u001b[0mlearner\u001b[0m\u001b[0;34m.\u001b[0m\u001b[0mcfg\u001b[0m\u001b[0;34m)\u001b[0m\u001b[0;34m\u001b[0m\u001b[0;34m\u001b[0m\u001b[0m\n\u001b[0m\u001b[1;32m     11\u001b[0m \u001b[0mdl\u001b[0m \u001b[0;34m=\u001b[0m \u001b[0mdm\u001b[0m\u001b[0;34m.\u001b[0m\u001b[0mval_dataloader\u001b[0m\u001b[0;34m(\u001b[0m\u001b[0;34m)\u001b[0m\u001b[0;34m\u001b[0m\u001b[0;34m\u001b[0m\u001b[0m\n",
      "\u001b[0;32m~/work/flare-prediction-smarp/arnet/dataset.py\u001b[0m in \u001b[0;36m__init__\u001b[0;34m(self, cfg)\u001b[0m\n\u001b[1;32m    158\u001b[0m         \u001b[0mself\u001b[0m\u001b[0;34m.\u001b[0m\u001b[0mcfg\u001b[0m \u001b[0;34m=\u001b[0m \u001b[0mcfg\u001b[0m\u001b[0;34m\u001b[0m\u001b[0;34m\u001b[0m\u001b[0m\n\u001b[1;32m    159\u001b[0m         \u001b[0mself\u001b[0m\u001b[0;34m.\u001b[0m\u001b[0m_construct_transforms\u001b[0m\u001b[0;34m(\u001b[0m\u001b[0;34m)\u001b[0m\u001b[0;34m\u001b[0m\u001b[0;34m\u001b[0m\u001b[0m\n\u001b[0;32m--> 160\u001b[0;31m         \u001b[0mself\u001b[0m\u001b[0;34m.\u001b[0m\u001b[0m_construct_datasets\u001b[0m\u001b[0;34m(\u001b[0m\u001b[0mbalanced\u001b[0m\u001b[0;34m=\u001b[0m\u001b[0mcfg\u001b[0m\u001b[0;34m.\u001b[0m\u001b[0mDATA\u001b[0m\u001b[0;34m.\u001b[0m\u001b[0mBALANCED\u001b[0m\u001b[0;34m)\u001b[0m\u001b[0;34m\u001b[0m\u001b[0;34m\u001b[0m\u001b[0m\n\u001b[0m\u001b[1;32m    161\u001b[0m         \u001b[0mself\u001b[0m\u001b[0;34m.\u001b[0m\u001b[0mtestmode\u001b[0m \u001b[0;34m=\u001b[0m \u001b[0;34m'test'\u001b[0m\u001b[0;34m\u001b[0m\u001b[0;34m\u001b[0m\u001b[0m\n\u001b[1;32m    162\u001b[0m \u001b[0;34m\u001b[0m\u001b[0m\n",
      "\u001b[0;32m~/work/flare-prediction-smarp/arnet/dataset.py\u001b[0m in \u001b[0;36m_construct_datasets\u001b[0;34m(self, balanced)\u001b[0m\n\u001b[1;32m    174\u001b[0m             \u001b[0mvalidation\u001b[0m\u001b[0;34m=\u001b[0m\u001b[0;32mTrue\u001b[0m\u001b[0;34m,\u001b[0m\u001b[0;34m\u001b[0m\u001b[0;34m\u001b[0m\u001b[0m\n\u001b[1;32m    175\u001b[0m             \u001b[0mseed\u001b[0m\u001b[0;34m=\u001b[0m\u001b[0mself\u001b[0m\u001b[0;34m.\u001b[0m\u001b[0mcfg\u001b[0m\u001b[0;34m.\u001b[0m\u001b[0mDATA\u001b[0m\u001b[0;34m.\u001b[0m\u001b[0mSEED\u001b[0m\u001b[0;34m,\u001b[0m\u001b[0;34m\u001b[0m\u001b[0;34m\u001b[0m\u001b[0m\n\u001b[0;32m--> 176\u001b[0;31m             \u001b[0mval_split\u001b[0m\u001b[0;34m=\u001b[0m\u001b[0mself\u001b[0m\u001b[0;34m.\u001b[0m\u001b[0mcfg\u001b[0m\u001b[0;34m.\u001b[0m\u001b[0mDATA\u001b[0m\u001b[0;34m.\u001b[0m\u001b[0mVAL_SPLIT\u001b[0m\u001b[0;34m,\u001b[0m\u001b[0;34m\u001b[0m\u001b[0;34m\u001b[0m\u001b[0m\n\u001b[0m\u001b[1;32m    177\u001b[0m             \u001b[0mtest_split\u001b[0m\u001b[0;34m=\u001b[0m\u001b[0mself\u001b[0m\u001b[0;34m.\u001b[0m\u001b[0mcfg\u001b[0m\u001b[0;34m.\u001b[0m\u001b[0mDATA\u001b[0m\u001b[0;34m.\u001b[0m\u001b[0mTEST_SPLIT\u001b[0m\u001b[0;34m,\u001b[0m\u001b[0;34m\u001b[0m\u001b[0;34m\u001b[0m\u001b[0m\n\u001b[1;32m    178\u001b[0m         )\n",
      "\u001b[0;32m~/.conda/envs/arnet2/lib/python3.8/site-packages/yacs/config.py\u001b[0m in \u001b[0;36m__getattr__\u001b[0;34m(self, name)\u001b[0m\n\u001b[1;32m    139\u001b[0m             \u001b[0;32mreturn\u001b[0m \u001b[0mself\u001b[0m\u001b[0;34m[\u001b[0m\u001b[0mname\u001b[0m\u001b[0;34m]\u001b[0m\u001b[0;34m\u001b[0m\u001b[0;34m\u001b[0m\u001b[0m\n\u001b[1;32m    140\u001b[0m         \u001b[0;32melse\u001b[0m\u001b[0;34m:\u001b[0m\u001b[0;34m\u001b[0m\u001b[0;34m\u001b[0m\u001b[0m\n\u001b[0;32m--> 141\u001b[0;31m             \u001b[0;32mraise\u001b[0m \u001b[0mAttributeError\u001b[0m\u001b[0;34m(\u001b[0m\u001b[0mname\u001b[0m\u001b[0;34m)\u001b[0m\u001b[0;34m\u001b[0m\u001b[0;34m\u001b[0m\u001b[0m\n\u001b[0m\u001b[1;32m    142\u001b[0m \u001b[0;34m\u001b[0m\u001b[0m\n\u001b[1;32m    143\u001b[0m     \u001b[0;32mdef\u001b[0m \u001b[0m__setattr__\u001b[0m\u001b[0;34m(\u001b[0m\u001b[0mself\u001b[0m\u001b[0;34m,\u001b[0m \u001b[0mname\u001b[0m\u001b[0;34m,\u001b[0m \u001b[0mvalue\u001b[0m\u001b[0;34m)\u001b[0m\u001b[0;34m:\u001b[0m\u001b[0;34m\u001b[0m\u001b[0;34m\u001b[0m\u001b[0m\n",
      "\u001b[0;31mAttributeError\u001b[0m: VAL_SPLIT"
     ]
    }
   ],
   "source": [
    "ckpt_path = selected['tags.checkpoint'].iloc[0]\n",
    "learner = Learner.load_from_checkpoint(ckpt_path)\n",
    "model = learner.model\n",
    "model.eval()\n",
    "\n",
    "kwargs = learner.cfg.TRAINER.todict()\n",
    "# Saved under notebooks/mlruns and notebooks/lightning_logs\n",
    "trainer = pl.Trainer(**kwargs)\n",
    "\n",
    "dm = ActiveRegionDataModule(learner.cfg)\n",
    "dl = dm.val_dataloader()"
   ]
  }
 ],
 "metadata": {
  "kernelspec": {
   "display_name": "Python 3 (ipykernel)",
   "language": "python",
   "name": "python3"
  },
  "language_info": {
   "codemirror_mode": {
    "name": "ipython",
    "version": 3
   },
   "file_extension": ".py",
   "mimetype": "text/x-python",
   "name": "python",
   "nbconvert_exporter": "python",
   "pygments_lexer": "ipython3",
   "version": "3.8.8"
  }
 },
 "nbformat": 4,
 "nbformat_minor": 5
}
